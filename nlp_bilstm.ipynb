{
 "cells": [
  {
   "cell_type": "code",
   "execution_count": 1,
   "id": "c8989075-d6d5-423d-9825-76c035b9575a",
   "metadata": {},
   "outputs": [],
   "source": [
    "import pandas as pd\n",
    "import numpy as np\n",
    "\n",
    "civious_df = pd.read_csv('./data/Dataset.csv.txt', delimiter='\\t')"
   ]
  },
  {
   "cell_type": "markdown",
   "id": "ed1cd71f-07a0-4ac0-bc15-e4723be86c96",
   "metadata": {},
   "source": [
    "#### **데이터 전처리**"
   ]
  },
  {
   "cell_type": "markdown",
   "id": "6e8be997-cd32-44bb-bf22-99943c5e28ef",
   "metadata": {},
   "source": [
    "1. puntuation 제거 (숫자로 비속어를 표현하는 경우도 있기때문에 숫자는 남겨둠)"
   ]
  },
  {
   "cell_type": "markdown",
   "id": "3c2c1b9b-fd9d-4617-9fac-a8f5dcc946e7",
   "metadata": {},
   "source": [
    "null 값의 label을 직접 입력해줌\n",
    "\n",
    "하는 김에 label도 int로 바꿔줌"
   ]
  },
  {
   "cell_type": "code",
   "execution_count": 2,
   "id": "a38db4e1-edf0-41a0-9b7c-d6007b376850",
   "metadata": {},
   "outputs": [],
   "source": [
    "for i in civious_df[civious_df['lable'].isnull()].index :\n",
    "    textNlabel = civious_df.loc[i, 'content'].split('\\t')\n",
    "    civious_df.loc[i, 'content'] = textNlabel[0]\n",
    "    civious_df.loc[i, 'lable'] = int(textNlabel[1])"
   ]
  },
  {
   "cell_type": "code",
   "execution_count": 3,
   "id": "d5cf11f9-cf06-4d9f-9cdb-a54e9ac807cc",
   "metadata": {},
   "outputs": [],
   "source": [
    "civious_df['content'] = civious_df['content'].str.replace(\"[^ㄱ-ㅎㅏ-ㅣ가-힣 0-9]\",\"\", regex=True)\n",
    "# civious_df['content'] = civious_df['content'].str.replace(\"[:punct:]\",\"\", regex=True)"
   ]
  },
  {
   "cell_type": "code",
   "execution_count": 4,
   "id": "6767ffdf-9d2b-40b0-a35b-dd0ae0dbdce4",
   "metadata": {},
   "outputs": [],
   "source": [
    "civious_df['lable'] = civious_df['lable'].apply(lambda x : int(x))"
   ]
  },
  {
   "cell_type": "code",
   "execution_count": 5,
   "id": "68d53b2e-a811-45af-ad81-1bb8bd2cd236",
   "metadata": {},
   "outputs": [],
   "source": [
    "civious_df['lable'] = civious_df['lable'].replace([1,0],[0,1])"
   ]
  },
  {
   "cell_type": "code",
   "execution_count": 6,
   "id": "e811b03b-5475-4afe-8754-ec35089c5af6",
   "metadata": {},
   "outputs": [
    {
     "data": {
      "text/html": [
       "<div>\n",
       "<style scoped>\n",
       "    .dataframe tbody tr th:only-of-type {\n",
       "        vertical-align: middle;\n",
       "    }\n",
       "\n",
       "    .dataframe tbody tr th {\n",
       "        vertical-align: top;\n",
       "    }\n",
       "\n",
       "    .dataframe thead th {\n",
       "        text-align: right;\n",
       "    }\n",
       "</style>\n",
       "<table border=\"1\" class=\"dataframe\">\n",
       "  <thead>\n",
       "    <tr style=\"text-align: right;\">\n",
       "      <th></th>\n",
       "      <th>content</th>\n",
       "      <th>lable</th>\n",
       "    </tr>\n",
       "  </thead>\n",
       "  <tbody>\n",
       "    <tr>\n",
       "      <th>0</th>\n",
       "      <td>이종석 한효주 나오는 드라마 이후로 드라마 안봤다 2년전인가 좀 신선했었지 근데 이...</td>\n",
       "      <td>1</td>\n",
       "    </tr>\n",
       "    <tr>\n",
       "      <th>1</th>\n",
       "      <td>씨바알노무노무 술프노 오늘 저녁은 꽂등심이다ㅠㅜ</td>\n",
       "      <td>1</td>\n",
       "    </tr>\n",
       "    <tr>\n",
       "      <th>2</th>\n",
       "      <td>짱깨 꺼라ㅡ패쓰</td>\n",
       "      <td>1</td>\n",
       "    </tr>\n",
       "    <tr>\n",
       "      <th>3</th>\n",
       "      <td>그들의 사생활  고인이된 설리를 위해서라도 모두 조용하길 지금 누굴 탓한다고 무슨소...</td>\n",
       "      <td>0</td>\n",
       "    </tr>\n",
       "    <tr>\n",
       "      <th>4</th>\n",
       "      <td>아무리 법이 뭣같아도 무슨 자격으로 개인의 신상정보를 불특정 다수에게 공개하는지 도...</td>\n",
       "      <td>0</td>\n",
       "    </tr>\n",
       "  </tbody>\n",
       "</table>\n",
       "</div>"
      ],
      "text/plain": [
       "                                             content  lable\n",
       "0  이종석 한효주 나오는 드라마 이후로 드라마 안봤다 2년전인가 좀 신선했었지 근데 이...      1\n",
       "1                         씨바알노무노무 술프노 오늘 저녁은 꽂등심이다ㅠㅜ      1\n",
       "2                                           짱깨 꺼라ㅡ패쓰      1\n",
       "3  그들의 사생활  고인이된 설리를 위해서라도 모두 조용하길 지금 누굴 탓한다고 무슨소...      0\n",
       "4  아무리 법이 뭣같아도 무슨 자격으로 개인의 신상정보를 불특정 다수에게 공개하는지 도...      0"
      ]
     },
     "execution_count": 6,
     "metadata": {},
     "output_type": "execute_result"
    }
   ],
   "source": [
    "civious_df.head(5)"
   ]
  },
  {
   "cell_type": "markdown",
   "id": "66b2317d-6fe5-4222-a851-cf72aae19261",
   "metadata": {},
   "source": [
    "2. 중복 제거"
   ]
  },
  {
   "cell_type": "code",
   "execution_count": 7,
   "id": "b2eef848-f2a6-4a56-93d8-ff8aaf63aed3",
   "metadata": {},
   "outputs": [
    {
     "data": {
      "text/plain": [
       "content    9982\n",
       "lable         2\n",
       "dtype: int64"
      ]
     },
     "execution_count": 7,
     "metadata": {},
     "output_type": "execute_result"
    }
   ],
   "source": [
    "civious_df.nunique()"
   ]
  },
  {
   "cell_type": "code",
   "execution_count": 8,
   "id": "3e244443-b692-4c3a-9c1f-d3d04af39dcc",
   "metadata": {},
   "outputs": [],
   "source": [
    "civious_df.drop_duplicates(subset=['content'], inplace=True, ignore_index=True)"
   ]
  },
  {
   "cell_type": "code",
   "execution_count": 9,
   "id": "4a65f7ad-daab-4891-89ca-4097bdf3bac4",
   "metadata": {},
   "outputs": [
    {
     "data": {
      "text/plain": [
       "(9982, 2)"
      ]
     },
     "execution_count": 9,
     "metadata": {},
     "output_type": "execute_result"
    }
   ],
   "source": [
    "civious_df.shape"
   ]
  },
  {
   "cell_type": "markdown",
   "id": "ede3638a-7e33-4b29-a8d1-cf27ad5d451a",
   "metadata": {},
   "source": [
    "3. puntuation 제거 후 빈 문자열이 된 데이터가 있는지 확인"
   ]
  },
  {
   "cell_type": "code",
   "execution_count": 10,
   "id": "873f4bc5-b31e-4f57-af8f-affdc8bab725",
   "metadata": {},
   "outputs": [],
   "source": [
    "civious_df['content'].replace('', np.nan, inplace=True)"
   ]
  },
  {
   "cell_type": "code",
   "execution_count": 11,
   "id": "9dfa817a-8da0-48ec-8976-319da9371a56",
   "metadata": {},
   "outputs": [
    {
     "data": {
      "text/plain": [
       "(9982, 2)"
      ]
     },
     "execution_count": 11,
     "metadata": {},
     "output_type": "execute_result"
    }
   ],
   "source": [
    "civious_df.shape"
   ]
  },
  {
   "cell_type": "code",
   "execution_count": 12,
   "id": "9d8a3e3c-bc87-4734-a194-ecd03771a3d7",
   "metadata": {},
   "outputs": [
    {
     "name": "stdout",
     "output_type": "stream",
     "text": [
      "content    0\n",
      "lable      0\n",
      "dtype: int64\n"
     ]
    }
   ],
   "source": [
    "print(civious_df.isnull().sum())"
   ]
  },
  {
   "cell_type": "markdown",
   "id": "4bb0b43e-c655-486c-8293-6ce4b4d801ca",
   "metadata": {},
   "source": [
    "content column에 빈 문자열은 없음!"
   ]
  },
  {
   "cell_type": "markdown",
   "id": "846dd4e2-0043-4004-9c2e-5129c63ebe61",
   "metadata": {},
   "source": [
    "#### **토큰화**"
   ]
  },
  {
   "cell_type": "code",
   "execution_count": 13,
   "id": "32540e8b-95dc-4e18-8b3c-b871fae60d0b",
   "metadata": {},
   "outputs": [],
   "source": [
    "import re\n",
    "stopwords = []\n",
    "stopwords_file = open('./data/korean_stopwords.txt', 'r', encoding='UTF8')\n",
    "stopwords_lines = stopwords_file.readlines()\n",
    "for line in stopwords_lines :\n",
    "    stopwords.append(re.split('\\t|\\n', line)[0])"
   ]
  },
  {
   "cell_type": "code",
   "execution_count": 14,
   "id": "bf2509b8-a8e1-4855-89c1-93b8ef8bf11f",
   "metadata": {},
   "outputs": [
    {
     "data": {
      "text/plain": [
       "596"
      ]
     },
     "execution_count": 14,
     "metadata": {},
     "output_type": "execute_result"
    }
   ],
   "source": [
    "stopwords = list(set(stopwords))\n",
    "len(stopwords)"
   ]
  },
  {
   "cell_type": "code",
   "execution_count": 15,
   "id": "09ed8376-b64e-4fff-b0df-5e4c57c0245c",
   "metadata": {},
   "outputs": [],
   "source": [
    "import jpype #이거 안쓰면 에러남!!!!\n",
    "from konlpy.tag import Okt\n",
    "\n",
    "okt = Okt()"
   ]
  },
  {
   "cell_type": "code",
   "execution_count": 16,
   "id": "cdc68cf4-d5a2-4085-8492-72dc6adc7018",
   "metadata": {},
   "outputs": [],
   "source": [
    "toknized_df = pd.DataFrame(columns=['text', 'label'])"
   ]
  },
  {
   "cell_type": "code",
   "execution_count": 17,
   "id": "992bec0c-7cd3-4539-97e3-04ccfc83d2c9",
   "metadata": {},
   "outputs": [],
   "source": [
    "for i in civious_df.index :\n",
    "    sentence = civious_df.loc[i, 'content']\n",
    "    temp_X = okt.morphs(sentence) # 토큰화\n",
    "    temp_X = [word for word in temp_X if not word in stopwords] # 불용어 제거\n",
    "    toknized_df.loc[i, 'text'] = temp_X"
   ]
  },
  {
   "cell_type": "code",
   "execution_count": 18,
   "id": "be0db059-0daa-4d44-a94c-05900dc59fc0",
   "metadata": {},
   "outputs": [],
   "source": [
    "toknized_df['label'] = civious_df['lable']"
   ]
  },
  {
   "cell_type": "code",
   "execution_count": 19,
   "id": "56adb2da-75d8-4d74-8220-8d58a89bb649",
   "metadata": {},
   "outputs": [
    {
     "data": {
      "text/html": [
       "<div>\n",
       "<style scoped>\n",
       "    .dataframe tbody tr th:only-of-type {\n",
       "        vertical-align: middle;\n",
       "    }\n",
       "\n",
       "    .dataframe tbody tr th {\n",
       "        vertical-align: top;\n",
       "    }\n",
       "\n",
       "    .dataframe thead th {\n",
       "        text-align: right;\n",
       "    }\n",
       "</style>\n",
       "<table border=\"1\" class=\"dataframe\">\n",
       "  <thead>\n",
       "    <tr style=\"text-align: right;\">\n",
       "      <th></th>\n",
       "      <th>text</th>\n",
       "      <th>label</th>\n",
       "    </tr>\n",
       "  </thead>\n",
       "  <tbody>\n",
       "    <tr>\n",
       "      <th>0</th>\n",
       "      <td>[이종석, 한효주, 나오는, 드라마, 이후, 드라마, 봤다, 2년, 전인가, 신선했...</td>\n",
       "      <td>1</td>\n",
       "    </tr>\n",
       "    <tr>\n",
       "      <th>1</th>\n",
       "      <td>[씨, 바알, 노무, 노무, 술프노, 오늘, 저녁, 은, 꽂, 등심, 이다, ㅠㅜ]</td>\n",
       "      <td>1</td>\n",
       "    </tr>\n",
       "    <tr>\n",
       "      <th>2</th>\n",
       "      <td>[짱깨, 꺼라, ㅡ, 패쓰]</td>\n",
       "      <td>1</td>\n",
       "    </tr>\n",
       "    <tr>\n",
       "      <th>3</th>\n",
       "      <td>[사생활, 고인, 된, 설리, 위, 해서라도, 조용하길, 누굴, 탓, 한다고, 소,...</td>\n",
       "      <td>0</td>\n",
       "    </tr>\n",
       "    <tr>\n",
       "      <th>4</th>\n",
       "      <td>[아무리, 법, 뭣같아, 도, 자격, 개인, 신상, 정보, 불, 특정, 공개, 하는...</td>\n",
       "      <td>0</td>\n",
       "    </tr>\n",
       "  </tbody>\n",
       "</table>\n",
       "</div>"
      ],
      "text/plain": [
       "                                                text  label\n",
       "0  [이종석, 한효주, 나오는, 드라마, 이후, 드라마, 봤다, 2년, 전인가, 신선했...      1\n",
       "1     [씨, 바알, 노무, 노무, 술프노, 오늘, 저녁, 은, 꽂, 등심, 이다, ㅠㅜ]      1\n",
       "2                                    [짱깨, 꺼라, ㅡ, 패쓰]      1\n",
       "3  [사생활, 고인, 된, 설리, 위, 해서라도, 조용하길, 누굴, 탓, 한다고, 소,...      0\n",
       "4  [아무리, 법, 뭣같아, 도, 자격, 개인, 신상, 정보, 불, 특정, 공개, 하는...      0"
      ]
     },
     "execution_count": 19,
     "metadata": {},
     "output_type": "execute_result"
    }
   ],
   "source": [
    "toknized_df.head(5)"
   ]
  },
  {
   "cell_type": "code",
   "execution_count": 20,
   "id": "0d6a44f0-a25c-487d-87f4-9f202f3385cb",
   "metadata": {},
   "outputs": [],
   "source": [
    "# toknized_df.to_csv('./data/toknized_data.csv', index=False)"
   ]
  },
  {
   "cell_type": "markdown",
   "id": "35a64277-ad22-490a-aad0-0cca1d1645b1",
   "metadata": {},
   "source": [
    "#### **인코딩**"
   ]
  },
  {
   "cell_type": "code",
   "execution_count": 21,
   "id": "2c8b800b-f2b1-40be-b754-bab3bf8b9fdd",
   "metadata": {},
   "outputs": [],
   "source": [
    "import tensorflow as tf\n",
    "from tensorflow import keras\n",
    "from tensorflow.keras.preprocessing.text import Tokenizer\n",
    "\n",
    "tokenizer = Tokenizer()\n",
    "tokenizer.fit_on_texts(toknized_df['text'])"
   ]
  },
  {
   "cell_type": "code",
   "execution_count": 22,
   "id": "09601e85-5166-446d-9a91-63a327843db2",
   "metadata": {},
   "outputs": [],
   "source": [
    "threshold = 2\n",
    "total_cnt = len(tokenizer.word_index) # 단어의 수\n",
    "# rare_cnt = 0 # 등장 빈도수가 threshold보다 작은 단어의 개수를 카운트\n",
    "# total_freq = 0 # 훈련 데이터의 전체 단어 빈도수 총 합\n",
    "# rare_freq = 0 # 등장 빈도수가 threshold보다 작은 단어의 등장 빈도수의 총 합\n",
    "\n",
    "# # 단어와 빈도수의 쌍(pair)을 key와 value로 받는다.\n",
    "# for key, value in tokenizer.word_counts.items():\n",
    "#     total_freq = total_freq + value\n",
    "\n",
    "#     # 단어의 등장 빈도수가 threshold보다 작으면\n",
    "#     if (value < threshold):\n",
    "#         rare_cnt = rare_cnt + 1\n",
    "#         rare_freq = rare_freq + value\n",
    "\n",
    "# print('단어 집합(vocabulary)의 크기 :',total_cnt)\n",
    "# print('등장 빈도가 %s번 이하인 희귀 단어의 수: %s'%(threshold - 1, rare_cnt))\n",
    "# print(\"단어 집합에서 희귀 단어의 비율:\", (rare_cnt / total_cnt)*100)\n",
    "# print(\"전체 등장 빈도에서 희귀 단어 등장 빈도 비율:\", (rare_freq / total_freq)*100)"
   ]
  },
  {
   "cell_type": "code",
   "execution_count": 23,
   "id": "7ba3ed8f-f7bf-4437-b4c7-6075dadbe243",
   "metadata": {},
   "outputs": [],
   "source": [
    "vocab_size = total_cnt\n",
    "# vocab_size = total_cnt - rare_cnt + 1\n",
    "# print('단어 집합의 크기 :',vocab_size)"
   ]
  },
  {
   "cell_type": "code",
   "execution_count": 24,
   "id": "bb023838-90fc-4e90-a5db-d70e8b512146",
   "metadata": {},
   "outputs": [],
   "source": [
    "tokenizer = Tokenizer(vocab_size) \n",
    "tokenizer.fit_on_texts(toknized_df['text'])\n",
    "toknized_df['encoding'] = tokenizer.texts_to_sequences(toknized_df['text'])"
   ]
  },
  {
   "cell_type": "code",
   "execution_count": 25,
   "id": "d755c734-b049-46ae-b521-821281915b8c",
   "metadata": {},
   "outputs": [
    {
     "data": {
      "text/html": [
       "<div>\n",
       "<style scoped>\n",
       "    .dataframe tbody tr th:only-of-type {\n",
       "        vertical-align: middle;\n",
       "    }\n",
       "\n",
       "    .dataframe tbody tr th {\n",
       "        vertical-align: top;\n",
       "    }\n",
       "\n",
       "    .dataframe thead th {\n",
       "        text-align: right;\n",
       "    }\n",
       "</style>\n",
       "<table border=\"1\" class=\"dataframe\">\n",
       "  <thead>\n",
       "    <tr style=\"text-align: right;\">\n",
       "      <th></th>\n",
       "      <th>text</th>\n",
       "      <th>label</th>\n",
       "      <th>encoding</th>\n",
       "    </tr>\n",
       "  </thead>\n",
       "  <tbody>\n",
       "    <tr>\n",
       "      <th>0</th>\n",
       "      <td>[이종석, 한효주, 나오는, 드라마, 이후, 드라마, 봤다, 2년, 전인가, 신선했...</td>\n",
       "      <td>1</td>\n",
       "      <td>[2371, 1713, 494, 64, 708, 64, 1555, 1238, 668...</td>\n",
       "    </tr>\n",
       "    <tr>\n",
       "      <th>1</th>\n",
       "      <td>[씨, 바알, 노무, 노무, 술프노, 오늘, 저녁, 은, 꽂, 등심, 이다, ㅠㅜ]</td>\n",
       "      <td>1</td>\n",
       "      <td>[44, 6690, 1239, 1239, 10611, 188, 3193, 2, 10...</td>\n",
       "    </tr>\n",
       "    <tr>\n",
       "      <th>2</th>\n",
       "      <td>[짱깨, 꺼라, ㅡ, 패쓰]</td>\n",
       "      <td>1</td>\n",
       "      <td>[294, 10614, 304, 6691]</td>\n",
       "    </tr>\n",
       "    <tr>\n",
       "      <th>3</th>\n",
       "      <td>[사생활, 고인, 된, 설리, 위, 해서라도, 조용하길, 누굴, 탓, 한다고, 소,...</td>\n",
       "      <td>0</td>\n",
       "      <td>[1430, 516, 124, 151, 133, 10615, 10616, 1714,...</td>\n",
       "    </tr>\n",
       "    <tr>\n",
       "      <th>4</th>\n",
       "      <td>[아무리, 법, 뭣같아, 도, 자격, 개인, 신상, 정보, 불, 특정, 공개, 하는...</td>\n",
       "      <td>0</td>\n",
       "      <td>[358, 373, 10617, 1, 1715, 390, 1328, 1016, 81...</td>\n",
       "    </tr>\n",
       "  </tbody>\n",
       "</table>\n",
       "</div>"
      ],
      "text/plain": [
       "                                                text  label  \\\n",
       "0  [이종석, 한효주, 나오는, 드라마, 이후, 드라마, 봤다, 2년, 전인가, 신선했...      1   \n",
       "1     [씨, 바알, 노무, 노무, 술프노, 오늘, 저녁, 은, 꽂, 등심, 이다, ㅠㅜ]      1   \n",
       "2                                    [짱깨, 꺼라, ㅡ, 패쓰]      1   \n",
       "3  [사생활, 고인, 된, 설리, 위, 해서라도, 조용하길, 누굴, 탓, 한다고, 소,...      0   \n",
       "4  [아무리, 법, 뭣같아, 도, 자격, 개인, 신상, 정보, 불, 특정, 공개, 하는...      0   \n",
       "\n",
       "                                            encoding  \n",
       "0  [2371, 1713, 494, 64, 708, 64, 1555, 1238, 668...  \n",
       "1  [44, 6690, 1239, 1239, 10611, 188, 3193, 2, 10...  \n",
       "2                            [294, 10614, 304, 6691]  \n",
       "3  [1430, 516, 124, 151, 133, 10615, 10616, 1714,...  \n",
       "4  [358, 373, 10617, 1, 1715, 390, 1328, 1016, 81...  "
      ]
     },
     "execution_count": 25,
     "metadata": {},
     "output_type": "execute_result"
    }
   ],
   "source": [
    "toknized_df.head(5)"
   ]
  },
  {
   "cell_type": "markdown",
   "id": "971e10bc-a4bd-48e7-8604-6ede858c8c96",
   "metadata": {},
   "source": [
    "빈 문자열 없는지 다시한번 확인"
   ]
  },
  {
   "cell_type": "code",
   "execution_count": 26,
   "id": "35b5131b-d658-4d1c-a39e-ef9ea63ac6a6",
   "metadata": {},
   "outputs": [],
   "source": [
    "drop_index = [index for index, sentence in enumerate(toknized_df['encoding']) if len(sentence) < 1]"
   ]
  },
  {
   "cell_type": "code",
   "execution_count": 27,
   "id": "4f87b1ac-87c4-4029-8a1a-fad2534df3d2",
   "metadata": {},
   "outputs": [
    {
     "data": {
      "text/plain": [
       "0"
      ]
     },
     "execution_count": 27,
     "metadata": {},
     "output_type": "execute_result"
    }
   ],
   "source": [
    "len(drop_index)"
   ]
  },
  {
   "cell_type": "code",
   "execution_count": 28,
   "id": "88bd1968-ddfb-496b-8b49-a6c06b657602",
   "metadata": {},
   "outputs": [],
   "source": [
    "toknized_df.drop(index=drop_index, axis=0, inplace=True)\n",
    "# toknized_df = np.delete(toknized_df, drop_index, axis=0)\n",
    "toknized_df.reset_index(inplace=True, drop=True)"
   ]
  },
  {
   "cell_type": "code",
   "execution_count": 29,
   "id": "2436460e-08e4-408a-8ac3-b4a0cfc56a09",
   "metadata": {},
   "outputs": [
    {
     "data": {
      "text/html": [
       "<div>\n",
       "<style scoped>\n",
       "    .dataframe tbody tr th:only-of-type {\n",
       "        vertical-align: middle;\n",
       "    }\n",
       "\n",
       "    .dataframe tbody tr th {\n",
       "        vertical-align: top;\n",
       "    }\n",
       "\n",
       "    .dataframe thead th {\n",
       "        text-align: right;\n",
       "    }\n",
       "</style>\n",
       "<table border=\"1\" class=\"dataframe\">\n",
       "  <thead>\n",
       "    <tr style=\"text-align: right;\">\n",
       "      <th></th>\n",
       "      <th>text</th>\n",
       "      <th>label</th>\n",
       "      <th>encoding</th>\n",
       "    </tr>\n",
       "  </thead>\n",
       "  <tbody>\n",
       "    <tr>\n",
       "      <th>0</th>\n",
       "      <td>[이종석, 한효주, 나오는, 드라마, 이후, 드라마, 봤다, 2년, 전인가, 신선했...</td>\n",
       "      <td>1</td>\n",
       "      <td>[2371, 1713, 494, 64, 708, 64, 1555, 1238, 668...</td>\n",
       "    </tr>\n",
       "    <tr>\n",
       "      <th>1</th>\n",
       "      <td>[씨, 바알, 노무, 노무, 술프노, 오늘, 저녁, 은, 꽂, 등심, 이다, ㅠㅜ]</td>\n",
       "      <td>1</td>\n",
       "      <td>[44, 6690, 1239, 1239, 10611, 188, 3193, 2, 10...</td>\n",
       "    </tr>\n",
       "    <tr>\n",
       "      <th>2</th>\n",
       "      <td>[짱깨, 꺼라, ㅡ, 패쓰]</td>\n",
       "      <td>1</td>\n",
       "      <td>[294, 10614, 304, 6691]</td>\n",
       "    </tr>\n",
       "    <tr>\n",
       "      <th>3</th>\n",
       "      <td>[사생활, 고인, 된, 설리, 위, 해서라도, 조용하길, 누굴, 탓, 한다고, 소,...</td>\n",
       "      <td>0</td>\n",
       "      <td>[1430, 516, 124, 151, 133, 10615, 10616, 1714,...</td>\n",
       "    </tr>\n",
       "    <tr>\n",
       "      <th>4</th>\n",
       "      <td>[아무리, 법, 뭣같아, 도, 자격, 개인, 신상, 정보, 불, 특정, 공개, 하는...</td>\n",
       "      <td>0</td>\n",
       "      <td>[358, 373, 10617, 1, 1715, 390, 1328, 1016, 81...</td>\n",
       "    </tr>\n",
       "    <tr>\n",
       "      <th>...</th>\n",
       "      <td>...</td>\n",
       "      <td>...</td>\n",
       "      <td>...</td>\n",
       "    </tr>\n",
       "    <tr>\n",
       "      <th>9977</th>\n",
       "      <td>[거, 보다, 더한, 막장, 드라마, 도, 넋, 놓고, 보면서]</td>\n",
       "      <td>0</td>\n",
       "      <td>[17, 50, 2069, 1501, 64, 1, 9166, 1068, 606]</td>\n",
       "    </tr>\n",
       "    <tr>\n",
       "      <th>9978</th>\n",
       "      <td>[머, 제네시스, 올라프, 에디, 션]</td>\n",
       "      <td>0</td>\n",
       "      <td>[239, 2310, 27373, 27374, 3034]</td>\n",
       "    </tr>\n",
       "    <tr>\n",
       "      <th>9979</th>\n",
       "      <td>[항상, ㅡ, ㅡ, 지랄, 들이야, 남자, 벗겨, 봐라]</td>\n",
       "      <td>1</td>\n",
       "      <td>[282, 304, 304, 72, 27375, 27, 27376, 199]</td>\n",
       "    </tr>\n",
       "    <tr>\n",
       "      <th>9980</th>\n",
       "      <td>[첫, 번째, 이유, ㄹㅇ, 맞지, 특히, 뉴스, 기사, 줄, 읽은, 학생, 끼리,...</td>\n",
       "      <td>1</td>\n",
       "      <td>[1125, 3349, 216, 409, 703, 644, 581, 48, 134,...</td>\n",
       "    </tr>\n",
       "    <tr>\n",
       "      <th>9981</th>\n",
       "      <td>[폰, 누가, 쓰냐, 도, 못잡는, 폰, 쓰래, 기, 통, 에나, 버려라]</td>\n",
       "      <td>1</td>\n",
       "      <td>[689, 119, 2929, 1, 5495, 689, 1531, 54, 662, ...</td>\n",
       "    </tr>\n",
       "  </tbody>\n",
       "</table>\n",
       "<p>9982 rows × 3 columns</p>\n",
       "</div>"
      ],
      "text/plain": [
       "                                                   text  label  \\\n",
       "0     [이종석, 한효주, 나오는, 드라마, 이후, 드라마, 봤다, 2년, 전인가, 신선했...      1   \n",
       "1        [씨, 바알, 노무, 노무, 술프노, 오늘, 저녁, 은, 꽂, 등심, 이다, ㅠㅜ]      1   \n",
       "2                                       [짱깨, 꺼라, ㅡ, 패쓰]      1   \n",
       "3     [사생활, 고인, 된, 설리, 위, 해서라도, 조용하길, 누굴, 탓, 한다고, 소,...      0   \n",
       "4     [아무리, 법, 뭣같아, 도, 자격, 개인, 신상, 정보, 불, 특정, 공개, 하는...      0   \n",
       "...                                                 ...    ...   \n",
       "9977                [거, 보다, 더한, 막장, 드라마, 도, 넋, 놓고, 보면서]      0   \n",
       "9978                              [머, 제네시스, 올라프, 에디, 션]      0   \n",
       "9979                    [항상, ㅡ, ㅡ, 지랄, 들이야, 남자, 벗겨, 봐라]      1   \n",
       "9980  [첫, 번째, 이유, ㄹㅇ, 맞지, 특히, 뉴스, 기사, 줄, 읽은, 학생, 끼리,...      1   \n",
       "9981          [폰, 누가, 쓰냐, 도, 못잡는, 폰, 쓰래, 기, 통, 에나, 버려라]      1   \n",
       "\n",
       "                                               encoding  \n",
       "0     [2371, 1713, 494, 64, 708, 64, 1555, 1238, 668...  \n",
       "1     [44, 6690, 1239, 1239, 10611, 188, 3193, 2, 10...  \n",
       "2                               [294, 10614, 304, 6691]  \n",
       "3     [1430, 516, 124, 151, 133, 10615, 10616, 1714,...  \n",
       "4     [358, 373, 10617, 1, 1715, 390, 1328, 1016, 81...  \n",
       "...                                                 ...  \n",
       "9977       [17, 50, 2069, 1501, 64, 1, 9166, 1068, 606]  \n",
       "9978                    [239, 2310, 27373, 27374, 3034]  \n",
       "9979         [282, 304, 304, 72, 27375, 27, 27376, 199]  \n",
       "9980  [1125, 3349, 216, 409, 703, 644, 581, 48, 134,...  \n",
       "9981  [689, 119, 2929, 1, 5495, 689, 1531, 54, 662, ...  \n",
       "\n",
       "[9982 rows x 3 columns]"
      ]
     },
     "execution_count": 29,
     "metadata": {},
     "output_type": "execute_result"
    }
   ],
   "source": [
    "toknized_df"
   ]
  },
  {
   "cell_type": "code",
   "execution_count": 30,
   "id": "b6110b6b-d2f0-4f28-be8b-4f46551cd406",
   "metadata": {},
   "outputs": [
    {
     "data": {
      "text/plain": [
       "0    4995\n",
       "1    4987\n",
       "Name: label, dtype: int64"
      ]
     },
     "execution_count": 30,
     "metadata": {},
     "output_type": "execute_result"
    }
   ],
   "source": [
    "toknized_df['label'].value_counts()"
   ]
  },
  {
   "cell_type": "markdown",
   "id": "d23b2337-de6b-475f-b4ca-0c8fed27d75c",
   "metadata": {},
   "source": [
    "#### **패딩**\n",
    "샘플 길이 맞춰주는 과정"
   ]
  },
  {
   "cell_type": "code",
   "execution_count": 31,
   "id": "d588ae8f-442d-4734-9a7b-ea5e24996e20",
   "metadata": {},
   "outputs": [
    {
     "name": "stdout",
     "output_type": "stream",
     "text": [
      "시퀀스 최대 길이 : 245\n",
      "시퀀스 평균 길이 : 12.15317571628932\n"
     ]
    },
    {
     "data": {
      "image/png": "[encoded data removed]",
      "text/plain": [
       "<Figure size 432x288 with 1 Axes>"
      ]
     },
     "metadata": {
      "needs_background": "light"
     },
     "output_type": "display_data"
    }
   ],
   "source": [
    "import matplotlib.pyplot as plt\n",
    "\n",
    "print('시퀀스 최대 길이 :',max(len(l) for l in toknized_df['encoding']))\n",
    "print('시퀀스 평균 길이 :',sum(map(len, toknized_df['encoding']))/len(toknized_df['encoding']))\n",
    "plt.hist([len(s) for s in toknized_df['encoding']], bins=50)\n",
    "plt.xlabel('length of samples')\n",
    "plt.ylabel('number of samples')\n",
    "plt.show()"
   ]
  },
  {
   "cell_type": "markdown",
   "id": "110a074a-8f78-4d28-af1e-a73603b1ea60",
   "metadata": {},
   "source": [
    "최적의 시퀀스 길이(대부분의 텍스트가 내용이 잘리지 않도록 할 수 있는 최적의 max_len의 값)는?"
   ]
  },
  {
   "cell_type": "code",
   "execution_count": 32,
   "id": "3329ee7b-8a24-4ffd-899b-6e042e42a465",
   "metadata": {},
   "outputs": [],
   "source": [
    "def below_threshold_len(max_len, nested_list):\n",
    "  cnt = 0\n",
    "  for s in nested_list:\n",
    "    if(len(s) <= max_len):\n",
    "        cnt = cnt + 1\n",
    "  print('전체 샘플 중 길이가 %s 이하인 샘플의 비율: %s'%(max_len, (cnt / len(nested_list))*100))"
   ]
  },
  {
   "cell_type": "code",
   "execution_count": 33,
   "id": "b944e5a4-0449-45a2-b6aa-b20a42b873a9",
   "metadata": {},
   "outputs": [
    {
     "name": "stdout",
     "output_type": "stream",
     "text": [
      "전체 샘플 중 길이가 40 이하인 샘플의 비율: 98.15668202764977\n"
     ]
    }
   ],
   "source": [
    "max_len = 40\n",
    "below_threshold_len(max_len, toknized_df['encoding'])"
   ]
  },
  {
   "cell_type": "markdown",
   "id": "fe2e93b1-99a8-4ce9-8ed2-db52c8ca80a3",
   "metadata": {},
   "source": [
    "전체 데이터 중 약 98.2%의 샘플이 40 이하의 길이를 가짐. 모든 시퀀스 길이를 40으로 맞추기로 결정."
   ]
  },
  {
   "cell_type": "code",
   "execution_count": 34,
   "id": "6207ac21-7524-4de1-8a87-65863b06ffa7",
   "metadata": {},
   "outputs": [],
   "source": [
    "from tensorflow.keras.preprocessing.sequence import pad_sequences\n",
    "\n",
    "encoded_text = pad_sequences(toknized_df['encoding'], maxlen = max_len)"
   ]
  },
  {
   "cell_type": "code",
   "execution_count": 35,
   "id": "258870f9-8e1b-4c4d-af9c-41d61ea58e16",
   "metadata": {},
   "outputs": [],
   "source": [
    "encoded_df = pd.DataFrame(data=encoded_text)"
   ]
  },
  {
   "cell_type": "code",
   "execution_count": 36,
   "id": "aba04ff4-83a7-440c-aaf4-bb1e0ee6b01c",
   "metadata": {},
   "outputs": [],
   "source": [
    "from sklearn.model_selection import train_test_split\n",
    "\n",
    "# X_train, X_valid, y_train, y_valid = train_test_split(encoded_df, toknized_df['label'], random_state=42)"
   ]
  },
  {
   "cell_type": "code",
   "execution_count": 37,
   "id": "bbe95270-c5fb-4d73-9b05-eb0b9862abf0",
   "metadata": {},
   "outputs": [],
   "source": [
    "X_train = encoded_df\n",
    "y_train = toknized_df['label']"
   ]
  },
  {
   "cell_type": "markdown",
   "id": "17812429-0fa2-41c0-9f6c-84df08bc3f61",
   "metadata": {},
   "source": [
    "### **Deep learning**"
   ]
  },
  {
   "cell_type": "markdown",
   "id": "30005fba-f6c0-40ce-bb67-022601642d43",
   "metadata": {
    "tags": []
   },
   "source": [
    "3. BiLSTM"
   ]
  },
  {
   "cell_type": "code",
   "execution_count": 38,
   "id": "6903280c-514b-4b0d-a4ac-957f17c3c074",
   "metadata": {},
   "outputs": [],
   "source": [
    "from tensorflow.keras.layers import Embedding, Dense, LSTM, Concatenate, Bidirectional, Dropout\n",
    "from tensorflow.keras.models import Sequential\n",
    "from tensorflow.keras.models import load_model\n",
    "from tensorflow.keras.callbacks import EarlyStopping, ModelCheckpoint"
   ]
  },
  {
   "cell_type": "code",
   "execution_count": 39,
   "id": "0170884f-f4c0-42e1-b89a-bb033fa8f9c3",
   "metadata": {},
   "outputs": [],
   "source": [
    "bilstm_model = Sequential()\n",
    "bilstm_model.add(Embedding(vocab_size, 100))\n",
    "bilstm_model.add(Bidirectional(LSTM(100)))\n",
    "bilstm_model.add(Dense(1, activation='sigmoid'))"
   ]
  },
  {
   "cell_type": "code",
   "execution_count": 40,
   "id": "9d05d898-da8e-4588-bdf6-549cb3d7af34",
   "metadata": {},
   "outputs": [],
   "source": [
    "es = EarlyStopping(monitor='val_loss', mode='min', verbose=1, patience=4)\n",
    "mc_bilstm = ModelCheckpoint('bilstm_model.h5', monitor='val_acc', mode='max', verbose=1, save_best_only=True)"
   ]
  },
  {
   "cell_type": "code",
   "execution_count": 41,
   "id": "ff631643-31e6-4c8e-a265-57e798c66437",
   "metadata": {},
   "outputs": [
    {
     "name": "stdout",
     "output_type": "stream",
     "text": [
      "Epoch 1/15\n",
      "134/134 [==============================] - 19s 94ms/step - loss: 0.5457 - acc: 0.7012 - val_loss: 0.3914 - val_acc: 0.8277\n",
      "\n",
      "Epoch 00001: val_acc improved from -inf to 0.82774, saving model to bilstm_model.h5\n",
      "Epoch 2/15\n",
      "134/134 [==============================] - 11s 85ms/step - loss: 0.1930 - acc: 0.9264 - val_loss: 0.4190 - val_acc: 0.8257\n",
      "\n",
      "Epoch 00002: val_acc did not improve from 0.82774\n",
      "Epoch 3/15\n",
      "134/134 [==============================] - 11s 84ms/step - loss: 0.0500 - acc: 0.9846 - val_loss: 0.5457 - val_acc: 0.8257\n",
      "\n",
      "Epoch 00003: val_acc did not improve from 0.82774\n",
      "Epoch 4/15\n",
      "134/134 [==============================] - 11s 85ms/step - loss: 0.0161 - acc: 0.9967 - val_loss: 0.6602 - val_acc: 0.8162\n",
      "\n",
      "Epoch 00004: val_acc did not improve from 0.82774\n",
      "Epoch 5/15\n",
      "134/134 [==============================] - 11s 84ms/step - loss: 0.0063 - acc: 0.9985 - val_loss: 0.7672 - val_acc: 0.8217\n",
      "\n",
      "Epoch 00005: val_acc did not improve from 0.82774\n",
      "Epoch 00005: early stopping\n"
     ]
    }
   ],
   "source": [
    "bilstm_model.compile(optimizer='adam', loss='binary_crossentropy', metrics=['acc'])\n",
    "lstm_history = bilstm_model.fit(X_train, y_train, epochs=15, callbacks=[es, mc_bilstm], batch_size=60, validation_split=0.2)"
   ]
  },
  {
   "cell_type": "code",
   "execution_count": 42,
   "id": "93e04b40-0b9e-4f51-9fcb-7c764242f917",
   "metadata": {},
   "outputs": [],
   "source": [
    "bilstm_loaded_model = load_model('bilstm_model.h5')\n",
    "# print(\"\\n 테스트 정확도: %.4f\" % (bilstm_loaded_model.evaluate(X_valid, y_valid)[1]))"
   ]
  },
  {
   "cell_type": "code",
   "execution_count": 43,
   "id": "160154e3-632b-4e96-bfed-faede5b94df5",
   "metadata": {},
   "outputs": [],
   "source": [
    "# model_json = bilstm_loaded_model.to_json()\n",
    "# with open(\"../AIB_filter_posting/filter_app/dl_model/model.json\", \"w\") as json_file:\n",
    "#     json_file.write(model_json)\n",
    "# # serialize weights to HDF5\n",
    "# model.save_weights(\"../AIB_filter_posting/filter_app/dl_model/model.h5\")"
   ]
  },
  {
   "cell_type": "code",
   "execution_count": 44,
   "id": "9694ba1a-06dc-41e3-af94-8bce7c3441e8",
   "metadata": {},
   "outputs": [],
   "source": [
    "def preprocess_text(new_sentence):\n",
    "    new_sentence = okt.morphs(new_sentence, stem=True) # 토큰화\n",
    "    new_sentence = [word for word in new_sentence if not word in stopwords] # 불용어 제거\n",
    "    encoded = tokenizer.texts_to_sequences([new_sentence]) # 정수 인코딩\n",
    "    pad_new = pad_sequences(encoded, maxlen = max_len) # 패딩\n",
    "    return pad_new"
   ]
  },
  {
   "cell_type": "code",
   "execution_count": 45,
   "id": "ea8e508b-9a0a-4712-9f40-c0f1be967b33",
   "metadata": {},
   "outputs": [],
   "source": [
    "def bilstm_predict(new_sentence):\n",
    "  processed_text = preprocess_text(new_sentence)\n",
    "  score = float(bilstm_loaded_model.predict(processed_text)) # 예측\n",
    "  if(score > 0.5):\n",
    "    print(\"{:.2f}% 확률로 악의적인 글입니다.\\n\".format(score * 100))\n",
    "  else:\n",
    "    print(\"{:.2f}% 확률로 악의적인 글이 아닙니다.\\n\".format((1 - score) * 100))"
   ]
  },
  {
   "cell_type": "code",
   "execution_count": 46,
   "id": "fb512714-7c2d-4590-8a61-4dca5d0b787d",
   "metadata": {},
   "outputs": [],
   "source": [
    "import ipywidgets as widgets\n",
    "from ipywidgets import interact, interact_manual"
   ]
  },
  {
   "cell_type": "code",
   "execution_count": 57,
   "id": "4cae83c2-3dfc-4984-9cdc-3d66e1422fa1",
   "metadata": {},
   "outputs": [
    {
     "data": {
      "application/vnd.jupyter.widget-view+json": {
       "model_id": "10b90d3b0fc84796bd99a0cb949f0b5f",
       "version_major": 2,
       "version_minor": 0
      },
      "text/plain": [
       "interactive(children=(Text(value='', description='input_text'), Output()), _dom_classes=('widget-interact',))"
      ]
     },
     "metadata": {},
     "output_type": "display_data"
    }
   ],
   "source": [
    "@interact\n",
    "def predict_text(input_text=''):\n",
    "    return bilstm_predict(input_text)"
   ]
  },
  {
   "cell_type": "code",
   "execution_count": 48,
   "id": "d5130aba-f446-4230-92bd-66585a3befa1",
   "metadata": {
    "tags": []
   },
   "outputs": [
    {
     "name": "stdout",
     "output_type": "stream",
     "text": [
      "58.49% 확률로 악의적인 글이 아닙니다.\n",
      "\n"
     ]
    }
   ],
   "source": [
    "bilstm_predict(\"멍청아ㅋㅋㅋㅋㅋ\")"
   ]
  },
  {
   "cell_type": "code",
   "execution_count": 49,
   "id": "a55e2ca6-8f39-473f-90ac-0bdfbbb17a3f",
   "metadata": {},
   "outputs": [
    {
     "name": "stdout",
     "output_type": "stream",
     "text": [
      "76.07% 확률로 악의적인 글이 아닙니다.\n",
      "\n"
     ]
    }
   ],
   "source": [
    "bilstm_predict(\"이런 글이 많았으면 좋겠습니다. 늘 필요하다고 생각했습니다.\")"
   ]
  },
  {
   "cell_type": "code",
   "execution_count": 50,
   "id": "bd97514a-b403-4e07-9cd8-295abdb487ac",
   "metadata": {},
   "outputs": [
    {
     "name": "stdout",
     "output_type": "stream",
     "text": [
      "64.55% 확률로 악의적인 글입니다.\n",
      "\n"
     ]
    }
   ],
   "source": [
    "bilstm_predict('에휴 ㅉㅉ 쓰레ㄱㅣ들아')"
   ]
  },
  {
   "cell_type": "code",
   "execution_count": 51,
   "id": "b0e7bb40-5e50-4ecf-ac32-732b8505cbed",
   "metadata": {},
   "outputs": [
    {
     "name": "stdout",
     "output_type": "stream",
     "text": [
      "86.42% 확률로 악의적인 글이 아닙니다.\n",
      "\n"
     ]
    }
   ],
   "source": [
    "bilstm_predict('정말 감사합니다')"
   ]
  },
  {
   "cell_type": "code",
   "execution_count": 52,
   "id": "04fd71a8-740f-408d-b92b-6e29e088618b",
   "metadata": {},
   "outputs": [
    {
     "name": "stdout",
     "output_type": "stream",
     "text": [
      "95.20% 확률로 악의적인 글이 아닙니다.\n",
      "\n"
     ]
    }
   ],
   "source": [
    "bilstm_predict('아 진짜 너무 귀엽다 ㅠㅠㅠ')"
   ]
  },
  {
   "cell_type": "code",
   "execution_count": 53,
   "id": "b4ab7837-6301-4918-83ef-6fc5d2c02580",
   "metadata": {},
   "outputs": [
    {
     "name": "stdout",
     "output_type": "stream",
     "text": [
      "72.02% 확률로 악의적인 글입니다.\n",
      "\n"
     ]
    }
   ],
   "source": [
    "bilstm_predict('씨발')"
   ]
  },
  {
   "cell_type": "code",
   "execution_count": 54,
   "id": "48adf1d2-91af-4570-bdc5-b7983a7d87a7",
   "metadata": {},
   "outputs": [
    {
     "name": "stdout",
     "output_type": "stream",
     "text": [
      "53.30% 확률로 악의적인 글입니다.\n",
      "\n"
     ]
    }
   ],
   "source": [
    "bilstm_predict('ㅆㅣ발')"
   ]
  },
  {
   "cell_type": "code",
   "execution_count": 55,
   "id": "cb88c52e-0cd6-4978-8e5f-77686672edd3",
   "metadata": {
    "tags": []
   },
   "outputs": [
    {
     "name": "stdout",
     "output_type": "stream",
     "text": [
      "85.25% 확률로 악의적인 글입니다.\n",
      "\n"
     ]
    }
   ],
   "source": [
    "bilstm_predict('존나 멋있어')"
   ]
  },
  {
   "cell_type": "code",
   "execution_count": 56,
   "id": "fb26f449-a337-47e4-b8d9-4c7f28ba8f12",
   "metadata": {},
   "outputs": [
    {
     "name": "stdout",
     "output_type": "stream",
     "text": [
      "76.28% 확률로 악의적인 글이 아닙니다.\n",
      "\n"
     ]
    }
   ],
   "source": [
    "bilstm_predict('진짜 못생겼다')"
   ]
  },
  {
   "cell_type": "code",
   "execution_count": null,
   "id": "8f86a227-bdb2-4019-b58c-0f2fe2649f99",
   "metadata": {},
   "outputs": [],
   "source": []
  }
 ],
 "metadata": {
  "kernelspec": {
   "display_name": "Python 3",
   "language": "python",
   "name": "python3"
  },
  "language_info": {
   "codemirror_mode": {
    "name": "ipython",
    "version": 3
   },
   "file_extension": ".py",
   "mimetype": "text/x-python",
   "name": "python",
   "nbconvert_exporter": "python",
   "pygments_lexer": "ipython3",
   "version": "3.9.0"
  }
 },
 "nbformat": 4,
 "nbformat_minor": 5
}
