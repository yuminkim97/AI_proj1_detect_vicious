{
 "cells": [
  {
   "cell_type": "code",
   "execution_count": 1,
   "id": "0c095682-4fb8-4d3d-83a8-e88a5b717251",
   "metadata": {},
   "outputs": [],
   "source": [
    "import pandas as pd\n",
    "import numpy as np\n",
    "\n",
    "civious_df = pd.read_csv('./data/Dataset.csv.txt', delimiter='\\t')"
   ]
  },
  {
   "cell_type": "markdown",
   "id": "83db45ec-ea8e-4c55-b6fb-4aa99d81d8d1",
   "metadata": {},
   "source": [
    "#### **데이터 전처리**"
   ]
  },
  {
   "cell_type": "markdown",
   "id": "044cc4b1-a352-4e17-8f3e-b15caa0e4919",
   "metadata": {},
   "source": [
    "1. puntuation 제거 (숫자로 비속어를 표현하는 경우도 있기때문에 숫자는 남겨둠)"
   ]
  },
  {
   "cell_type": "markdown",
   "id": "59ed22c8-b9e6-4aed-b3d2-0f009fae903e",
   "metadata": {},
   "source": [
    "null 값의 label을 직접 입력해줌\n",
    "\n",
    "하는 김에 label도 int로 바꿔줌"
   ]
  },
  {
   "cell_type": "code",
   "execution_count": 2,
   "id": "9669883b-66f6-46ea-8f95-d5f947e542e0",
   "metadata": {},
   "outputs": [],
   "source": [
    "for i in civious_df[civious_df['lable'].isnull()].index :\n",
    "    textNlabel = civious_df.loc[i, 'content'].split('\\t')\n",
    "    civious_df.loc[i, 'content'] = textNlabel[0]\n",
    "    civious_df.loc[i, 'lable'] = int(textNlabel[1])"
   ]
  },
  {
   "cell_type": "code",
   "execution_count": 3,
   "id": "5f48003b-ba54-43a4-b1ab-4568901e1959",
   "metadata": {},
   "outputs": [],
   "source": [
    "civious_df['content'] = civious_df['content'].str.replace(\"[^ㄱ-ㅎㅏ-ㅣ가-힣 0-9]\",\"\", regex=True)\n",
    "# civious_df['content'] = civious_df['content'].str.replace(\"[:punct:]\",\"\", regex=True)"
   ]
  },
  {
   "cell_type": "code",
   "execution_count": 4,
   "id": "49f866f0-0b5d-47ee-bacd-ddc6a55f0092",
   "metadata": {},
   "outputs": [],
   "source": [
    "civious_df['lable'] = civious_df['lable'].apply(lambda x : int(x))"
   ]
  },
  {
   "cell_type": "code",
   "execution_count": 5,
   "id": "2a100986-f8cb-4526-8833-9cb3a4ab7d6c",
   "metadata": {},
   "outputs": [],
   "source": [
    "civious_df['lable'] = civious_df['lable'].replace([1,0],[0,1])"
   ]
  },
  {
   "cell_type": "code",
   "execution_count": 6,
   "id": "90fbcab2-1e7e-456b-8154-3ade50890ab2",
   "metadata": {},
   "outputs": [
    {
     "data": {
      "text/html": [
       "<div>\n",
       "<style scoped>\n",
       "    .dataframe tbody tr th:only-of-type {\n",
       "        vertical-align: middle;\n",
       "    }\n",
       "\n",
       "    .dataframe tbody tr th {\n",
       "        vertical-align: top;\n",
       "    }\n",
       "\n",
       "    .dataframe thead th {\n",
       "        text-align: right;\n",
       "    }\n",
       "</style>\n",
       "<table border=\"1\" class=\"dataframe\">\n",
       "  <thead>\n",
       "    <tr style=\"text-align: right;\">\n",
       "      <th></th>\n",
       "      <th>content</th>\n",
       "      <th>lable</th>\n",
       "    </tr>\n",
       "  </thead>\n",
       "  <tbody>\n",
       "    <tr>\n",
       "      <th>0</th>\n",
       "      <td>이종석 한효주 나오는 드라마 이후로 드라마 안봤다 2년전인가 좀 신선했었지 근데 이...</td>\n",
       "      <td>1</td>\n",
       "    </tr>\n",
       "    <tr>\n",
       "      <th>1</th>\n",
       "      <td>씨바알노무노무 술프노 오늘 저녁은 꽂등심이다ㅠㅜ</td>\n",
       "      <td>1</td>\n",
       "    </tr>\n",
       "    <tr>\n",
       "      <th>2</th>\n",
       "      <td>짱깨 꺼라ㅡ패쓰</td>\n",
       "      <td>1</td>\n",
       "    </tr>\n",
       "    <tr>\n",
       "      <th>3</th>\n",
       "      <td>그들의 사생활  고인이된 설리를 위해서라도 모두 조용하길 지금 누굴 탓한다고 무슨소...</td>\n",
       "      <td>0</td>\n",
       "    </tr>\n",
       "    <tr>\n",
       "      <th>4</th>\n",
       "      <td>아무리 법이 뭣같아도 무슨 자격으로 개인의 신상정보를 불특정 다수에게 공개하는지 도...</td>\n",
       "      <td>0</td>\n",
       "    </tr>\n",
       "  </tbody>\n",
       "</table>\n",
       "</div>"
      ],
      "text/plain": [
       "                                             content  lable\n",
       "0  이종석 한효주 나오는 드라마 이후로 드라마 안봤다 2년전인가 좀 신선했었지 근데 이...      1\n",
       "1                         씨바알노무노무 술프노 오늘 저녁은 꽂등심이다ㅠㅜ      1\n",
       "2                                           짱깨 꺼라ㅡ패쓰      1\n",
       "3  그들의 사생활  고인이된 설리를 위해서라도 모두 조용하길 지금 누굴 탓한다고 무슨소...      0\n",
       "4  아무리 법이 뭣같아도 무슨 자격으로 개인의 신상정보를 불특정 다수에게 공개하는지 도...      0"
      ]
     },
     "execution_count": 6,
     "metadata": {},
     "output_type": "execute_result"
    }
   ],
   "source": [
    "civious_df.head(5)"
   ]
  },
  {
   "cell_type": "markdown",
   "id": "7b1ea7be-f56d-46a4-af07-1458766a8b6e",
   "metadata": {},
   "source": [
    "2. 중복 제거"
   ]
  },
  {
   "cell_type": "code",
   "execution_count": 7,
   "id": "eb5c92f4-e67e-48a3-ac3e-8bb9b41ce75d",
   "metadata": {},
   "outputs": [
    {
     "data": {
      "text/plain": [
       "content    9982\n",
       "lable         2\n",
       "dtype: int64"
      ]
     },
     "execution_count": 7,
     "metadata": {},
     "output_type": "execute_result"
    }
   ],
   "source": [
    "civious_df.nunique()"
   ]
  },
  {
   "cell_type": "code",
   "execution_count": 8,
   "id": "d8ba903a-d1c4-4cb9-b541-7c3c51a4a8e8",
   "metadata": {},
   "outputs": [],
   "source": [
    "civious_df.drop_duplicates(subset=['content'], inplace=True, ignore_index=True)"
   ]
  },
  {
   "cell_type": "code",
   "execution_count": 9,
   "id": "d3d11e5e-441e-4ca6-9365-cc927ebbffa9",
   "metadata": {},
   "outputs": [
    {
     "data": {
      "text/plain": [
       "(9982, 2)"
      ]
     },
     "execution_count": 9,
     "metadata": {},
     "output_type": "execute_result"
    }
   ],
   "source": [
    "civious_df.shape"
   ]
  },
  {
   "cell_type": "markdown",
   "id": "e5caec70-f9ea-4409-bdf6-3771af861510",
   "metadata": {},
   "source": [
    "3. puntuation 제거 후 빈 문자열이 된 데이터가 있는지 확인"
   ]
  },
  {
   "cell_type": "code",
   "execution_count": 10,
   "id": "f6d04507-7e44-49d8-a449-8d19be21fa14",
   "metadata": {},
   "outputs": [],
   "source": [
    "civious_df['content'].replace('', np.nan, inplace=True)"
   ]
  },
  {
   "cell_type": "code",
   "execution_count": 11,
   "id": "8983696d-564c-4c8b-a082-f4ead9e71c5f",
   "metadata": {},
   "outputs": [
    {
     "data": {
      "text/plain": [
       "(9982, 2)"
      ]
     },
     "execution_count": 11,
     "metadata": {},
     "output_type": "execute_result"
    }
   ],
   "source": [
    "civious_df.shape"
   ]
  },
  {
   "cell_type": "code",
   "execution_count": 12,
   "id": "d6a5a0cf-281f-48e0-a7f0-5228afa1594e",
   "metadata": {},
   "outputs": [
    {
     "name": "stdout",
     "output_type": "stream",
     "text": [
      "content    0\n",
      "lable      0\n",
      "dtype: int64\n"
     ]
    }
   ],
   "source": [
    "print(civious_df.isnull().sum())"
   ]
  },
  {
   "cell_type": "markdown",
   "id": "426544ee-5f31-4488-9799-8411b7c1cdcb",
   "metadata": {},
   "source": [
    "content column에 빈 문자열은 없음!"
   ]
  },
  {
   "cell_type": "markdown",
   "id": "57973e54-c7ab-4de3-b804-4430bc4f6fd5",
   "metadata": {},
   "source": [
    "#### **토큰화**"
   ]
  },
  {
   "cell_type": "code",
   "execution_count": 13,
   "id": "f110bef6-0c3d-4381-af7b-19c72e843e4b",
   "metadata": {},
   "outputs": [],
   "source": [
    "import re\n",
    "stopwords = []\n",
    "stopwords_file = open('./data/korean_stopwords.txt', 'r', encoding='UTF8')\n",
    "stopwords_lines = stopwords_file.readlines()\n",
    "for line in stopwords_lines :\n",
    "    stopwords.append(re.split('\\t|\\n', line)[0])"
   ]
  },
  {
   "cell_type": "code",
   "execution_count": 14,
   "id": "3b71b841-e5b7-494d-9412-3492ccebc2b1",
   "metadata": {},
   "outputs": [
    {
     "data": {
      "text/plain": [
       "596"
      ]
     },
     "execution_count": 14,
     "metadata": {},
     "output_type": "execute_result"
    }
   ],
   "source": [
    "stopwords = list(set(stopwords))\n",
    "len(stopwords)"
   ]
  },
  {
   "cell_type": "code",
   "execution_count": 15,
   "id": "0b2282a5-06b8-4abc-adcb-c36107076ff1",
   "metadata": {},
   "outputs": [],
   "source": [
    "import jpype #이거 안쓰면 에러남!!!!\n",
    "from konlpy.tag import Okt\n",
    "\n",
    "okt = Okt()"
   ]
  },
  {
   "cell_type": "code",
   "execution_count": 16,
   "id": "37dbd922-759d-483a-878b-d34dbf6a4cb6",
   "metadata": {},
   "outputs": [],
   "source": [
    "toknized_df = pd.DataFrame(columns=['text', 'label'])"
   ]
  },
  {
   "cell_type": "code",
   "execution_count": 17,
   "id": "de0a1793-95f5-4c77-9c4b-cfe93cb126be",
   "metadata": {},
   "outputs": [],
   "source": [
    "for i in civious_df.index :\n",
    "    sentence = civious_df.loc[i, 'content']\n",
    "    temp_X = okt.morphs(sentence) # 토큰화\n",
    "    temp_X = [word for word in temp_X if not word in stopwords] # 불용어 제거\n",
    "    toknized_df.loc[i, 'text'] = temp_X"
   ]
  },
  {
   "cell_type": "code",
   "execution_count": 18,
   "id": "71348b12-0288-4929-bad7-aff38c8ca391",
   "metadata": {},
   "outputs": [],
   "source": [
    "toknized_df['label'] = civious_df['lable']"
   ]
  },
  {
   "cell_type": "code",
   "execution_count": 19,
   "id": "d8ec3e3e-6373-471a-8095-4559ed3130dd",
   "metadata": {},
   "outputs": [
    {
     "data": {
      "text/html": [
       "<div>\n",
       "<style scoped>\n",
       "    .dataframe tbody tr th:only-of-type {\n",
       "        vertical-align: middle;\n",
       "    }\n",
       "\n",
       "    .dataframe tbody tr th {\n",
       "        vertical-align: top;\n",
       "    }\n",
       "\n",
       "    .dataframe thead th {\n",
       "        text-align: right;\n",
       "    }\n",
       "</style>\n",
       "<table border=\"1\" class=\"dataframe\">\n",
       "  <thead>\n",
       "    <tr style=\"text-align: right;\">\n",
       "      <th></th>\n",
       "      <th>text</th>\n",
       "      <th>label</th>\n",
       "    </tr>\n",
       "  </thead>\n",
       "  <tbody>\n",
       "    <tr>\n",
       "      <th>0</th>\n",
       "      <td>[이종석, 한효주, 나오는, 드라마, 이후, 드라마, 봤다, 2년, 전인가, 신선했...</td>\n",
       "      <td>1</td>\n",
       "    </tr>\n",
       "    <tr>\n",
       "      <th>1</th>\n",
       "      <td>[씨, 바알, 노무, 노무, 술프노, 오늘, 저녁, 은, 꽂, 등심, 이다, ㅠㅜ]</td>\n",
       "      <td>1</td>\n",
       "    </tr>\n",
       "    <tr>\n",
       "      <th>2</th>\n",
       "      <td>[짱깨, 꺼라, ㅡ, 패쓰]</td>\n",
       "      <td>1</td>\n",
       "    </tr>\n",
       "    <tr>\n",
       "      <th>3</th>\n",
       "      <td>[사생활, 고인, 된, 설리, 위, 해서라도, 조용하길, 누굴, 탓, 한다고, 소,...</td>\n",
       "      <td>0</td>\n",
       "    </tr>\n",
       "    <tr>\n",
       "      <th>4</th>\n",
       "      <td>[아무리, 법, 뭣같아, 도, 자격, 개인, 신상, 정보, 불, 특정, 공개, 하는...</td>\n",
       "      <td>0</td>\n",
       "    </tr>\n",
       "  </tbody>\n",
       "</table>\n",
       "</div>"
      ],
      "text/plain": [
       "                                                text  label\n",
       "0  [이종석, 한효주, 나오는, 드라마, 이후, 드라마, 봤다, 2년, 전인가, 신선했...      1\n",
       "1     [씨, 바알, 노무, 노무, 술프노, 오늘, 저녁, 은, 꽂, 등심, 이다, ㅠㅜ]      1\n",
       "2                                    [짱깨, 꺼라, ㅡ, 패쓰]      1\n",
       "3  [사생활, 고인, 된, 설리, 위, 해서라도, 조용하길, 누굴, 탓, 한다고, 소,...      0\n",
       "4  [아무리, 법, 뭣같아, 도, 자격, 개인, 신상, 정보, 불, 특정, 공개, 하는...      0"
      ]
     },
     "execution_count": 19,
     "metadata": {},
     "output_type": "execute_result"
    }
   ],
   "source": [
    "toknized_df.head(5)"
   ]
  },
  {
   "cell_type": "code",
   "execution_count": 20,
   "id": "179895ec-efeb-4b47-bd30-f7c5ebab0aa7",
   "metadata": {},
   "outputs": [],
   "source": [
    "# toknized_df.to_csv('./data/toknized_data.csv', index=False)"
   ]
  },
  {
   "cell_type": "markdown",
   "id": "5b4f897b-c1ee-4eb8-bbd9-935b44dd1e63",
   "metadata": {},
   "source": [
    "#### **인코딩**"
   ]
  },
  {
   "cell_type": "code",
   "execution_count": 21,
   "id": "823850d1-8fe5-4aaa-a3df-9839ef412726",
   "metadata": {},
   "outputs": [],
   "source": [
    "import tensorflow as tf\n",
    "from tensorflow import keras\n",
    "from tensorflow.keras.preprocessing.text import Tokenizer\n",
    "\n",
    "tokenizer = Tokenizer()\n",
    "tokenizer.fit_on_texts(toknized_df['text'])"
   ]
  },
  {
   "cell_type": "code",
   "execution_count": 22,
   "id": "89d0404b-4f85-41e3-8a11-d501770be64b",
   "metadata": {},
   "outputs": [],
   "source": [
    "threshold = 2\n",
    "total_cnt = len(tokenizer.word_index) # 단어의 수\n",
    "# rare_cnt = 0 # 등장 빈도수가 threshold보다 작은 단어의 개수를 카운트\n",
    "# total_freq = 0 # 훈련 데이터의 전체 단어 빈도수 총 합\n",
    "# rare_freq = 0 # 등장 빈도수가 threshold보다 작은 단어의 등장 빈도수의 총 합\n",
    "\n",
    "# # 단어와 빈도수의 쌍(pair)을 key와 value로 받는다.\n",
    "# for key, value in tokenizer.word_counts.items():\n",
    "#     total_freq = total_freq + value\n",
    "\n",
    "#     # 단어의 등장 빈도수가 threshold보다 작으면\n",
    "#     if (value < threshold):\n",
    "#         rare_cnt = rare_cnt + 1\n",
    "#         rare_freq = rare_freq + value\n",
    "\n",
    "# print('단어 집합(vocabulary)의 크기 :',total_cnt)\n",
    "# print('등장 빈도가 %s번 이하인 희귀 단어의 수: %s'%(threshold - 1, rare_cnt))\n",
    "# print(\"단어 집합에서 희귀 단어의 비율:\", (rare_cnt / total_cnt)*100)\n",
    "# print(\"전체 등장 빈도에서 희귀 단어 등장 빈도 비율:\", (rare_freq / total_freq)*100)"
   ]
  },
  {
   "cell_type": "code",
   "execution_count": 23,
   "id": "0ddabbac-1711-4d98-8eb5-fed44cd3e575",
   "metadata": {},
   "outputs": [],
   "source": [
    "vocab_size = total_cnt\n",
    "# vocab_size = total_cnt - rare_cnt + 1\n",
    "# print('단어 집합의 크기 :',vocab_size)"
   ]
  },
  {
   "cell_type": "code",
   "execution_count": 24,
   "id": "8e0e20ae-93eb-4675-b68e-82acb1c17312",
   "metadata": {},
   "outputs": [],
   "source": [
    "tokenizer = Tokenizer(vocab_size) \n",
    "tokenizer.fit_on_texts(toknized_df['text'])\n",
    "toknized_df['encoding'] = tokenizer.texts_to_sequences(toknized_df['text'])"
   ]
  },
  {
   "cell_type": "code",
   "execution_count": 25,
   "id": "d3562aa8-6033-45b8-8a40-468706892707",
   "metadata": {},
   "outputs": [
    {
     "data": {
      "text/html": [
       "<div>\n",
       "<style scoped>\n",
       "    .dataframe tbody tr th:only-of-type {\n",
       "        vertical-align: middle;\n",
       "    }\n",
       "\n",
       "    .dataframe tbody tr th {\n",
       "        vertical-align: top;\n",
       "    }\n",
       "\n",
       "    .dataframe thead th {\n",
       "        text-align: right;\n",
       "    }\n",
       "</style>\n",
       "<table border=\"1\" class=\"dataframe\">\n",
       "  <thead>\n",
       "    <tr style=\"text-align: right;\">\n",
       "      <th></th>\n",
       "      <th>text</th>\n",
       "      <th>label</th>\n",
       "      <th>encoding</th>\n",
       "    </tr>\n",
       "  </thead>\n",
       "  <tbody>\n",
       "    <tr>\n",
       "      <th>0</th>\n",
       "      <td>[이종석, 한효주, 나오는, 드라마, 이후, 드라마, 봤다, 2년, 전인가, 신선했...</td>\n",
       "      <td>1</td>\n",
       "      <td>[2371, 1713, 494, 64, 708, 64, 1555, 1238, 668...</td>\n",
       "    </tr>\n",
       "    <tr>\n",
       "      <th>1</th>\n",
       "      <td>[씨, 바알, 노무, 노무, 술프노, 오늘, 저녁, 은, 꽂, 등심, 이다, ㅠㅜ]</td>\n",
       "      <td>1</td>\n",
       "      <td>[44, 6690, 1239, 1239, 10611, 188, 3193, 2, 10...</td>\n",
       "    </tr>\n",
       "    <tr>\n",
       "      <th>2</th>\n",
       "      <td>[짱깨, 꺼라, ㅡ, 패쓰]</td>\n",
       "      <td>1</td>\n",
       "      <td>[294, 10614, 304, 6691]</td>\n",
       "    </tr>\n",
       "    <tr>\n",
       "      <th>3</th>\n",
       "      <td>[사생활, 고인, 된, 설리, 위, 해서라도, 조용하길, 누굴, 탓, 한다고, 소,...</td>\n",
       "      <td>0</td>\n",
       "      <td>[1430, 516, 124, 151, 133, 10615, 10616, 1714,...</td>\n",
       "    </tr>\n",
       "    <tr>\n",
       "      <th>4</th>\n",
       "      <td>[아무리, 법, 뭣같아, 도, 자격, 개인, 신상, 정보, 불, 특정, 공개, 하는...</td>\n",
       "      <td>0</td>\n",
       "      <td>[358, 373, 10617, 1, 1715, 390, 1328, 1016, 81...</td>\n",
       "    </tr>\n",
       "  </tbody>\n",
       "</table>\n",
       "</div>"
      ],
      "text/plain": [
       "                                                text  label  \\\n",
       "0  [이종석, 한효주, 나오는, 드라마, 이후, 드라마, 봤다, 2년, 전인가, 신선했...      1   \n",
       "1     [씨, 바알, 노무, 노무, 술프노, 오늘, 저녁, 은, 꽂, 등심, 이다, ㅠㅜ]      1   \n",
       "2                                    [짱깨, 꺼라, ㅡ, 패쓰]      1   \n",
       "3  [사생활, 고인, 된, 설리, 위, 해서라도, 조용하길, 누굴, 탓, 한다고, 소,...      0   \n",
       "4  [아무리, 법, 뭣같아, 도, 자격, 개인, 신상, 정보, 불, 특정, 공개, 하는...      0   \n",
       "\n",
       "                                            encoding  \n",
       "0  [2371, 1713, 494, 64, 708, 64, 1555, 1238, 668...  \n",
       "1  [44, 6690, 1239, 1239, 10611, 188, 3193, 2, 10...  \n",
       "2                            [294, 10614, 304, 6691]  \n",
       "3  [1430, 516, 124, 151, 133, 10615, 10616, 1714,...  \n",
       "4  [358, 373, 10617, 1, 1715, 390, 1328, 1016, 81...  "
      ]
     },
     "execution_count": 25,
     "metadata": {},
     "output_type": "execute_result"
    }
   ],
   "source": [
    "toknized_df.head(5)"
   ]
  },
  {
   "cell_type": "markdown",
   "id": "9cdd5d54-1efb-4dfa-ba19-59931162d977",
   "metadata": {},
   "source": [
    "빈 문자열 없는지 다시한번 확인"
   ]
  },
  {
   "cell_type": "code",
   "execution_count": 26,
   "id": "d8375138-f0f2-4919-b15d-432cb38dd419",
   "metadata": {},
   "outputs": [],
   "source": [
    "drop_index = [index for index, sentence in enumerate(toknized_df['encoding']) if len(sentence) < 1]"
   ]
  },
  {
   "cell_type": "code",
   "execution_count": 27,
   "id": "a924852d-75ac-403c-a8ea-1d5d3a9a16fc",
   "metadata": {},
   "outputs": [
    {
     "data": {
      "text/plain": [
       "0"
      ]
     },
     "execution_count": 27,
     "metadata": {},
     "output_type": "execute_result"
    }
   ],
   "source": [
    "len(drop_index)"
   ]
  },
  {
   "cell_type": "code",
   "execution_count": 28,
   "id": "c2eb7574-d01b-48ea-93aa-a4d6564037a4",
   "metadata": {},
   "outputs": [],
   "source": [
    "toknized_df.drop(index=drop_index, axis=0, inplace=True)\n",
    "# toknized_df = np.delete(toknized_df, drop_index, axis=0)\n",
    "toknized_df.reset_index(inplace=True, drop=True)"
   ]
  },
  {
   "cell_type": "code",
   "execution_count": 29,
   "id": "9b03160b-ea37-4813-83dc-fc8e06ac9b98",
   "metadata": {},
   "outputs": [
    {
     "data": {
      "text/html": [
       "<div>\n",
       "<style scoped>\n",
       "    .dataframe tbody tr th:only-of-type {\n",
       "        vertical-align: middle;\n",
       "    }\n",
       "\n",
       "    .dataframe tbody tr th {\n",
       "        vertical-align: top;\n",
       "    }\n",
       "\n",
       "    .dataframe thead th {\n",
       "        text-align: right;\n",
       "    }\n",
       "</style>\n",
       "<table border=\"1\" class=\"dataframe\">\n",
       "  <thead>\n",
       "    <tr style=\"text-align: right;\">\n",
       "      <th></th>\n",
       "      <th>text</th>\n",
       "      <th>label</th>\n",
       "      <th>encoding</th>\n",
       "    </tr>\n",
       "  </thead>\n",
       "  <tbody>\n",
       "    <tr>\n",
       "      <th>0</th>\n",
       "      <td>[이종석, 한효주, 나오는, 드라마, 이후, 드라마, 봤다, 2년, 전인가, 신선했...</td>\n",
       "      <td>1</td>\n",
       "      <td>[2371, 1713, 494, 64, 708, 64, 1555, 1238, 668...</td>\n",
       "    </tr>\n",
       "    <tr>\n",
       "      <th>1</th>\n",
       "      <td>[씨, 바알, 노무, 노무, 술프노, 오늘, 저녁, 은, 꽂, 등심, 이다, ㅠㅜ]</td>\n",
       "      <td>1</td>\n",
       "      <td>[44, 6690, 1239, 1239, 10611, 188, 3193, 2, 10...</td>\n",
       "    </tr>\n",
       "    <tr>\n",
       "      <th>2</th>\n",
       "      <td>[짱깨, 꺼라, ㅡ, 패쓰]</td>\n",
       "      <td>1</td>\n",
       "      <td>[294, 10614, 304, 6691]</td>\n",
       "    </tr>\n",
       "    <tr>\n",
       "      <th>3</th>\n",
       "      <td>[사생활, 고인, 된, 설리, 위, 해서라도, 조용하길, 누굴, 탓, 한다고, 소,...</td>\n",
       "      <td>0</td>\n",
       "      <td>[1430, 516, 124, 151, 133, 10615, 10616, 1714,...</td>\n",
       "    </tr>\n",
       "    <tr>\n",
       "      <th>4</th>\n",
       "      <td>[아무리, 법, 뭣같아, 도, 자격, 개인, 신상, 정보, 불, 특정, 공개, 하는...</td>\n",
       "      <td>0</td>\n",
       "      <td>[358, 373, 10617, 1, 1715, 390, 1328, 1016, 81...</td>\n",
       "    </tr>\n",
       "    <tr>\n",
       "      <th>...</th>\n",
       "      <td>...</td>\n",
       "      <td>...</td>\n",
       "      <td>...</td>\n",
       "    </tr>\n",
       "    <tr>\n",
       "      <th>9977</th>\n",
       "      <td>[거, 보다, 더한, 막장, 드라마, 도, 넋, 놓고, 보면서]</td>\n",
       "      <td>0</td>\n",
       "      <td>[17, 50, 2069, 1501, 64, 1, 9166, 1068, 606]</td>\n",
       "    </tr>\n",
       "    <tr>\n",
       "      <th>9978</th>\n",
       "      <td>[머, 제네시스, 올라프, 에디, 션]</td>\n",
       "      <td>0</td>\n",
       "      <td>[239, 2310, 27373, 27374, 3034]</td>\n",
       "    </tr>\n",
       "    <tr>\n",
       "      <th>9979</th>\n",
       "      <td>[항상, ㅡ, ㅡ, 지랄, 들이야, 남자, 벗겨, 봐라]</td>\n",
       "      <td>1</td>\n",
       "      <td>[282, 304, 304, 72, 27375, 27, 27376, 199]</td>\n",
       "    </tr>\n",
       "    <tr>\n",
       "      <th>9980</th>\n",
       "      <td>[첫, 번째, 이유, ㄹㅇ, 맞지, 특히, 뉴스, 기사, 줄, 읽은, 학생, 끼리,...</td>\n",
       "      <td>1</td>\n",
       "      <td>[1125, 3349, 216, 409, 703, 644, 581, 48, 134,...</td>\n",
       "    </tr>\n",
       "    <tr>\n",
       "      <th>9981</th>\n",
       "      <td>[폰, 누가, 쓰냐, 도, 못잡는, 폰, 쓰래, 기, 통, 에나, 버려라]</td>\n",
       "      <td>1</td>\n",
       "      <td>[689, 119, 2929, 1, 5495, 689, 1531, 54, 662, ...</td>\n",
       "    </tr>\n",
       "  </tbody>\n",
       "</table>\n",
       "<p>9982 rows × 3 columns</p>\n",
       "</div>"
      ],
      "text/plain": [
       "                                                   text  label  \\\n",
       "0     [이종석, 한효주, 나오는, 드라마, 이후, 드라마, 봤다, 2년, 전인가, 신선했...      1   \n",
       "1        [씨, 바알, 노무, 노무, 술프노, 오늘, 저녁, 은, 꽂, 등심, 이다, ㅠㅜ]      1   \n",
       "2                                       [짱깨, 꺼라, ㅡ, 패쓰]      1   \n",
       "3     [사생활, 고인, 된, 설리, 위, 해서라도, 조용하길, 누굴, 탓, 한다고, 소,...      0   \n",
       "4     [아무리, 법, 뭣같아, 도, 자격, 개인, 신상, 정보, 불, 특정, 공개, 하는...      0   \n",
       "...                                                 ...    ...   \n",
       "9977                [거, 보다, 더한, 막장, 드라마, 도, 넋, 놓고, 보면서]      0   \n",
       "9978                              [머, 제네시스, 올라프, 에디, 션]      0   \n",
       "9979                    [항상, ㅡ, ㅡ, 지랄, 들이야, 남자, 벗겨, 봐라]      1   \n",
       "9980  [첫, 번째, 이유, ㄹㅇ, 맞지, 특히, 뉴스, 기사, 줄, 읽은, 학생, 끼리,...      1   \n",
       "9981          [폰, 누가, 쓰냐, 도, 못잡는, 폰, 쓰래, 기, 통, 에나, 버려라]      1   \n",
       "\n",
       "                                               encoding  \n",
       "0     [2371, 1713, 494, 64, 708, 64, 1555, 1238, 668...  \n",
       "1     [44, 6690, 1239, 1239, 10611, 188, 3193, 2, 10...  \n",
       "2                               [294, 10614, 304, 6691]  \n",
       "3     [1430, 516, 124, 151, 133, 10615, 10616, 1714,...  \n",
       "4     [358, 373, 10617, 1, 1715, 390, 1328, 1016, 81...  \n",
       "...                                                 ...  \n",
       "9977       [17, 50, 2069, 1501, 64, 1, 9166, 1068, 606]  \n",
       "9978                    [239, 2310, 27373, 27374, 3034]  \n",
       "9979         [282, 304, 304, 72, 27375, 27, 27376, 199]  \n",
       "9980  [1125, 3349, 216, 409, 703, 644, 581, 48, 134,...  \n",
       "9981  [689, 119, 2929, 1, 5495, 689, 1531, 54, 662, ...  \n",
       "\n",
       "[9982 rows x 3 columns]"
      ]
     },
     "execution_count": 29,
     "metadata": {},
     "output_type": "execute_result"
    }
   ],
   "source": [
    "toknized_df"
   ]
  },
  {
   "cell_type": "code",
   "execution_count": 30,
   "id": "0d3b951c-413a-4e11-a437-6bede881377e",
   "metadata": {},
   "outputs": [
    {
     "data": {
      "text/plain": [
       "0    4995\n",
       "1    4987\n",
       "Name: label, dtype: int64"
      ]
     },
     "execution_count": 30,
     "metadata": {},
     "output_type": "execute_result"
    }
   ],
   "source": [
    "toknized_df['label'].value_counts()"
   ]
  },
  {
   "cell_type": "markdown",
   "id": "d5c40a46-4532-43c6-84fb-82da25c386d6",
   "metadata": {},
   "source": [
    "#### **패딩**\n",
    "샘플 길이 맞춰주는 과정"
   ]
  },
  {
   "cell_type": "code",
   "execution_count": 31,
   "id": "2e0afa17-5f12-483b-be36-e88ae35653e9",
   "metadata": {},
   "outputs": [
    {
     "name": "stdout",
     "output_type": "stream",
     "text": [
      "시퀀스 최대 길이 : 245\n",
      "시퀀스 평균 길이 : 12.15317571628932\n"
     ]
    },
    {
     "data": {
      "image/png": "[encoded data removed]",
      "text/plain": [
       "<Figure size 432x288 with 1 Axes>"
      ]
     },
     "metadata": {
      "needs_background": "light"
     },
     "output_type": "display_data"
    }
   ],
   "source": [
    "import matplotlib.pyplot as plt\n",
    "\n",
    "print('시퀀스 최대 길이 :',max(len(l) for l in toknized_df['encoding']))\n",
    "print('시퀀스 평균 길이 :',sum(map(len, toknized_df['encoding']))/len(toknized_df['encoding']))\n",
    "plt.hist([len(s) for s in toknized_df['encoding']], bins=50)\n",
    "plt.xlabel('length of samples')\n",
    "plt.ylabel('number of samples')\n",
    "plt.show()"
   ]
  },
  {
   "cell_type": "markdown",
   "id": "61219c6d-c1fd-4d38-bcaf-ad8efc5e3d13",
   "metadata": {},
   "source": [
    "최적의 시퀀스 길이(대부분의 텍스트가 내용이 잘리지 않도록 할 수 있는 최적의 max_len의 값)는?"
   ]
  },
  {
   "cell_type": "code",
   "execution_count": 32,
   "id": "6b3b61ae-1999-4f1b-b965-708163f2bd31",
   "metadata": {},
   "outputs": [],
   "source": [
    "def below_threshold_len(max_len, nested_list):\n",
    "  cnt = 0\n",
    "  for s in nested_list:\n",
    "    if(len(s) <= max_len):\n",
    "        cnt = cnt + 1\n",
    "  print('전체 샘플 중 길이가 %s 이하인 샘플의 비율: %s'%(max_len, (cnt / len(nested_list))*100))"
   ]
  },
  {
   "cell_type": "code",
   "execution_count": 33,
   "id": "1eaf69a6-71f5-487d-afcb-425bc820de96",
   "metadata": {},
   "outputs": [
    {
     "name": "stdout",
     "output_type": "stream",
     "text": [
      "전체 샘플 중 길이가 40 이하인 샘플의 비율: 98.15668202764977\n"
     ]
    }
   ],
   "source": [
    "max_len = 40\n",
    "below_threshold_len(max_len, toknized_df['encoding'])"
   ]
  },
  {
   "cell_type": "markdown",
   "id": "f98241cf-53c9-4083-a390-24f8e225cc6f",
   "metadata": {},
   "source": [
    "전체 데이터 중 약 98.4%의 샘플이 40 이하의 길이를 가짐. 모든 시퀀스 길이를 40으로 맞추기로 결정."
   ]
  },
  {
   "cell_type": "code",
   "execution_count": 34,
   "id": "7e06bbfd-99c7-4c70-a15d-e811f4c55064",
   "metadata": {},
   "outputs": [],
   "source": [
    "from tensorflow.keras.preprocessing.sequence import pad_sequences\n",
    "\n",
    "encoded_text = pad_sequences(toknized_df['encoding'], maxlen = max_len)"
   ]
  },
  {
   "cell_type": "code",
   "execution_count": 35,
   "id": "871fb477-c93f-4e22-8fb6-6ae7f636d7cd",
   "metadata": {},
   "outputs": [],
   "source": [
    "encoded_df = pd.DataFrame(data=encoded_text)"
   ]
  },
  {
   "cell_type": "code",
   "execution_count": 36,
   "id": "4d58ed46-14a4-4a4c-a29d-0eb7d74dd08a",
   "metadata": {},
   "outputs": [],
   "source": [
    "from sklearn.model_selection import train_test_split\n",
    "\n",
    "# X_train, X_valid, y_train, y_valid = train_test_split(encoded_df, toknized_df['label'], random_state=42)"
   ]
  },
  {
   "cell_type": "code",
   "execution_count": 37,
   "id": "cf18fc8a-29ab-4c03-b35c-25094c539ebf",
   "metadata": {},
   "outputs": [],
   "source": [
    "X_train = encoded_df\n",
    "y_train = toknized_df['label']"
   ]
  },
  {
   "cell_type": "markdown",
   "id": "921ad65d-f171-417c-a4a3-abff0ed54bce",
   "metadata": {
    "tags": []
   },
   "source": [
    "#### **Machine learning**"
   ]
  },
  {
   "cell_type": "code",
   "execution_count": 38,
   "id": "9e026382-9950-4fc5-b5c5-93f74532011f",
   "metadata": {},
   "outputs": [],
   "source": [
    "import warnings\n",
    "warnings.filterwarnings(action='ignore')"
   ]
  },
  {
   "cell_type": "code",
   "execution_count": 39,
   "id": "3a9cfe6d-818d-4b21-aae0-c9c04faed023",
   "metadata": {},
   "outputs": [
    {
     "name": "stdout",
     "output_type": "stream",
     "text": [
      "[23:26:18] WARNING: C:/Users/Administrator/workspace/xgboost-win64_release_1.4.0/src/learner.cc:1095: Starting in XGBoost 1.3.0, the default evaluation metric used with the objective 'binary:logistic' was changed from 'error' to 'logloss'. Explicitly set eval_metric if you'd like to restore the old behavior.\n",
      "[23:26:20] WARNING: C:/Users/Administrator/workspace/xgboost-win64_release_1.4.0/src/learner.cc:1095: Starting in XGBoost 1.3.0, the default evaluation metric used with the objective 'binary:logistic' was changed from 'error' to 'logloss'. Explicitly set eval_metric if you'd like to restore the old behavior.\n",
      "[23:26:21] WARNING: C:/Users/Administrator/workspace/xgboost-win64_release_1.4.0/src/learner.cc:1095: Starting in XGBoost 1.3.0, the default evaluation metric used with the objective 'binary:logistic' was changed from 'error' to 'logloss'. Explicitly set eval_metric if you'd like to restore the old behavior.\n",
      "[23:26:22] WARNING: C:/Users/Administrator/workspace/xgboost-win64_release_1.4.0/src/learner.cc:1095: Starting in XGBoost 1.3.0, the default evaluation metric used with the objective 'binary:logistic' was changed from 'error' to 'logloss'. Explicitly set eval_metric if you'd like to restore the old behavior.\n",
      "[23:26:24] WARNING: C:/Users/Administrator/workspace/xgboost-win64_release_1.4.0/src/learner.cc:1095: Starting in XGBoost 1.3.0, the default evaluation metric used with the objective 'binary:logistic' was changed from 'error' to 'logloss'. Explicitly set eval_metric if you'd like to restore the old behavior.\n",
      "[23:26:25] WARNING: C:/Users/Administrator/workspace/xgboost-win64_release_1.4.0/src/learner.cc:1095: Starting in XGBoost 1.3.0, the default evaluation metric used with the objective 'binary:logistic' was changed from 'error' to 'logloss'. Explicitly set eval_metric if you'd like to restore the old behavior.\n",
      "[23:26:26] WARNING: C:/Users/Administrator/workspace/xgboost-win64_release_1.4.0/src/learner.cc:1095: Starting in XGBoost 1.3.0, the default evaluation metric used with the objective 'binary:logistic' was changed from 'error' to 'logloss'. Explicitly set eval_metric if you'd like to restore the old behavior.\n",
      "[23:26:27] WARNING: C:/Users/Administrator/workspace/xgboost-win64_release_1.4.0/src/learner.cc:1095: Starting in XGBoost 1.3.0, the default evaluation metric used with the objective 'binary:logistic' was changed from 'error' to 'logloss'. Explicitly set eval_metric if you'd like to restore the old behavior.\n",
      "[23:26:28] WARNING: C:/Users/Administrator/workspace/xgboost-win64_release_1.4.0/src/learner.cc:1095: Starting in XGBoost 1.3.0, the default evaluation metric used with the objective 'binary:logistic' was changed from 'error' to 'logloss'. Explicitly set eval_metric if you'd like to restore the old behavior.\n",
      "[23:26:30] WARNING: C:/Users/Administrator/workspace/xgboost-win64_release_1.4.0/src/learner.cc:1095: Starting in XGBoost 1.3.0, the default evaluation metric used with the objective 'binary:logistic' was changed from 'error' to 'logloss'. Explicitly set eval_metric if you'd like to restore the old behavior.\n",
      "[23:26:31] WARNING: C:/Users/Administrator/workspace/xgboost-win64_release_1.4.0/src/learner.cc:1095: Starting in XGBoost 1.3.0, the default evaluation metric used with the objective 'binary:logistic' was changed from 'error' to 'logloss'. Explicitly set eval_metric if you'd like to restore the old behavior.\n",
      "[23:26:40] WARNING: C:/Users/Administrator/workspace/xgboost-win64_release_1.4.0/src/learner.cc:1095: Starting in XGBoost 1.3.0, the default evaluation metric used with the objective 'binary:logistic' was changed from 'error' to 'logloss'. Explicitly set eval_metric if you'd like to restore the old behavior.\n",
      "[23:26:48] WARNING: C:/Users/Administrator/workspace/xgboost-win64_release_1.4.0/src/learner.cc:1095: Starting in XGBoost 1.3.0, the default evaluation metric used with the objective 'binary:logistic' was changed from 'error' to 'logloss'. Explicitly set eval_metric if you'd like to restore the old behavior.\n",
      "[23:26:57] WARNING: C:/Users/Administrator/workspace/xgboost-win64_release_1.4.0/src/learner.cc:1095: Starting in XGBoost 1.3.0, the default evaluation metric used with the objective 'binary:logistic' was changed from 'error' to 'logloss'. Explicitly set eval_metric if you'd like to restore the old behavior.\n",
      "[23:27:06] WARNING: C:/Users/Administrator/workspace/xgboost-win64_release_1.4.0/src/learner.cc:1095: Starting in XGBoost 1.3.0, the default evaluation metric used with the objective 'binary:logistic' was changed from 'error' to 'logloss'. Explicitly set eval_metric if you'd like to restore the old behavior.\n",
      "[23:27:15] WARNING: C:/Users/Administrator/workspace/xgboost-win64_release_1.4.0/src/learner.cc:1095: Starting in XGBoost 1.3.0, the default evaluation metric used with the objective 'binary:logistic' was changed from 'error' to 'logloss'. Explicitly set eval_metric if you'd like to restore the old behavior.\n",
      "[23:27:17] WARNING: C:/Users/Administrator/workspace/xgboost-win64_release_1.4.0/src/learner.cc:1095: Starting in XGBoost 1.3.0, the default evaluation metric used with the objective 'binary:logistic' was changed from 'error' to 'logloss'. Explicitly set eval_metric if you'd like to restore the old behavior.\n",
      "[23:27:19] WARNING: C:/Users/Administrator/workspace/xgboost-win64_release_1.4.0/src/learner.cc:1095: Starting in XGBoost 1.3.0, the default evaluation metric used with the objective 'binary:logistic' was changed from 'error' to 'logloss'. Explicitly set eval_metric if you'd like to restore the old behavior.\n",
      "[23:27:21] WARNING: C:/Users/Administrator/workspace/xgboost-win64_release_1.4.0/src/learner.cc:1095: Starting in XGBoost 1.3.0, the default evaluation metric used with the objective 'binary:logistic' was changed from 'error' to 'logloss'. Explicitly set eval_metric if you'd like to restore the old behavior.\n",
      "[23:27:23] WARNING: C:/Users/Administrator/workspace/xgboost-win64_release_1.4.0/src/learner.cc:1095: Starting in XGBoost 1.3.0, the default evaluation metric used with the objective 'binary:logistic' was changed from 'error' to 'logloss'. Explicitly set eval_metric if you'd like to restore the old behavior.\n",
      "[23:27:25] WARNING: C:/Users/Administrator/workspace/xgboost-win64_release_1.4.0/src/learner.cc:1095: Starting in XGBoost 1.3.0, the default evaluation metric used with the objective 'binary:logistic' was changed from 'error' to 'logloss'. Explicitly set eval_metric if you'd like to restore the old behavior.\n",
      "[23:27:29] WARNING: C:/Users/Administrator/workspace/xgboost-win64_release_1.4.0/src/learner.cc:1095: Starting in XGBoost 1.3.0, the default evaluation metric used with the objective 'binary:logistic' was changed from 'error' to 'logloss'. Explicitly set eval_metric if you'd like to restore the old behavior.\n",
      "[23:27:32] WARNING: C:/Users/Administrator/workspace/xgboost-win64_release_1.4.0/src/learner.cc:1095: Starting in XGBoost 1.3.0, the default evaluation metric used with the objective 'binary:logistic' was changed from 'error' to 'logloss'. Explicitly set eval_metric if you'd like to restore the old behavior.\n",
      "[23:27:35] WARNING: C:/Users/Administrator/workspace/xgboost-win64_release_1.4.0/src/learner.cc:1095: Starting in XGBoost 1.3.0, the default evaluation metric used with the objective 'binary:logistic' was changed from 'error' to 'logloss'. Explicitly set eval_metric if you'd like to restore the old behavior.\n",
      "[23:27:38] WARNING: C:/Users/Administrator/workspace/xgboost-win64_release_1.4.0/src/learner.cc:1095: Starting in XGBoost 1.3.0, the default evaluation metric used with the objective 'binary:logistic' was changed from 'error' to 'logloss'. Explicitly set eval_metric if you'd like to restore the old behavior.\n",
      "[23:27:42] WARNING: C:/Users/Administrator/workspace/xgboost-win64_release_1.4.0/src/learner.cc:1095: Starting in XGBoost 1.3.0, the default evaluation metric used with the objective 'binary:logistic' was changed from 'error' to 'logloss'. Explicitly set eval_metric if you'd like to restore the old behavior.\n",
      "[23:27:44] WARNING: C:/Users/Administrator/workspace/xgboost-win64_release_1.4.0/src/learner.cc:1095: Starting in XGBoost 1.3.0, the default evaluation metric used with the objective 'binary:logistic' was changed from 'error' to 'logloss'. Explicitly set eval_metric if you'd like to restore the old behavior.\n",
      "[23:27:46] WARNING: C:/Users/Administrator/workspace/xgboost-win64_release_1.4.0/src/learner.cc:1095: Starting in XGBoost 1.3.0, the default evaluation metric used with the objective 'binary:logistic' was changed from 'error' to 'logloss'. Explicitly set eval_metric if you'd like to restore the old behavior.\n",
      "[23:27:48] WARNING: C:/Users/Administrator/workspace/xgboost-win64_release_1.4.0/src/learner.cc:1095: Starting in XGBoost 1.3.0, the default evaluation metric used with the objective 'binary:logistic' was changed from 'error' to 'logloss'. Explicitly set eval_metric if you'd like to restore the old behavior.\n",
      "[23:27:50] WARNING: C:/Users/Administrator/workspace/xgboost-win64_release_1.4.0/src/learner.cc:1095: Starting in XGBoost 1.3.0, the default evaluation metric used with the objective 'binary:logistic' was changed from 'error' to 'logloss'. Explicitly set eval_metric if you'd like to restore the old behavior.\n",
      "[23:27:52] WARNING: C:/Users/Administrator/workspace/xgboost-win64_release_1.4.0/src/learner.cc:1095: Starting in XGBoost 1.3.0, the default evaluation metric used with the objective 'binary:logistic' was changed from 'error' to 'logloss'. Explicitly set eval_metric if you'd like to restore the old behavior.\n",
      "[23:27:58] WARNING: C:/Users/Administrator/workspace/xgboost-win64_release_1.4.0/src/learner.cc:1095: Starting in XGBoost 1.3.0, the default evaluation metric used with the objective 'binary:logistic' was changed from 'error' to 'logloss'. Explicitly set eval_metric if you'd like to restore the old behavior.\n",
      "[23:28:03] WARNING: C:/Users/Administrator/workspace/xgboost-win64_release_1.4.0/src/learner.cc:1095: Starting in XGBoost 1.3.0, the default evaluation metric used with the objective 'binary:logistic' was changed from 'error' to 'logloss'. Explicitly set eval_metric if you'd like to restore the old behavior.\n",
      "[23:28:09] WARNING: C:/Users/Administrator/workspace/xgboost-win64_release_1.4.0/src/learner.cc:1095: Starting in XGBoost 1.3.0, the default evaluation metric used with the objective 'binary:logistic' was changed from 'error' to 'logloss'. Explicitly set eval_metric if you'd like to restore the old behavior.\n",
      "[23:28:15] WARNING: C:/Users/Administrator/workspace/xgboost-win64_release_1.4.0/src/learner.cc:1095: Starting in XGBoost 1.3.0, the default evaluation metric used with the objective 'binary:logistic' was changed from 'error' to 'logloss'. Explicitly set eval_metric if you'd like to restore the old behavior.\n",
      "[23:28:21] WARNING: C:/Users/Administrator/workspace/xgboost-win64_release_1.4.0/src/learner.cc:1095: Starting in XGBoost 1.3.0, the default evaluation metric used with the objective 'binary:logistic' was changed from 'error' to 'logloss'. Explicitly set eval_metric if you'd like to restore the old behavior.\n",
      "[23:28:22] WARNING: C:/Users/Administrator/workspace/xgboost-win64_release_1.4.0/src/learner.cc:1095: Starting in XGBoost 1.3.0, the default evaluation metric used with the objective 'binary:logistic' was changed from 'error' to 'logloss'. Explicitly set eval_metric if you'd like to restore the old behavior.\n",
      "[23:28:23] WARNING: C:/Users/Administrator/workspace/xgboost-win64_release_1.4.0/src/learner.cc:1095: Starting in XGBoost 1.3.0, the default evaluation metric used with the objective 'binary:logistic' was changed from 'error' to 'logloss'. Explicitly set eval_metric if you'd like to restore the old behavior.\n",
      "[23:28:24] WARNING: C:/Users/Administrator/workspace/xgboost-win64_release_1.4.0/src/learner.cc:1095: Starting in XGBoost 1.3.0, the default evaluation metric used with the objective 'binary:logistic' was changed from 'error' to 'logloss'. Explicitly set eval_metric if you'd like to restore the old behavior.\n",
      "[23:28:26] WARNING: C:/Users/Administrator/workspace/xgboost-win64_release_1.4.0/src/learner.cc:1095: Starting in XGBoost 1.3.0, the default evaluation metric used with the objective 'binary:logistic' was changed from 'error' to 'logloss'. Explicitly set eval_metric if you'd like to restore the old behavior.\n",
      "[23:28:27] WARNING: C:/Users/Administrator/workspace/xgboost-win64_release_1.4.0/src/learner.cc:1095: Starting in XGBoost 1.3.0, the default evaluation metric used with the objective 'binary:logistic' was changed from 'error' to 'logloss'. Explicitly set eval_metric if you'd like to restore the old behavior.\n",
      "[23:28:31] WARNING: C:/Users/Administrator/workspace/xgboost-win64_release_1.4.0/src/learner.cc:1095: Starting in XGBoost 1.3.0, the default evaluation metric used with the objective 'binary:logistic' was changed from 'error' to 'logloss'. Explicitly set eval_metric if you'd like to restore the old behavior.\n",
      "[23:28:36] WARNING: C:/Users/Administrator/workspace/xgboost-win64_release_1.4.0/src/learner.cc:1095: Starting in XGBoost 1.3.0, the default evaluation metric used with the objective 'binary:logistic' was changed from 'error' to 'logloss'. Explicitly set eval_metric if you'd like to restore the old behavior.\n",
      "[23:28:40] WARNING: C:/Users/Administrator/workspace/xgboost-win64_release_1.4.0/src/learner.cc:1095: Starting in XGBoost 1.3.0, the default evaluation metric used with the objective 'binary:logistic' was changed from 'error' to 'logloss'. Explicitly set eval_metric if you'd like to restore the old behavior.\n",
      "[23:28:44] WARNING: C:/Users/Administrator/workspace/xgboost-win64_release_1.4.0/src/learner.cc:1095: Starting in XGBoost 1.3.0, the default evaluation metric used with the objective 'binary:logistic' was changed from 'error' to 'logloss'. Explicitly set eval_metric if you'd like to restore the old behavior.\n",
      "[23:28:48] WARNING: C:/Users/Administrator/workspace/xgboost-win64_release_1.4.0/src/learner.cc:1095: Starting in XGBoost 1.3.0, the default evaluation metric used with the objective 'binary:logistic' was changed from 'error' to 'logloss'. Explicitly set eval_metric if you'd like to restore the old behavior.\n",
      "[23:28:51] WARNING: C:/Users/Administrator/workspace/xgboost-win64_release_1.4.0/src/learner.cc:1095: Starting in XGBoost 1.3.0, the default evaluation metric used with the objective 'binary:logistic' was changed from 'error' to 'logloss'. Explicitly set eval_metric if you'd like to restore the old behavior.\n",
      "[23:28:53] WARNING: C:/Users/Administrator/workspace/xgboost-win64_release_1.4.0/src/learner.cc:1095: Starting in XGBoost 1.3.0, the default evaluation metric used with the objective 'binary:logistic' was changed from 'error' to 'logloss'. Explicitly set eval_metric if you'd like to restore the old behavior.\n",
      "[23:28:55] WARNING: C:/Users/Administrator/workspace/xgboost-win64_release_1.4.0/src/learner.cc:1095: Starting in XGBoost 1.3.0, the default evaluation metric used with the objective 'binary:logistic' was changed from 'error' to 'logloss'. Explicitly set eval_metric if you'd like to restore the old behavior.\n",
      "[23:28:57] WARNING: C:/Users/Administrator/workspace/xgboost-win64_release_1.4.0/src/learner.cc:1095: Starting in XGBoost 1.3.0, the default evaluation metric used with the objective 'binary:logistic' was changed from 'error' to 'logloss'. Explicitly set eval_metric if you'd like to restore the old behavior.\n",
      "[23:29:00] WARNING: C:/Users/Administrator/workspace/xgboost-win64_release_1.4.0/src/learner.cc:1095: Starting in XGBoost 1.3.0, the default evaluation metric used with the objective 'binary:logistic' was changed from 'error' to 'logloss'. Explicitly set eval_metric if you'd like to restore the old behavior.\n",
      "[23:29:06] WARNING: C:/Users/Administrator/workspace/xgboost-win64_release_1.4.0/src/learner.cc:1095: Starting in XGBoost 1.3.0, the default evaluation metric used with the objective 'binary:logistic' was changed from 'error' to 'logloss'. Explicitly set eval_metric if you'd like to restore the old behavior.\n",
      "[23:29:12] WARNING: C:/Users/Administrator/workspace/xgboost-win64_release_1.4.0/src/learner.cc:1095: Starting in XGBoost 1.3.0, the default evaluation metric used with the objective 'binary:logistic' was changed from 'error' to 'logloss'. Explicitly set eval_metric if you'd like to restore the old behavior.\n",
      "[23:29:17] WARNING: C:/Users/Administrator/workspace/xgboost-win64_release_1.4.0/src/learner.cc:1095: Starting in XGBoost 1.3.0, the default evaluation metric used with the objective 'binary:logistic' was changed from 'error' to 'logloss'. Explicitly set eval_metric if you'd like to restore the old behavior.\n",
      "[23:29:23] WARNING: C:/Users/Administrator/workspace/xgboost-win64_release_1.4.0/src/learner.cc:1095: Starting in XGBoost 1.3.0, the default evaluation metric used with the objective 'binary:logistic' was changed from 'error' to 'logloss'. Explicitly set eval_metric if you'd like to restore the old behavior.\n",
      "[23:29:29] WARNING: C:/Users/Administrator/workspace/xgboost-win64_release_1.4.0/src/learner.cc:1095: Starting in XGBoost 1.3.0, the default evaluation metric used with the objective 'binary:logistic' was changed from 'error' to 'logloss'. Explicitly set eval_metric if you'd like to restore the old behavior.\n",
      "[23:29:37] WARNING: C:/Users/Administrator/workspace/xgboost-win64_release_1.4.0/src/learner.cc:1095: Starting in XGBoost 1.3.0, the default evaluation metric used with the objective 'binary:logistic' was changed from 'error' to 'logloss'. Explicitly set eval_metric if you'd like to restore the old behavior.\n",
      "[23:29:45] WARNING: C:/Users/Administrator/workspace/xgboost-win64_release_1.4.0/src/learner.cc:1095: Starting in XGBoost 1.3.0, the default evaluation metric used with the objective 'binary:logistic' was changed from 'error' to 'logloss'. Explicitly set eval_metric if you'd like to restore the old behavior.\n",
      "[23:29:54] WARNING: C:/Users/Administrator/workspace/xgboost-win64_release_1.4.0/src/learner.cc:1095: Starting in XGBoost 1.3.0, the default evaluation metric used with the objective 'binary:logistic' was changed from 'error' to 'logloss'. Explicitly set eval_metric if you'd like to restore the old behavior.\n",
      "[23:30:03] WARNING: C:/Users/Administrator/workspace/xgboost-win64_release_1.4.0/src/learner.cc:1095: Starting in XGBoost 1.3.0, the default evaluation metric used with the objective 'binary:logistic' was changed from 'error' to 'logloss'. Explicitly set eval_metric if you'd like to restore the old behavior.\n",
      "[23:30:10] WARNING: C:/Users/Administrator/workspace/xgboost-win64_release_1.4.0/src/learner.cc:1095: Starting in XGBoost 1.3.0, the default evaluation metric used with the objective 'binary:logistic' was changed from 'error' to 'logloss'. Explicitly set eval_metric if you'd like to restore the old behavior.\n",
      "[23:30:14] WARNING: C:/Users/Administrator/workspace/xgboost-win64_release_1.4.0/src/learner.cc:1095: Starting in XGBoost 1.3.0, the default evaluation metric used with the objective 'binary:logistic' was changed from 'error' to 'logloss'. Explicitly set eval_metric if you'd like to restore the old behavior.\n",
      "[23:30:18] WARNING: C:/Users/Administrator/workspace/xgboost-win64_release_1.4.0/src/learner.cc:1095: Starting in XGBoost 1.3.0, the default evaluation metric used with the objective 'binary:logistic' was changed from 'error' to 'logloss'. Explicitly set eval_metric if you'd like to restore the old behavior.\n",
      "[23:30:22] WARNING: C:/Users/Administrator/workspace/xgboost-win64_release_1.4.0/src/learner.cc:1095: Starting in XGBoost 1.3.0, the default evaluation metric used with the objective 'binary:logistic' was changed from 'error' to 'logloss'. Explicitly set eval_metric if you'd like to restore the old behavior.\n",
      "[23:30:25] WARNING: C:/Users/Administrator/workspace/xgboost-win64_release_1.4.0/src/learner.cc:1095: Starting in XGBoost 1.3.0, the default evaluation metric used with the objective 'binary:logistic' was changed from 'error' to 'logloss'. Explicitly set eval_metric if you'd like to restore the old behavior.\n",
      "[23:30:29] WARNING: C:/Users/Administrator/workspace/xgboost-win64_release_1.4.0/src/learner.cc:1095: Starting in XGBoost 1.3.0, the default evaluation metric used with the objective 'binary:logistic' was changed from 'error' to 'logloss'. Explicitly set eval_metric if you'd like to restore the old behavior.\n",
      "[23:30:34] WARNING: C:/Users/Administrator/workspace/xgboost-win64_release_1.4.0/src/learner.cc:1095: Starting in XGBoost 1.3.0, the default evaluation metric used with the objective 'binary:logistic' was changed from 'error' to 'logloss'. Explicitly set eval_metric if you'd like to restore the old behavior.\n",
      "[23:30:38] WARNING: C:/Users/Administrator/workspace/xgboost-win64_release_1.4.0/src/learner.cc:1095: Starting in XGBoost 1.3.0, the default evaluation metric used with the objective 'binary:logistic' was changed from 'error' to 'logloss'. Explicitly set eval_metric if you'd like to restore the old behavior.\n",
      "[23:30:43] WARNING: C:/Users/Administrator/workspace/xgboost-win64_release_1.4.0/src/learner.cc:1095: Starting in XGBoost 1.3.0, the default evaluation metric used with the objective 'binary:logistic' was changed from 'error' to 'logloss'. Explicitly set eval_metric if you'd like to restore the old behavior.\n",
      "[23:30:48] WARNING: C:/Users/Administrator/workspace/xgboost-win64_release_1.4.0/src/learner.cc:1095: Starting in XGBoost 1.3.0, the default evaluation metric used with the objective 'binary:logistic' was changed from 'error' to 'logloss'. Explicitly set eval_metric if you'd like to restore the old behavior.\n",
      "[23:30:52] WARNING: C:/Users/Administrator/workspace/xgboost-win64_release_1.4.0/src/learner.cc:1095: Starting in XGBoost 1.3.0, the default evaluation metric used with the objective 'binary:logistic' was changed from 'error' to 'logloss'. Explicitly set eval_metric if you'd like to restore the old behavior.\n",
      "[23:31:02] WARNING: C:/Users/Administrator/workspace/xgboost-win64_release_1.4.0/src/learner.cc:1095: Starting in XGBoost 1.3.0, the default evaluation metric used with the objective 'binary:logistic' was changed from 'error' to 'logloss'. Explicitly set eval_metric if you'd like to restore the old behavior.\n",
      "[23:31:11] WARNING: C:/Users/Administrator/workspace/xgboost-win64_release_1.4.0/src/learner.cc:1095: Starting in XGBoost 1.3.0, the default evaluation metric used with the objective 'binary:logistic' was changed from 'error' to 'logloss'. Explicitly set eval_metric if you'd like to restore the old behavior.\n",
      "[23:31:20] WARNING: C:/Users/Administrator/workspace/xgboost-win64_release_1.4.0/src/learner.cc:1095: Starting in XGBoost 1.3.0, the default evaluation metric used with the objective 'binary:logistic' was changed from 'error' to 'logloss'. Explicitly set eval_metric if you'd like to restore the old behavior.\n",
      "[23:31:29] WARNING: C:/Users/Administrator/workspace/xgboost-win64_release_1.4.0/src/learner.cc:1095: Starting in XGBoost 1.3.0, the default evaluation metric used with the objective 'binary:logistic' was changed from 'error' to 'logloss'. Explicitly set eval_metric if you'd like to restore the old behavior.\n",
      "[23:31:39] WARNING: C:/Users/Administrator/workspace/xgboost-win64_release_1.4.0/src/learner.cc:1095: Starting in XGBoost 1.3.0, the default evaluation metric used with the objective 'binary:logistic' was changed from 'error' to 'logloss'. Explicitly set eval_metric if you'd like to restore the old behavior.\n",
      "[23:31:46] WARNING: C:/Users/Administrator/workspace/xgboost-win64_release_1.4.0/src/learner.cc:1095: Starting in XGBoost 1.3.0, the default evaluation metric used with the objective 'binary:logistic' was changed from 'error' to 'logloss'. Explicitly set eval_metric if you'd like to restore the old behavior.\n",
      "[23:31:53] WARNING: C:/Users/Administrator/workspace/xgboost-win64_release_1.4.0/src/learner.cc:1095: Starting in XGBoost 1.3.0, the default evaluation metric used with the objective 'binary:logistic' was changed from 'error' to 'logloss'. Explicitly set eval_metric if you'd like to restore the old behavior.\n",
      "[23:32:00] WARNING: C:/Users/Administrator/workspace/xgboost-win64_release_1.4.0/src/learner.cc:1095: Starting in XGBoost 1.3.0, the default evaluation metric used with the objective 'binary:logistic' was changed from 'error' to 'logloss'. Explicitly set eval_metric if you'd like to restore the old behavior.\n",
      "[23:32:08] WARNING: C:/Users/Administrator/workspace/xgboost-win64_release_1.4.0/src/learner.cc:1095: Starting in XGBoost 1.3.0, the default evaluation metric used with the objective 'binary:logistic' was changed from 'error' to 'logloss'. Explicitly set eval_metric if you'd like to restore the old behavior.\n",
      "[23:32:15] WARNING: C:/Users/Administrator/workspace/xgboost-win64_release_1.4.0/src/learner.cc:1095: Starting in XGBoost 1.3.0, the default evaluation metric used with the objective 'binary:logistic' was changed from 'error' to 'logloss'. Explicitly set eval_metric if you'd like to restore the old behavior.\n",
      "[23:32:25] WARNING: C:/Users/Administrator/workspace/xgboost-win64_release_1.4.0/src/learner.cc:1095: Starting in XGBoost 1.3.0, the default evaluation metric used with the objective 'binary:logistic' was changed from 'error' to 'logloss'. Explicitly set eval_metric if you'd like to restore the old behavior.\n",
      "[23:32:35] WARNING: C:/Users/Administrator/workspace/xgboost-win64_release_1.4.0/src/learner.cc:1095: Starting in XGBoost 1.3.0, the default evaluation metric used with the objective 'binary:logistic' was changed from 'error' to 'logloss'. Explicitly set eval_metric if you'd like to restore the old behavior.\n",
      "[23:32:45] WARNING: C:/Users/Administrator/workspace/xgboost-win64_release_1.4.0/src/learner.cc:1095: Starting in XGBoost 1.3.0, the default evaluation metric used with the objective 'binary:logistic' was changed from 'error' to 'logloss'. Explicitly set eval_metric if you'd like to restore the old behavior.\n",
      "[23:32:56] WARNING: C:/Users/Administrator/workspace/xgboost-win64_release_1.4.0/src/learner.cc:1095: Starting in XGBoost 1.3.0, the default evaluation metric used with the objective 'binary:logistic' was changed from 'error' to 'logloss'. Explicitly set eval_metric if you'd like to restore the old behavior.\n",
      "[23:33:06] WARNING: C:/Users/Administrator/workspace/xgboost-win64_release_1.4.0/src/learner.cc:1095: Starting in XGBoost 1.3.0, the default evaluation metric used with the objective 'binary:logistic' was changed from 'error' to 'logloss'. Explicitly set eval_metric if you'd like to restore the old behavior.\n",
      "[23:33:15] WARNING: C:/Users/Administrator/workspace/xgboost-win64_release_1.4.0/src/learner.cc:1095: Starting in XGBoost 1.3.0, the default evaluation metric used with the objective 'binary:logistic' was changed from 'error' to 'logloss'. Explicitly set eval_metric if you'd like to restore the old behavior.\n",
      "[23:33:22] WARNING: C:/Users/Administrator/workspace/xgboost-win64_release_1.4.0/src/learner.cc:1095: Starting in XGBoost 1.3.0, the default evaluation metric used with the objective 'binary:logistic' was changed from 'error' to 'logloss'. Explicitly set eval_metric if you'd like to restore the old behavior.\n",
      "[23:33:29] WARNING: C:/Users/Administrator/workspace/xgboost-win64_release_1.4.0/src/learner.cc:1095: Starting in XGBoost 1.3.0, the default evaluation metric used with the objective 'binary:logistic' was changed from 'error' to 'logloss'. Explicitly set eval_metric if you'd like to restore the old behavior.\n",
      "[23:33:37] WARNING: C:/Users/Administrator/workspace/xgboost-win64_release_1.4.0/src/learner.cc:1095: Starting in XGBoost 1.3.0, the default evaluation metric used with the objective 'binary:logistic' was changed from 'error' to 'logloss'. Explicitly set eval_metric if you'd like to restore the old behavior.\n",
      "[23:33:44] WARNING: C:/Users/Administrator/workspace/xgboost-win64_release_1.4.0/src/learner.cc:1095: Starting in XGBoost 1.3.0, the default evaluation metric used with the objective 'binary:logistic' was changed from 'error' to 'logloss'. Explicitly set eval_metric if you'd like to restore the old behavior.\n",
      "[23:33:51] WARNING: C:/Users/Administrator/workspace/xgboost-win64_release_1.4.0/src/learner.cc:1095: Starting in XGBoost 1.3.0, the default evaluation metric used with the objective 'binary:logistic' was changed from 'error' to 'logloss'. Explicitly set eval_metric if you'd like to restore the old behavior.\n",
      "[23:33:57] WARNING: C:/Users/Administrator/workspace/xgboost-win64_release_1.4.0/src/learner.cc:1095: Starting in XGBoost 1.3.0, the default evaluation metric used with the objective 'binary:logistic' was changed from 'error' to 'logloss'. Explicitly set eval_metric if you'd like to restore the old behavior.\n",
      "[23:34:05] WARNING: C:/Users/Administrator/workspace/xgboost-win64_release_1.4.0/src/learner.cc:1095: Starting in XGBoost 1.3.0, the default evaluation metric used with the objective 'binary:logistic' was changed from 'error' to 'logloss'. Explicitly set eval_metric if you'd like to restore the old behavior.\n",
      "[23:34:11] WARNING: C:/Users/Administrator/workspace/xgboost-win64_release_1.4.0/src/learner.cc:1095: Starting in XGBoost 1.3.0, the default evaluation metric used with the objective 'binary:logistic' was changed from 'error' to 'logloss'. Explicitly set eval_metric if you'd like to restore the old behavior.\n",
      "[23:34:18] WARNING: C:/Users/Administrator/workspace/xgboost-win64_release_1.4.0/src/learner.cc:1095: Starting in XGBoost 1.3.0, the default evaluation metric used with the objective 'binary:logistic' was changed from 'error' to 'logloss'. Explicitly set eval_metric if you'd like to restore the old behavior.\n",
      "[23:34:20] WARNING: C:/Users/Administrator/workspace/xgboost-win64_release_1.4.0/src/learner.cc:1095: Starting in XGBoost 1.3.0, the default evaluation metric used with the objective 'binary:logistic' was changed from 'error' to 'logloss'. Explicitly set eval_metric if you'd like to restore the old behavior.\n",
      "[23:34:21] WARNING: C:/Users/Administrator/workspace/xgboost-win64_release_1.4.0/src/learner.cc:1095: Starting in XGBoost 1.3.0, the default evaluation metric used with the objective 'binary:logistic' was changed from 'error' to 'logloss'. Explicitly set eval_metric if you'd like to restore the old behavior.\n",
      "[23:34:23] WARNING: C:/Users/Administrator/workspace/xgboost-win64_release_1.4.0/src/learner.cc:1095: Starting in XGBoost 1.3.0, the default evaluation metric used with the objective 'binary:logistic' was changed from 'error' to 'logloss'. Explicitly set eval_metric if you'd like to restore the old behavior.\n",
      "[23:34:24] WARNING: C:/Users/Administrator/workspace/xgboost-win64_release_1.4.0/src/learner.cc:1095: Starting in XGBoost 1.3.0, the default evaluation metric used with the objective 'binary:logistic' was changed from 'error' to 'logloss'. Explicitly set eval_metric if you'd like to restore the old behavior.\n",
      "[23:34:25] WARNING: C:/Users/Administrator/workspace/xgboost-win64_release_1.4.0/src/learner.cc:1095: Starting in XGBoost 1.3.0, the default evaluation metric used with the objective 'binary:logistic' was changed from 'error' to 'logloss'. Explicitly set eval_metric if you'd like to restore the old behavior.\n"
     ]
    },
    {
     "data": {
      "text/plain": [
       "RandomizedSearchCV(cv=5,\n",
       "                   estimator=XGBClassifier(base_score=None, booster=None,\n",
       "                                           colsample_bylevel=None,\n",
       "                                           colsample_bynode=None,\n",
       "                                           colsample_bytree=None, gamma=None,\n",
       "                                           gpu_id=None, importance_type='gain',\n",
       "                                           interaction_constraints=None,\n",
       "                                           learning_rate=None,\n",
       "                                           max_delta_step=None, max_depth=None,\n",
       "                                           min_child_weight=None, missing=nan,\n",
       "                                           monotone_constraints=None,\n",
       "                                           n_estimators=100,...\n",
       "                                           subsample=None, tree_method=None,\n",
       "                                           validate_parameters=None,\n",
       "                                           verbosity=None),\n",
       "                   n_iter=20,\n",
       "                   param_distributions={'learning_rate': [0.01, 0.03, 0.05, 0.1,\n",
       "                                                          0.15, 0.2],\n",
       "                                        'max_depth': [3, 4, 5, 6, 7, 8, 9, 10,\n",
       "                                                      11, 12, 13, 14, 15, 16,\n",
       "                                                      17, 18, 19, 20, 21, 22,\n",
       "                                                      23, 24, 25, 26, 27, 28,\n",
       "                                                      29],\n",
       "                                        'n_estimators': [50, 60, 70, 80, 90,\n",
       "                                                         100, 110, 120, 130,\n",
       "                                                         140, 150, 160, 170,\n",
       "                                                         180, 190, 200, 210,\n",
       "                                                         220, 230, 240, 250,\n",
       "                                                         260, 270, 280, 290]},\n",
       "                   scoring='accuracy')"
      ]
     },
     "execution_count": 39,
     "metadata": {},
     "output_type": "execute_result"
    }
   ],
   "source": [
    "from sklearn.model_selection import RandomizedSearchCV\n",
    "from sklearn.metrics import accuracy_score\n",
    "from xgboost import XGBClassifier\n",
    "import random\n",
    "\n",
    "xgbc = XGBClassifier(random_state = 0)\n",
    "\n",
    "param_list = {\"n_estimators\": list(range(50, 300, 10)),\n",
    "              \"max_depth\": list(range(3, 30)),\n",
    "              \"learning_rate\": [0.01, 0.03, 0.05, 0.1, 0.15, 0.2]}\n",
    "\n",
    "xgbc_random_search = RandomizedSearchCV(\n",
    "        estimator=xgbc,\n",
    "        param_distributions = param_list,\n",
    "        n_iter = 20,\n",
    "        cv = 5,\n",
    "        scoring = 'accuracy')\n",
    "\n",
    "xgbc_random_search.fit(X_train, y_train)"
   ]
  },
  {
   "cell_type": "code",
   "execution_count": 40,
   "id": "183ac5a3-da50-4920-b8d7-2109d3789098",
   "metadata": {},
   "outputs": [
    {
     "data": {
      "text/plain": [
       "{'n_estimators': 210, 'max_depth': 4, 'learning_rate': 0.2}"
      ]
     },
     "execution_count": 40,
     "metadata": {},
     "output_type": "execute_result"
    }
   ],
   "source": [
    "xgbc_random_search.best_params_"
   ]
  },
  {
   "cell_type": "code",
   "execution_count": 41,
   "id": "986a02c5-e24c-4938-8fdb-f56fb9a28523",
   "metadata": {},
   "outputs": [
    {
     "data": {
      "text/plain": [
       "0.6216189514733022"
      ]
     },
     "execution_count": 41,
     "metadata": {},
     "output_type": "execute_result"
    }
   ],
   "source": [
    "xgbc_random_search.best_score_"
   ]
  },
  {
   "cell_type": "code",
   "execution_count": 42,
   "id": "1f66f8b0-57a4-4e5e-b0b4-8855c01c0a87",
   "metadata": {},
   "outputs": [],
   "source": [
    "from sklearn.model_selection import cross_val_score\n",
    "from tensorflow.keras.layers import Embedding, Dense, LSTM, Bidirectional\n",
    "from tensorflow.keras.models import Sequential\n",
    "from tensorflow.keras.wrappers.scikit_learn import KerasClassifier\n",
    "from sklearn.model_selection import KFold\n",
    "import numpy as np\n",
    "# fix random seed for reproducibility \n",
    "seed = 7 \n",
    "np.random.seed(seed)\n",
    "\n",
    "def create_model():\n",
    "    bilstm_model = Sequential()\n",
    "    bilstm_model.add(Embedding(vocab_size, 100))\n",
    "    bilstm_model.add(Bidirectional(LSTM(100)))\n",
    "    bilstm_model.add(Dense(1, activation='sigmoid'))\n",
    "    bilstm_model.compile(loss='binary_crossentropy', optimizer='adam', metrics=['accuracy'])\n",
    "    return bilstm_model\n",
    "\n",
    "model = KerasClassifier(build_fn=create_model, epochs=10, batch_size=100, verbose=0)\n",
    "\n",
    "kfold = KFold(n_splits=5, shuffle=True, random_state=seed)\n",
    "\n",
    "results = cross_val_score(model, X_train, y_train, cv=kfold)"
   ]
  },
  {
   "cell_type": "code",
   "execution_count": 43,
   "id": "a1c656c6-3f7c-41c5-9df7-37ddae48ad03",
   "metadata": {},
   "outputs": [
    {
     "data": {
      "text/plain": [
       "array([0.81922883, 0.80470705, 0.81713426, 0.81212425, 0.82264531])"
      ]
     },
     "execution_count": 43,
     "metadata": {},
     "output_type": "execute_result"
    }
   ],
   "source": [
    "results"
   ]
  },
  {
   "cell_type": "code",
   "execution_count": null,
   "id": "7d4cea5d-7f1f-4f3d-b347-5a6468e95b8c",
   "metadata": {},
   "outputs": [],
   "source": []
  }
 ],
 "metadata": {
  "kernelspec": {
   "display_name": "Python 3",
   "language": "python",
   "name": "python3"
  },
  "language_info": {
   "codemirror_mode": {
    "name": "ipython",
    "version": 3
   },
   "file_extension": ".py",
   "mimetype": "text/x-python",
   "name": "python",
   "nbconvert_exporter": "python",
   "pygments_lexer": "ipython3",
   "version": "3.9.0"
  }
 },
 "nbformat": 4,
 "nbformat_minor": 5
}
