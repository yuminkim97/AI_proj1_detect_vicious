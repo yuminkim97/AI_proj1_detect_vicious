{
 "cells": [
  {
   "cell_type": "code",
   "execution_count": 3,
   "id": "4bbea56d-31c8-4ace-a4c5-c824202c9397",
   "metadata": {},
   "outputs": [],
   "source": [
    "import pandas as pd\n",
    "hate_df_1 = pd.read_csv('./data/korean_hate_speech_1.tsv', delimiter='\\t')"
   ]
  },
  {
   "cell_type": "code",
   "execution_count": 4,
   "id": "c2fc9680-670d-4c8e-b0e5-766595b163ba",
   "metadata": {},
   "outputs": [
    {
     "data": {
      "text/html": [
       "<div>\n",
       "<style scoped>\n",
       "    .dataframe tbody tr th:only-of-type {\n",
       "        vertical-align: middle;\n",
       "    }\n",
       "\n",
       "    .dataframe tbody tr th {\n",
       "        vertical-align: top;\n",
       "    }\n",
       "\n",
       "    .dataframe thead th {\n",
       "        text-align: right;\n",
       "    }\n",
       "</style>\n",
       "<table border=\"1\" class=\"dataframe\">\n",
       "  <thead>\n",
       "    <tr style=\"text-align: right;\">\n",
       "      <th></th>\n",
       "      <th>comments</th>\n",
       "      <th>contain_gender_bias</th>\n",
       "      <th>bias</th>\n",
       "      <th>hate</th>\n",
       "    </tr>\n",
       "  </thead>\n",
       "  <tbody>\n",
       "    <tr>\n",
       "      <th>0</th>\n",
       "      <td>(현재 호텔주인 심정) 아18 난 마른하늘에 날벼락맞고 호텔망하게생겼는데 누군 계속...</td>\n",
       "      <td>False</td>\n",
       "      <td>others</td>\n",
       "      <td>hate</td>\n",
       "    </tr>\n",
       "    <tr>\n",
       "      <th>1</th>\n",
       "      <td>....한국적인 미인의 대표적인 분...너무나 곱고아름다운모습...그모습뒤의 슬픔을...</td>\n",
       "      <td>False</td>\n",
       "      <td>none</td>\n",
       "      <td>none</td>\n",
       "    </tr>\n",
       "    <tr>\n",
       "      <th>2</th>\n",
       "      <td>...못된 넘들...남의 고통을 즐겼던 넘들..이젠 마땅한 처벌을 받아야지..,그래...</td>\n",
       "      <td>False</td>\n",
       "      <td>none</td>\n",
       "      <td>hate</td>\n",
       "    </tr>\n",
       "    <tr>\n",
       "      <th>3</th>\n",
       "      <td>1,2화 어설펐는데 3,4화 지나서부터는 갈수록 너무 재밌던데</td>\n",
       "      <td>False</td>\n",
       "      <td>none</td>\n",
       "      <td>none</td>\n",
       "    </tr>\n",
       "    <tr>\n",
       "      <th>4</th>\n",
       "      <td>1. 사람 얼굴 손톱으로 긁은것은 인격살해이고2. 동영상이 몰카냐? 메걸리안들 생각...</td>\n",
       "      <td>True</td>\n",
       "      <td>gender</td>\n",
       "      <td>hate</td>\n",
       "    </tr>\n",
       "  </tbody>\n",
       "</table>\n",
       "</div>"
      ],
      "text/plain": [
       "                                            comments  contain_gender_bias  \\\n",
       "0  (현재 호텔주인 심정) 아18 난 마른하늘에 날벼락맞고 호텔망하게생겼는데 누군 계속...                False   \n",
       "1  ....한국적인 미인의 대표적인 분...너무나 곱고아름다운모습...그모습뒤의 슬픔을...                False   \n",
       "2  ...못된 넘들...남의 고통을 즐겼던 넘들..이젠 마땅한 처벌을 받아야지..,그래...                False   \n",
       "3                 1,2화 어설펐는데 3,4화 지나서부터는 갈수록 너무 재밌던데                False   \n",
       "4  1. 사람 얼굴 손톱으로 긁은것은 인격살해이고2. 동영상이 몰카냐? 메걸리안들 생각...                 True   \n",
       "\n",
       "     bias  hate  \n",
       "0  others  hate  \n",
       "1    none  none  \n",
       "2    none  hate  \n",
       "3    none  none  \n",
       "4  gender  hate  "
      ]
     },
     "execution_count": 4,
     "metadata": {},
     "output_type": "execute_result"
    }
   ],
   "source": [
    "hate_df_1.head(5)"
   ]
  },
  {
   "cell_type": "code",
   "execution_count": 3,
   "id": "3a0a77e7-9340-4922-82d9-333df1e76ba9",
   "metadata": {},
   "outputs": [
    {
     "data": {
      "text/plain": [
       "(7896, 4)"
      ]
     },
     "execution_count": 3,
     "metadata": {},
     "output_type": "execute_result"
    }
   ],
   "source": [
    "hate_df_1.shape"
   ]
  },
  {
   "cell_type": "code",
   "execution_count": 4,
   "id": "30ddfc7b-3d69-4d94-afc2-f632784e7f20",
   "metadata": {},
   "outputs": [],
   "source": [
    "hate_df_1['vicious'] = 0\n",
    "\n",
    "for i in hate_df_1.index :\n",
    "    if (hate_df_1.loc[i, 'contain_gender_bias']=='True') | (hate_df_1.loc[i, 'hate']!='none') :\n",
    "        hate_df_1.loc[i, 'vicious'] = 1"
   ]
  },
  {
   "cell_type": "code",
   "execution_count": 5,
   "id": "98e4feb4-0feb-4ac9-a35f-a42644b8f68c",
   "metadata": {},
   "outputs": [
    {
     "data": {
      "text/plain": [
       "comments               0\n",
       "contain_gender_bias    0\n",
       "bias                   0\n",
       "hate                   0\n",
       "vicious                0\n",
       "dtype: int64"
      ]
     },
     "execution_count": 5,
     "metadata": {},
     "output_type": "execute_result"
    }
   ],
   "source": [
    "hate_df_1.isna().sum()"
   ]
  },
  {
   "cell_type": "code",
   "execution_count": 6,
   "id": "6582ea89-b191-4dfa-8bea-59b8c979234a",
   "metadata": {},
   "outputs": [
    {
     "data": {
      "text/plain": [
       "1    4410\n",
       "0    3486\n",
       "Name: vicious, dtype: int64"
      ]
     },
     "execution_count": 6,
     "metadata": {},
     "output_type": "execute_result"
    }
   ],
   "source": [
    "hate_df_1['vicious'].value_counts()"
   ]
  },
  {
   "cell_type": "code",
   "execution_count": 7,
   "id": "6e4c7f61-d3a9-44ac-b235-e28167487d21",
   "metadata": {},
   "outputs": [],
   "source": [
    "from sklearn.model_selection import train_test_split\n",
    "X_train_h1, X_test_h1, y_train_h1, y_test_h1 = train_test_split(hate_df_1['comments'], hate_df_1['vicious'], random_state=42)"
   ]
  },
  {
   "cell_type": "markdown",
   "id": "cdc6fc5f-3f18-4b7a-bd7c-e168b51072e7",
   "metadata": {},
   "source": [
    "### Base Line model\n",
    "extracting features and use Naive Bayes (NB) model as base line"
   ]
  },
  {
   "cell_type": "code",
   "execution_count": 8,
   "id": "99c037fa-5c8d-4f34-ab63-4badf1ca6143",
   "metadata": {},
   "outputs": [],
   "source": [
    "from sklearn.feature_extraction.text import TfidfVectorizer\n",
    "from sklearn.naive_bayes import MultinomialNB\n",
    "from sklearn.pipeline import Pipeline\n",
    "\n",
    "# vect = TfidfVectorizer(ngram_range=(1,2))\n",
    "# clf = MultinomialNB().fit(X_train_h1, y_train_h1)\n",
    "text_nb = Pipeline([('tfidf', TfidfVectorizer()),\n",
    "                    ('clf', MultinomialNB())]\n",
    "                   )\n",
    "\n",
    "base_line_h1 = text_nb.fit(X_train_h1, y_train_h1)"
   ]
  },
  {
   "cell_type": "code",
   "execution_count": 9,
   "id": "b48adcfc-4a6c-414c-9e12-295dc77cc07f",
   "metadata": {},
   "outputs": [
    {
     "data": {
      "text/plain": [
       "0.6681864235055724"
      ]
     },
     "execution_count": 9,
     "metadata": {},
     "output_type": "execute_result"
    }
   ],
   "source": [
    "from sklearn.metrics import accuracy_score\n",
    "\n",
    "y_pred_h1 = text_nb.predict(X_test_h1)\n",
    "accuracy_score(y_test_h1, y_pred_h1)"
   ]
  },
  {
   "cell_type": "markdown",
   "id": "c59af222-242d-4a32-ae9d-329a72643914",
   "metadata": {},
   "source": [
    "#### Randomforest model"
   ]
  },
  {
   "cell_type": "code",
   "execution_count": 10,
   "id": "2090bc55-3487-428e-83ac-3fec91f0b1b7",
   "metadata": {},
   "outputs": [],
   "source": [
    "from sklearn.ensemble import RandomForestClassifier\n",
    "\n",
    "text_rfc = Pipeline([('tfidf', TfidfVectorizer()),\n",
    "                    ('clf', RandomForestClassifier())]\n",
    "                   )\n",
    "\n",
    "rfc_h1 = text_rfc.fit(X_train_h1, y_train_h1)"
   ]
  },
  {
   "cell_type": "code",
   "execution_count": 11,
   "id": "d6174d0d-670b-40b7-8c83-1ad2733fcc35",
   "metadata": {},
   "outputs": [
    {
     "data": {
      "text/plain": [
       "0.605369807497467"
      ]
     },
     "execution_count": 11,
     "metadata": {},
     "output_type": "execute_result"
    }
   ],
   "source": [
    "y_pred_rfc_h1 = text_rfc.predict(X_test_h1)\n",
    "accuracy_score(y_test_h1, y_pred_rfc_h1)"
   ]
  },
  {
   "cell_type": "markdown",
   "id": "020b2590-058b-4ce5-a640-a30971671b1a",
   "metadata": {},
   "source": [
    "#### Multi-layer perceptron classifier"
   ]
  },
  {
   "cell_type": "code",
   "execution_count": 12,
   "id": "166edc8d-5356-47ad-ae41-915cd6399d32",
   "metadata": {},
   "outputs": [],
   "source": [
    "from sklearn.neural_network import MLPClassifier\n",
    "\n",
    "clf_mlp = MLPClassifier(solver='lbfgs'\n",
    "                   , alpha=1e-5\n",
    "                   , hidden_layer_sizes=(16,2)\n",
    "                   , random_state=2\n",
    "                   )\n",
    "\n",
    "text_mlp = Pipeline([\n",
    "        ('tfidf', TfidfVectorizer())\n",
    "        , ('clf', clf_mlp)\n",
    "])\n",
    "\n",
    "mlp_h1 = text_mlp.fit(X_train_h1, y_train_h1)"
   ]
  },
  {
   "cell_type": "code",
   "execution_count": 13,
   "id": "6cb58320-92d4-440a-8505-49f85af9a577",
   "metadata": {},
   "outputs": [
    {
     "data": {
      "text/plain": [
       "0.5688956433637284"
      ]
     },
     "execution_count": 13,
     "metadata": {},
     "output_type": "execute_result"
    }
   ],
   "source": [
    "y_pred_mlp_h1 = text_mlp.predict(X_test_h1)\n",
    "accuracy_score(y_test_h1, y_pred_mlp_h1)"
   ]
  },
  {
   "cell_type": "markdown",
   "id": "87df2089-83ef-47a0-b317-4e936298b42b",
   "metadata": {},
   "source": [
    "#### "
   ]
  },
  {
   "cell_type": "code",
   "execution_count": null,
   "id": "651bacd2-e530-4a70-84a4-650d6b526608",
   "metadata": {},
   "outputs": [],
   "source": []
  },
  {
   "cell_type": "code",
   "execution_count": null,
   "id": "c2c7dd02-d7d0-49b2-9c8c-4e78fb8d5497",
   "metadata": {},
   "outputs": [],
   "source": []
  },
  {
   "cell_type": "markdown",
   "id": "c08a1dc3-91f6-4125-8cde-c0d120f3f5fb",
   "metadata": {},
   "source": [
    "### 0. Tokenize\n",
    "한국어 토큰화 : https://han-py.tistory.com/283\n",
    "\n",
    "정규표현식으로 한글만 추출할까 했지만 숫자나 puntuation들도 표현의 일부이기 때문에 남겨둠"
   ]
  },
  {
   "cell_type": "code",
   "execution_count": 1,
   "id": "89e92840-a278-47d4-abec-3696ddb4d9b1",
   "metadata": {},
   "outputs": [],
   "source": [
    "import jpype #이거 안쓰면 에러남!!!!\n",
    "from konlpy.tag import Okt\n",
    "\n",
    "okt = Okt()\n",
    "token_h1 = []"
   ]
  },
  {
   "cell_type": "code",
   "execution_count": 4,
   "id": "088dceac-ebc6-40ac-87af-a3bfae446241",
   "metadata": {},
   "outputs": [],
   "source": [
    "stopwords = ['의','가','이','은','들','는','좀','잘','걍','과','도','를','으로','자','에','와','한','하다']\n",
    "for sentence in hate_df_1['comments']:\n",
    "    temp_X = okt.morphs(sentence, stem=True) # 토큰화\n",
    "    temp_X = [word for word in temp_X if not word in stopwords] # 불용어 제거\n",
    "    token_h1.append(temp_X)"
   ]
  },
  {
   "cell_type": "code",
   "execution_count": 5,
   "id": "fd0b1f9a-b4bd-420a-b22d-8968ee0453bf",
   "metadata": {},
   "outputs": [
    {
     "data": {
      "text/plain": [
       "[['(',\n",
       "  '현재',\n",
       "  '호텔',\n",
       "  '주인',\n",
       "  '심정',\n",
       "  ')',\n",
       "  '아',\n",
       "  '18',\n",
       "  '난',\n",
       "  '마른하늘',\n",
       "  '날벼락',\n",
       "  '맞다',\n",
       "  '호텔',\n",
       "  '망하다',\n",
       "  '생기다',\n",
       "  '누',\n",
       "  '군',\n",
       "  '계속',\n",
       "  '추모',\n",
       "  '받다',\n",
       "  '....'],\n",
       " ['....',\n",
       "  '한국',\n",
       "  '적',\n",
       "  '인',\n",
       "  '미인',\n",
       "  '대표',\n",
       "  '적',\n",
       "  '인',\n",
       "  '분',\n",
       "  '...',\n",
       "  '너무나',\n",
       "  '곱',\n",
       "  '고',\n",
       "  '아름답다',\n",
       "  '모습',\n",
       "  '...',\n",
       "  '그',\n",
       "  '모습',\n",
       "  '뒤',\n",
       "  '슬픔',\n",
       "  '을',\n",
       "  '미처',\n",
       "  '알다',\n",
       "  'ㅠ'],\n",
       " ['...',\n",
       "  '못',\n",
       "  '되다',\n",
       "  '넘다',\n",
       "  '들다',\n",
       "  '...',\n",
       "  '남',\n",
       "  '고통',\n",
       "  '을',\n",
       "  '즐기다',\n",
       "  '넘다',\n",
       "  '들다',\n",
       "  '..',\n",
       "  '젠',\n",
       "  '마땅하다',\n",
       "  '처벌',\n",
       "  '을',\n",
       "  '받다',\n",
       "  '..,',\n",
       "  '그',\n",
       "  '래야',\n",
       "  ',',\n",
       "  '공정하다',\n",
       "  '사회',\n",
       "  '지',\n",
       "  '...',\n",
       "  '심다',\n",
       "  '거두다',\n",
       "  '...']]"
      ]
     },
     "execution_count": 5,
     "metadata": {},
     "output_type": "execute_result"
    }
   ],
   "source": [
    "token_h1[:3]"
   ]
  },
  {
   "cell_type": "code",
   "execution_count": null,
   "id": "689152bc-2499-45e7-8cde-bdac956679f3",
   "metadata": {},
   "outputs": [],
   "source": []
  },
  {
   "cell_type": "markdown",
   "id": "64aad267-a69f-4d6c-a453-6e5de647204a",
   "metadata": {},
   "source": [
    "### 1. vectorization (word2vec)\n",
    "https://wikidocs.net/50739"
   ]
  },
  {
   "cell_type": "code",
   "execution_count": null,
   "id": "16f109d5-8319-4d39-861d-73ec31cf33eb",
   "metadata": {},
   "outputs": [],
   "source": [
    "# import re\n",
    "# comp_kr = re.compile('[ㄱ-ㅎ]+')\n",
    "# hate_df_1['vicious_kr'] = comp_kr.findall(hate_df_1['vicious'])"
   ]
  },
  {
   "cell_type": "code",
   "execution_count": null,
   "id": "e0c07e2c-a3b7-402b-b070-96463f41d7a8",
   "metadata": {},
   "outputs": [],
   "source": [
    "stopwords = ['의','가','이','은','들','는','좀','잘','걍','과','도','를','으로','자','에','와','한','하다']"
   ]
  },
  {
   "cell_type": "code",
   "execution_count": null,
   "id": "2147e146-771a-4f90-bd7f-fc36028500b9",
   "metadata": {},
   "outputs": [],
   "source": [
    "from gensim.models.word2vec import Word2Vec\n",
    "from konlpy.tag import Okt"
   ]
  },
  {
   "cell_type": "code",
   "execution_count": 8,
   "id": "5de00fbe-4014-4b73-8f39-b859b572bca7",
   "metadata": {},
   "outputs": [],
   "source": [
    "# from sklearn.feature_extraction.text import TfidfVectorizer\n",
    "\n",
    "# tfidf = TfidfVectorizer(stop_words='english', max_features=100)\n",
    "# dtm_hate_1 = tfidf.fit_transform(hate_df_1['comments'])"
   ]
  },
  {
   "cell_type": "code",
   "execution_count": null,
   "id": "5e4122fa-6ed2-4c5e-a417-e4cd51adc5f3",
   "metadata": {},
   "outputs": [],
   "source": []
  }
 ],
 "metadata": {
  "kernelspec": {
   "display_name": "proj1_vic",
   "language": "python",
   "name": "proj1_vic"
  },
  "language_info": {
   "codemirror_mode": {
    "name": "ipython",
    "version": 3
   },
   "file_extension": ".py",
   "mimetype": "text/x-python",
   "name": "python",
   "nbconvert_exporter": "python",
   "pygments_lexer": "ipython3",
   "version": "3.9.0"
  }
 },
 "nbformat": 4,
 "nbformat_minor": 5
}
