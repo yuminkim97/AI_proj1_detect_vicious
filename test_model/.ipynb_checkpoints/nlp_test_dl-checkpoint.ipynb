{
 "cells": [
  {
   "cell_type": "code",
   "execution_count": 46,
   "id": "c8989075-d6d5-423d-9825-76c035b9575a",
   "metadata": {},
   "outputs": [],
   "source": [
    "import pandas as pd\n",
    "import numpy as np\n",
    "\n",
    "civious_df = pd.read_csv('./data/Dataset.csv.txt', delimiter='\\t')"
   ]
  },
  {
   "cell_type": "markdown",
   "id": "ed1cd71f-07a0-4ac0-bc15-e4723be86c96",
   "metadata": {},
   "source": [
    "#### **데이터 전처리**"
   ]
  },
  {
   "cell_type": "markdown",
   "id": "6e8be997-cd32-44bb-bf22-99943c5e28ef",
   "metadata": {},
   "source": [
    "1. puntuation 제거 (숫자로 비속어를 표현하는 경우도 있기때문에 숫자는 남겨둠)"
   ]
  },
  {
   "cell_type": "markdown",
   "id": "3c2c1b9b-fd9d-4617-9fac-a8f5dcc946e7",
   "metadata": {},
   "source": [
    "null 값의 label을 직접 입력해줌\n",
    "\n",
    "하는 김에 label도 int로 바꿔줌"
   ]
  },
  {
   "cell_type": "code",
   "execution_count": 47,
   "id": "a38db4e1-edf0-41a0-9b7c-d6007b376850",
   "metadata": {},
   "outputs": [],
   "source": [
    "for i in civious_df[civious_df['lable'].isnull()].index :\n",
    "    textNlabel = civious_df.loc[i, 'content'].split('\\t')\n",
    "    civious_df.loc[i, 'content'] = textNlabel[0]\n",
    "    civious_df.loc[i, 'lable'] = int(textNlabel[1])"
   ]
  },
  {
   "cell_type": "code",
   "execution_count": 48,
   "id": "d5cf11f9-cf06-4d9f-9cdb-a54e9ac807cc",
   "metadata": {},
   "outputs": [],
   "source": [
    "civious_df['content'] = civious_df['content'].str.replace(\"[^ㄱ-ㅎㅏ-ㅣ가-힣 0-9]\",\"\", regex=True)\n",
    "# civious_df['content'] = civious_df['content'].str.replace(\"[:punct:]\",\"\", regex=True)"
   ]
  },
  {
   "cell_type": "code",
   "execution_count": 49,
   "id": "6767ffdf-9d2b-40b0-a35b-dd0ae0dbdce4",
   "metadata": {},
   "outputs": [],
   "source": [
    "civious_df['lable'] = civious_df['lable'].apply(lambda x : int(x))"
   ]
  },
  {
   "cell_type": "code",
   "execution_count": 50,
   "id": "68d53b2e-a811-45af-ad81-1bb8bd2cd236",
   "metadata": {},
   "outputs": [],
   "source": [
    "civious_df['lable'] = civious_df['lable'].replace([1,0],[0,1])"
   ]
  },
  {
   "cell_type": "code",
   "execution_count": 51,
   "id": "e811b03b-5475-4afe-8754-ec35089c5af6",
   "metadata": {},
   "outputs": [
    {
     "data": {
      "text/html": [
       "<div>\n",
       "<style scoped>\n",
       "    .dataframe tbody tr th:only-of-type {\n",
       "        vertical-align: middle;\n",
       "    }\n",
       "\n",
       "    .dataframe tbody tr th {\n",
       "        vertical-align: top;\n",
       "    }\n",
       "\n",
       "    .dataframe thead th {\n",
       "        text-align: right;\n",
       "    }\n",
       "</style>\n",
       "<table border=\"1\" class=\"dataframe\">\n",
       "  <thead>\n",
       "    <tr style=\"text-align: right;\">\n",
       "      <th></th>\n",
       "      <th>content</th>\n",
       "      <th>lable</th>\n",
       "    </tr>\n",
       "  </thead>\n",
       "  <tbody>\n",
       "    <tr>\n",
       "      <th>0</th>\n",
       "      <td>이종석 한효주 나오는 드라마 이후로 드라마 안봤다 2년전인가 좀 신선했었지 근데 이...</td>\n",
       "      <td>1</td>\n",
       "    </tr>\n",
       "    <tr>\n",
       "      <th>1</th>\n",
       "      <td>씨바알노무노무 술프노 오늘 저녁은 꽂등심이다ㅠㅜ</td>\n",
       "      <td>1</td>\n",
       "    </tr>\n",
       "    <tr>\n",
       "      <th>2</th>\n",
       "      <td>짱깨 꺼라ㅡ패쓰</td>\n",
       "      <td>1</td>\n",
       "    </tr>\n",
       "    <tr>\n",
       "      <th>3</th>\n",
       "      <td>그들의 사생활  고인이된 설리를 위해서라도 모두 조용하길 지금 누굴 탓한다고 무슨소...</td>\n",
       "      <td>0</td>\n",
       "    </tr>\n",
       "    <tr>\n",
       "      <th>4</th>\n",
       "      <td>아무리 법이 뭣같아도 무슨 자격으로 개인의 신상정보를 불특정 다수에게 공개하는지 도...</td>\n",
       "      <td>0</td>\n",
       "    </tr>\n",
       "  </tbody>\n",
       "</table>\n",
       "</div>"
      ],
      "text/plain": [
       "                                             content  lable\n",
       "0  이종석 한효주 나오는 드라마 이후로 드라마 안봤다 2년전인가 좀 신선했었지 근데 이...      1\n",
       "1                         씨바알노무노무 술프노 오늘 저녁은 꽂등심이다ㅠㅜ      1\n",
       "2                                           짱깨 꺼라ㅡ패쓰      1\n",
       "3  그들의 사생활  고인이된 설리를 위해서라도 모두 조용하길 지금 누굴 탓한다고 무슨소...      0\n",
       "4  아무리 법이 뭣같아도 무슨 자격으로 개인의 신상정보를 불특정 다수에게 공개하는지 도...      0"
      ]
     },
     "execution_count": 51,
     "metadata": {},
     "output_type": "execute_result"
    }
   ],
   "source": [
    "civious_df.head(5)"
   ]
  },
  {
   "cell_type": "markdown",
   "id": "66b2317d-6fe5-4222-a851-cf72aae19261",
   "metadata": {},
   "source": [
    "2. 중복 제거"
   ]
  },
  {
   "cell_type": "code",
   "execution_count": 52,
   "id": "b2eef848-f2a6-4a56-93d8-ff8aaf63aed3",
   "metadata": {},
   "outputs": [
    {
     "data": {
      "text/plain": [
       "content    9982\n",
       "lable         2\n",
       "dtype: int64"
      ]
     },
     "execution_count": 52,
     "metadata": {},
     "output_type": "execute_result"
    }
   ],
   "source": [
    "civious_df.nunique()"
   ]
  },
  {
   "cell_type": "code",
   "execution_count": 53,
   "id": "3e244443-b692-4c3a-9c1f-d3d04af39dcc",
   "metadata": {},
   "outputs": [],
   "source": [
    "civious_df.drop_duplicates(subset=['content'], inplace=True, ignore_index=True)"
   ]
  },
  {
   "cell_type": "code",
   "execution_count": 54,
   "id": "4a65f7ad-daab-4891-89ca-4097bdf3bac4",
   "metadata": {},
   "outputs": [
    {
     "data": {
      "text/plain": [
       "(9982, 2)"
      ]
     },
     "execution_count": 54,
     "metadata": {},
     "output_type": "execute_result"
    }
   ],
   "source": [
    "civious_df.shape"
   ]
  },
  {
   "cell_type": "markdown",
   "id": "ede3638a-7e33-4b29-a8d1-cf27ad5d451a",
   "metadata": {},
   "source": [
    "3. puntuation 제거 후 빈 문자열이 된 데이터가 있는지 확인"
   ]
  },
  {
   "cell_type": "code",
   "execution_count": 55,
   "id": "873f4bc5-b31e-4f57-af8f-affdc8bab725",
   "metadata": {},
   "outputs": [],
   "source": [
    "civious_df['content'].replace('', np.nan, inplace=True)"
   ]
  },
  {
   "cell_type": "code",
   "execution_count": 56,
   "id": "9dfa817a-8da0-48ec-8976-319da9371a56",
   "metadata": {},
   "outputs": [
    {
     "data": {
      "text/plain": [
       "(9982, 2)"
      ]
     },
     "execution_count": 56,
     "metadata": {},
     "output_type": "execute_result"
    }
   ],
   "source": [
    "civious_df.shape"
   ]
  },
  {
   "cell_type": "code",
   "execution_count": 57,
   "id": "9d8a3e3c-bc87-4734-a194-ecd03771a3d7",
   "metadata": {},
   "outputs": [
    {
     "name": "stdout",
     "output_type": "stream",
     "text": [
      "content    0\n",
      "lable      0\n",
      "dtype: int64\n"
     ]
    }
   ],
   "source": [
    "print(civious_df.isnull().sum())"
   ]
  },
  {
   "cell_type": "markdown",
   "id": "4bb0b43e-c655-486c-8293-6ce4b4d801ca",
   "metadata": {},
   "source": [
    "content column에 빈 문자열은 없음!"
   ]
  },
  {
   "cell_type": "markdown",
   "id": "846dd4e2-0043-4004-9c2e-5129c63ebe61",
   "metadata": {},
   "source": [
    "#### **토큰화**"
   ]
  },
  {
   "cell_type": "code",
   "execution_count": 58,
   "id": "32540e8b-95dc-4e18-8b3c-b871fae60d0b",
   "metadata": {},
   "outputs": [],
   "source": [
    "stopwords = []\n",
    "stopwords_file = open('./data/korean_stopwords.txt', 'r', encoding='UTF8')\n",
    "stopwords_lines = stopwords_file.readlines()\n",
    "for line in stopwords_lines :\n",
    "    stopwords.append(line.split('\\t')[0])"
   ]
  },
  {
   "cell_type": "code",
   "execution_count": 59,
   "id": "09ed8376-b64e-4fff-b0df-5e4c57c0245c",
   "metadata": {},
   "outputs": [],
   "source": [
    "import jpype #이거 안쓰면 에러남!!!!\n",
    "from konlpy.tag import Okt\n",
    "\n",
    "okt = Okt()\n",
    "token_list = []"
   ]
  },
  {
   "cell_type": "code",
   "execution_count": 60,
   "id": "cdc68cf4-d5a2-4085-8492-72dc6adc7018",
   "metadata": {},
   "outputs": [],
   "source": [
    "toknized_df = pd.DataFrame(columns=['text', 'label'])"
   ]
  },
  {
   "cell_type": "code",
   "execution_count": 61,
   "id": "992bec0c-7cd3-4539-97e3-04ccfc83d2c9",
   "metadata": {},
   "outputs": [],
   "source": [
    "for i in civious_df.index :\n",
    "    sentence = civious_df.loc[i, 'content']\n",
    "    temp_X = okt.morphs(sentence, stem=True) # 토큰화\n",
    "    temp_X = [word for word in temp_X if not word in stopwords] # 불용어 제거\n",
    "    toknized_df.loc[i, 'text'] = temp_X"
   ]
  },
  {
   "cell_type": "code",
   "execution_count": 62,
   "id": "be0db059-0daa-4d44-a94c-05900dc59fc0",
   "metadata": {},
   "outputs": [],
   "source": [
    "toknized_df['label'] = civious_df['lable']"
   ]
  },
  {
   "cell_type": "code",
   "execution_count": 63,
   "id": "56adb2da-75d8-4d74-8220-8d58a89bb649",
   "metadata": {},
   "outputs": [
    {
     "data": {
      "text/html": [
       "<div>\n",
       "<style scoped>\n",
       "    .dataframe tbody tr th:only-of-type {\n",
       "        vertical-align: middle;\n",
       "    }\n",
       "\n",
       "    .dataframe tbody tr th {\n",
       "        vertical-align: top;\n",
       "    }\n",
       "\n",
       "    .dataframe thead th {\n",
       "        text-align: right;\n",
       "    }\n",
       "</style>\n",
       "<table border=\"1\" class=\"dataframe\">\n",
       "  <thead>\n",
       "    <tr style=\"text-align: right;\">\n",
       "      <th></th>\n",
       "      <th>text</th>\n",
       "      <th>label</th>\n",
       "    </tr>\n",
       "  </thead>\n",
       "  <tbody>\n",
       "    <tr>\n",
       "      <th>0</th>\n",
       "      <td>[이종석, 한효주, 나오다, 드라마, 이후, 로, 드라마, 보다, 2년, 전인가, ...</td>\n",
       "      <td>1</td>\n",
       "    </tr>\n",
       "    <tr>\n",
       "      <th>1</th>\n",
       "      <td>[씨, 바알, 노무, 노무, 술프노, 오늘, 저녁, 은, 꽂다, 등심, 이다, ㅠㅜ]</td>\n",
       "      <td>1</td>\n",
       "    </tr>\n",
       "    <tr>\n",
       "      <th>2</th>\n",
       "      <td>[짱깨, 끄다, ㅡ, 패쓰]</td>\n",
       "      <td>1</td>\n",
       "    </tr>\n",
       "    <tr>\n",
       "      <th>3</th>\n",
       "      <td>[의, 사생활, 고인, 되다, 설리, 를, 위, 하다, 모두, 조용하다, 누굴, 탓...</td>\n",
       "      <td>0</td>\n",
       "    </tr>\n",
       "    <tr>\n",
       "      <th>4</th>\n",
       "      <td>[아무리, 법, 뭣같아, 도, 무슨, 자격, 으로, 개인, 의, 신상, 정보, 를,...</td>\n",
       "      <td>0</td>\n",
       "    </tr>\n",
       "  </tbody>\n",
       "</table>\n",
       "</div>"
      ],
      "text/plain": [
       "                                                text  label\n",
       "0  [이종석, 한효주, 나오다, 드라마, 이후, 로, 드라마, 보다, 2년, 전인가, ...      1\n",
       "1    [씨, 바알, 노무, 노무, 술프노, 오늘, 저녁, 은, 꽂다, 등심, 이다, ㅠㅜ]      1\n",
       "2                                    [짱깨, 끄다, ㅡ, 패쓰]      1\n",
       "3  [의, 사생활, 고인, 되다, 설리, 를, 위, 하다, 모두, 조용하다, 누굴, 탓...      0\n",
       "4  [아무리, 법, 뭣같아, 도, 무슨, 자격, 으로, 개인, 의, 신상, 정보, 를,...      0"
      ]
     },
     "execution_count": 63,
     "metadata": {},
     "output_type": "execute_result"
    }
   ],
   "source": [
    "toknized_df.head(5)"
   ]
  },
  {
   "cell_type": "code",
   "execution_count": 65,
   "id": "0d6a44f0-a25c-487d-87f4-9f202f3385cb",
   "metadata": {},
   "outputs": [],
   "source": [
    "toknized_df.to_csv('./data/toknized_data.csv', index=False)"
   ]
  },
  {
   "cell_type": "markdown",
   "id": "35a64277-ad22-490a-aad0-0cca1d1645b1",
   "metadata": {},
   "source": [
    "#### **인코딩**"
   ]
  },
  {
   "cell_type": "code",
   "execution_count": 21,
   "id": "2c8b800b-f2b1-40be-b754-bab3bf8b9fdd",
   "metadata": {},
   "outputs": [],
   "source": [
    "import tensorflow as tf\n",
    "from tensorflow import keras\n",
    "from tensorflow.keras.preprocessing.text import Tokenizer\n",
    "\n",
    "tokenizer = Tokenizer()\n",
    "tokenizer.fit_on_texts(toknized_df['text'])"
   ]
  },
  {
   "cell_type": "code",
   "execution_count": 22,
   "id": "09601e85-5166-446d-9a91-63a327843db2",
   "metadata": {},
   "outputs": [
    {
     "name": "stdout",
     "output_type": "stream",
     "text": [
      "단어 집합(vocabulary)의 크기 : 15680\n",
      "등장 빈도가 2번 이하인 희귀 단어의 수: 10035\n",
      "단어 집합에서 희귀 단어의 비율: 63.99872448979592\n",
      "전체 등장 빈도에서 희귀 단어 등장 빈도 비율: 9.110836700545818\n"
     ]
    }
   ],
   "source": [
    "threshold = 3\n",
    "total_cnt = len(tokenizer.word_index) # 단어의 수\n",
    "rare_cnt = 0 # 등장 빈도수가 threshold보다 작은 단어의 개수를 카운트\n",
    "total_freq = 0 # 훈련 데이터의 전체 단어 빈도수 총 합\n",
    "rare_freq = 0 # 등장 빈도수가 threshold보다 작은 단어의 등장 빈도수의 총 합\n",
    "\n",
    "# 단어와 빈도수의 쌍(pair)을 key와 value로 받는다.\n",
    "for key, value in tokenizer.word_counts.items():\n",
    "    total_freq = total_freq + value\n",
    "\n",
    "    # 단어의 등장 빈도수가 threshold보다 작으면\n",
    "    if (value < threshold):\n",
    "        rare_cnt = rare_cnt + 1\n",
    "        rare_freq = rare_freq + value\n",
    "\n",
    "print('단어 집합(vocabulary)의 크기 :',total_cnt)\n",
    "print('등장 빈도가 %s번 이하인 희귀 단어의 수: %s'%(threshold - 1, rare_cnt))\n",
    "print(\"단어 집합에서 희귀 단어의 비율:\", (rare_cnt / total_cnt)*100)\n",
    "print(\"전체 등장 빈도에서 희귀 단어 등장 빈도 비율:\", (rare_freq / total_freq)*100)"
   ]
  },
  {
   "cell_type": "markdown",
   "id": "f2f5713b-7dde-45b5-9c61-115351a286db",
   "metadata": {},
   "source": [
    "3회 미만으로 등장하는 단어가 8.9퍼센트를 차지한다."
   ]
  },
  {
   "cell_type": "code",
   "execution_count": 23,
   "id": "7ba3ed8f-f7bf-4437-b4c7-6075dadbe243",
   "metadata": {},
   "outputs": [
    {
     "name": "stdout",
     "output_type": "stream",
     "text": [
      "단어 집합의 크기 : 5646\n"
     ]
    }
   ],
   "source": [
    "vocab_size = total_cnt - rare_cnt + 1\n",
    "print('단어 집합의 크기 :',vocab_size)"
   ]
  },
  {
   "cell_type": "code",
   "execution_count": 24,
   "id": "bb023838-90fc-4e90-a5db-d70e8b512146",
   "metadata": {},
   "outputs": [],
   "source": [
    "tokenizer = Tokenizer(vocab_size) \n",
    "tokenizer.fit_on_texts(toknized_df['text'])\n",
    "toknized_df['encoding'] = tokenizer.texts_to_sequences(toknized_df['text'])"
   ]
  },
  {
   "cell_type": "code",
   "execution_count": 25,
   "id": "d755c734-b049-46ae-b521-821281915b8c",
   "metadata": {},
   "outputs": [
    {
     "data": {
      "text/html": [
       "<div>\n",
       "<style scoped>\n",
       "    .dataframe tbody tr th:only-of-type {\n",
       "        vertical-align: middle;\n",
       "    }\n",
       "\n",
       "    .dataframe tbody tr th {\n",
       "        vertical-align: top;\n",
       "    }\n",
       "\n",
       "    .dataframe thead th {\n",
       "        text-align: right;\n",
       "    }\n",
       "</style>\n",
       "<table border=\"1\" class=\"dataframe\">\n",
       "  <thead>\n",
       "    <tr style=\"text-align: right;\">\n",
       "      <th></th>\n",
       "      <th>text</th>\n",
       "      <th>label</th>\n",
       "      <th>encoding</th>\n",
       "    </tr>\n",
       "  </thead>\n",
       "  <tbody>\n",
       "    <tr>\n",
       "      <th>0</th>\n",
       "      <td>[이종석, 한효주, 나오다, 드라마, 이후, 로, 드라마, 보다, 2년, 전인가, ...</td>\n",
       "      <td>1</td>\n",
       "      <td>[2384, 1789, 33, 111, 851, 18, 111, 5, 1353, 1...</td>\n",
       "    </tr>\n",
       "    <tr>\n",
       "      <th>1</th>\n",
       "      <td>[씨, 바알, 노무, 노무, 술프노, 오늘, 저녁, 은, 꽂다, 등심, 이다, ㅠㅜ]</td>\n",
       "      <td>1</td>\n",
       "      <td>[75, 1354, 1354, 260, 3061, 4, 2122, 20, 2385]</td>\n",
       "    </tr>\n",
       "    <tr>\n",
       "      <th>2</th>\n",
       "      <td>[짱깨, 끄다, ㅡ, 패쓰]</td>\n",
       "      <td>1</td>\n",
       "      <td>[399, 136, 409]</td>\n",
       "    </tr>\n",
       "    <tr>\n",
       "      <th>3</th>\n",
       "      <td>[의, 사생활, 고인, 되다, 설리, 를, 위, 하다, 모두, 조용하다, 누굴, 탓...</td>\n",
       "      <td>0</td>\n",
       "      <td>[14, 1541, 649, 11, 222, 16, 195, 1, 592, 650,...</td>\n",
       "    </tr>\n",
       "    <tr>\n",
       "      <th>4</th>\n",
       "      <td>[아무리, 법, 뭣같아, 도, 무슨, 자격, 으로, 개인, 의, 신상, 정보, 를,...</td>\n",
       "      <td>0</td>\n",
       "      <td>[479, 492, 3, 105, 1791, 17, 512, 14, 1443, 11...</td>\n",
       "    </tr>\n",
       "  </tbody>\n",
       "</table>\n",
       "</div>"
      ],
      "text/plain": [
       "                                                text  label  \\\n",
       "0  [이종석, 한효주, 나오다, 드라마, 이후, 로, 드라마, 보다, 2년, 전인가, ...      1   \n",
       "1    [씨, 바알, 노무, 노무, 술프노, 오늘, 저녁, 은, 꽂다, 등심, 이다, ㅠㅜ]      1   \n",
       "2                                    [짱깨, 끄다, ㅡ, 패쓰]      1   \n",
       "3  [의, 사생활, 고인, 되다, 설리, 를, 위, 하다, 모두, 조용하다, 누굴, 탓...      0   \n",
       "4  [아무리, 법, 뭣같아, 도, 무슨, 자격, 으로, 개인, 의, 신상, 정보, 를,...      0   \n",
       "\n",
       "                                            encoding  \n",
       "0  [2384, 1789, 33, 111, 851, 18, 111, 5, 1353, 1...  \n",
       "1     [75, 1354, 1354, 260, 3061, 4, 2122, 20, 2385]  \n",
       "2                                    [399, 136, 409]  \n",
       "3  [14, 1541, 649, 11, 222, 16, 195, 1, 592, 650,...  \n",
       "4  [479, 492, 3, 105, 1791, 17, 512, 14, 1443, 11...  "
      ]
     },
     "execution_count": 25,
     "metadata": {},
     "output_type": "execute_result"
    }
   ],
   "source": [
    "toknized_df.head(5)"
   ]
  },
  {
   "cell_type": "markdown",
   "id": "971e10bc-a4bd-48e7-8604-6ede858c8c96",
   "metadata": {},
   "source": [
    "문장을 구성하는 모든 단어가 희귀 단어여서 빈 encoding sequence를 생성하는 경우를 제거"
   ]
  },
  {
   "cell_type": "code",
   "execution_count": 26,
   "id": "35b5131b-d658-4d1c-a39e-ef9ea63ac6a6",
   "metadata": {},
   "outputs": [],
   "source": [
    "drop_index = [index for index, sentence in enumerate(toknized_df['encoding']) if len(sentence) < 1]"
   ]
  },
  {
   "cell_type": "code",
   "execution_count": 27,
   "id": "4f87b1ac-87c4-4029-8a1a-fad2534df3d2",
   "metadata": {},
   "outputs": [
    {
     "data": {
      "text/plain": [
       "15"
      ]
     },
     "execution_count": 27,
     "metadata": {},
     "output_type": "execute_result"
    }
   ],
   "source": [
    "len(drop_index)"
   ]
  },
  {
   "cell_type": "code",
   "execution_count": 28,
   "id": "88bd1968-ddfb-496b-8b49-a6c06b657602",
   "metadata": {},
   "outputs": [],
   "source": [
    "toknized_df.drop(index=drop_index, axis=0, inplace=True)\n",
    "# toknized_df = np.delete(toknized_df, drop_index, axis=0)\n",
    "toknized_df.reset_index(inplace=True, drop=True)"
   ]
  },
  {
   "cell_type": "code",
   "execution_count": 29,
   "id": "2436460e-08e4-408a-8ac3-b4a0cfc56a09",
   "metadata": {},
   "outputs": [
    {
     "data": {
      "text/html": [
       "<div>\n",
       "<style scoped>\n",
       "    .dataframe tbody tr th:only-of-type {\n",
       "        vertical-align: middle;\n",
       "    }\n",
       "\n",
       "    .dataframe tbody tr th {\n",
       "        vertical-align: top;\n",
       "    }\n",
       "\n",
       "    .dataframe thead th {\n",
       "        text-align: right;\n",
       "    }\n",
       "</style>\n",
       "<table border=\"1\" class=\"dataframe\">\n",
       "  <thead>\n",
       "    <tr style=\"text-align: right;\">\n",
       "      <th></th>\n",
       "      <th>text</th>\n",
       "      <th>label</th>\n",
       "      <th>encoding</th>\n",
       "    </tr>\n",
       "  </thead>\n",
       "  <tbody>\n",
       "    <tr>\n",
       "      <th>0</th>\n",
       "      <td>[이종석, 한효주, 나오다, 드라마, 이후, 로, 드라마, 보다, 2년, 전인가, ...</td>\n",
       "      <td>1</td>\n",
       "      <td>[2384, 1789, 33, 111, 851, 18, 111, 5, 1353, 1...</td>\n",
       "    </tr>\n",
       "    <tr>\n",
       "      <th>1</th>\n",
       "      <td>[씨, 바알, 노무, 노무, 술프노, 오늘, 저녁, 은, 꽂다, 등심, 이다, ㅠㅜ]</td>\n",
       "      <td>1</td>\n",
       "      <td>[75, 1354, 1354, 260, 3061, 4, 2122, 20, 2385]</td>\n",
       "    </tr>\n",
       "    <tr>\n",
       "      <th>2</th>\n",
       "      <td>[짱깨, 끄다, ㅡ, 패쓰]</td>\n",
       "      <td>1</td>\n",
       "      <td>[399, 136, 409]</td>\n",
       "    </tr>\n",
       "    <tr>\n",
       "      <th>3</th>\n",
       "      <td>[의, 사생활, 고인, 되다, 설리, 를, 위, 하다, 모두, 조용하다, 누굴, 탓...</td>\n",
       "      <td>0</td>\n",
       "      <td>[14, 1541, 649, 11, 222, 16, 195, 1, 592, 650,...</td>\n",
       "    </tr>\n",
       "    <tr>\n",
       "      <th>4</th>\n",
       "      <td>[아무리, 법, 뭣같아, 도, 무슨, 자격, 으로, 개인, 의, 신상, 정보, 를,...</td>\n",
       "      <td>0</td>\n",
       "      <td>[479, 492, 3, 105, 1791, 17, 512, 14, 1443, 11...</td>\n",
       "    </tr>\n",
       "    <tr>\n",
       "      <th>...</th>\n",
       "      <td>...</td>\n",
       "      <td>...</td>\n",
       "      <td>...</td>\n",
       "    </tr>\n",
       "    <tr>\n",
       "      <th>9962</th>\n",
       "      <td>[거, 보다, 더하다, 막장, 의, 드라마, 도, 넋, 놓다, 보다, 무슨]</td>\n",
       "      <td>0</td>\n",
       "      <td>[41, 5, 1212, 1604, 14, 111, 3, 276, 5, 105]</td>\n",
       "    </tr>\n",
       "    <tr>\n",
       "      <th>9963</th>\n",
       "      <td>[머, 제네시스, 올라프, 에디, 션]</td>\n",
       "      <td>0</td>\n",
       "      <td>[329, 2320, 2927]</td>\n",
       "    </tr>\n",
       "    <tr>\n",
       "      <th>9964</th>\n",
       "      <td>[항상, 로, ㅡ, ㅡ, 저, 지랄, 들이다, 남자, 벗기다, 보다]</td>\n",
       "      <td>1</td>\n",
       "      <td>[384, 18, 409, 409, 34, 118, 93, 54, 5]</td>\n",
       "    </tr>\n",
       "    <tr>\n",
       "      <th>9965</th>\n",
       "      <td>[첫, 번째, 이유, ㄹㅇ, 맞다, 특히, 뉴스, 기사, 몇, 줄, 읽다, 학생, ...</td>\n",
       "      <td>1</td>\n",
       "      <td>[1249, 3186, 295, 535, 63, 777, 716, 80, 325, ...</td>\n",
       "    </tr>\n",
       "    <tr>\n",
       "      <th>9966</th>\n",
       "      <td>[폰, 누가, 쓰다, 도, 못자다, 폰, 쓰래, 기, 통, 에나, 버리다]</td>\n",
       "      <td>1</td>\n",
       "      <td>[832, 177, 97, 3, 2884, 832, 1633, 94, 797, 20...</td>\n",
       "    </tr>\n",
       "  </tbody>\n",
       "</table>\n",
       "<p>9967 rows × 3 columns</p>\n",
       "</div>"
      ],
      "text/plain": [
       "                                                   text  label  \\\n",
       "0     [이종석, 한효주, 나오다, 드라마, 이후, 로, 드라마, 보다, 2년, 전인가, ...      1   \n",
       "1       [씨, 바알, 노무, 노무, 술프노, 오늘, 저녁, 은, 꽂다, 등심, 이다, ㅠㅜ]      1   \n",
       "2                                       [짱깨, 끄다, ㅡ, 패쓰]      1   \n",
       "3     [의, 사생활, 고인, 되다, 설리, 를, 위, 하다, 모두, 조용하다, 누굴, 탓...      0   \n",
       "4     [아무리, 법, 뭣같아, 도, 무슨, 자격, 으로, 개인, 의, 신상, 정보, 를,...      0   \n",
       "...                                                 ...    ...   \n",
       "9962         [거, 보다, 더하다, 막장, 의, 드라마, 도, 넋, 놓다, 보다, 무슨]      0   \n",
       "9963                              [머, 제네시스, 올라프, 에디, 션]      0   \n",
       "9964             [항상, 로, ㅡ, ㅡ, 저, 지랄, 들이다, 남자, 벗기다, 보다]      1   \n",
       "9965  [첫, 번째, 이유, ㄹㅇ, 맞다, 특히, 뉴스, 기사, 몇, 줄, 읽다, 학생, ...      1   \n",
       "9966          [폰, 누가, 쓰다, 도, 못자다, 폰, 쓰래, 기, 통, 에나, 버리다]      1   \n",
       "\n",
       "                                               encoding  \n",
       "0     [2384, 1789, 33, 111, 851, 18, 111, 5, 1353, 1...  \n",
       "1        [75, 1354, 1354, 260, 3061, 4, 2122, 20, 2385]  \n",
       "2                                       [399, 136, 409]  \n",
       "3     [14, 1541, 649, 11, 222, 16, 195, 1, 592, 650,...  \n",
       "4     [479, 492, 3, 105, 1791, 17, 512, 14, 1443, 11...  \n",
       "...                                                 ...  \n",
       "9962       [41, 5, 1212, 1604, 14, 111, 3, 276, 5, 105]  \n",
       "9963                                  [329, 2320, 2927]  \n",
       "9964            [384, 18, 409, 409, 34, 118, 93, 54, 5]  \n",
       "9965  [1249, 3186, 295, 535, 63, 777, 716, 80, 325, ...  \n",
       "9966  [832, 177, 97, 3, 2884, 832, 1633, 94, 797, 20...  \n",
       "\n",
       "[9967 rows x 3 columns]"
      ]
     },
     "execution_count": 29,
     "metadata": {},
     "output_type": "execute_result"
    }
   ],
   "source": [
    "toknized_df"
   ]
  },
  {
   "cell_type": "markdown",
   "id": "d23b2337-de6b-475f-b4ca-0c8fed27d75c",
   "metadata": {},
   "source": [
    "#### **패딩**\n",
    "샘플 길이 맞춰주는 과정"
   ]
  },
  {
   "cell_type": "code",
   "execution_count": 30,
   "id": "d588ae8f-442d-4734-9a7b-ea5e24996e20",
   "metadata": {},
   "outputs": [
    {
     "name": "stdout",
     "output_type": "stream",
     "text": [
      "시퀀스 최대 길이 : 243\n",
      "시퀀스 평균 길이 : 12.480184609210394\n"
     ]
    },
    {
     "data": {
      "image/png": "[encoded data removed]",
      "text/plain": [
       "<Figure size 432x288 with 1 Axes>"
      ]
     },
     "metadata": {
      "needs_background": "light"
     },
     "output_type": "display_data"
    }
   ],
   "source": [
    "import matplotlib.pyplot as plt\n",
    "\n",
    "print('시퀀스 최대 길이 :',max(len(l) for l in toknized_df['encoding']))\n",
    "print('시퀀스 평균 길이 :',sum(map(len, toknized_df['encoding']))/len(toknized_df['encoding']))\n",
    "plt.hist([len(s) for s in toknized_df['encoding']], bins=50)\n",
    "plt.xlabel('length of samples')\n",
    "plt.ylabel('number of samples')\n",
    "plt.show()"
   ]
  },
  {
   "cell_type": "markdown",
   "id": "110a074a-8f78-4d28-af1e-a73603b1ea60",
   "metadata": {},
   "source": [
    "최적의 시퀀스 길이(대부분의 텍스트가 내용이 잘리지 않도록 할 수 있는 최적의 max_len의 값)는?"
   ]
  },
  {
   "cell_type": "code",
   "execution_count": 31,
   "id": "3329ee7b-8a24-4ffd-899b-6e042e42a465",
   "metadata": {},
   "outputs": [],
   "source": [
    "def below_threshold_len(max_len, nested_list):\n",
    "  cnt = 0\n",
    "  for s in nested_list:\n",
    "    if(len(s) <= max_len):\n",
    "        cnt = cnt + 1\n",
    "  print('전체 샘플 중 길이가 %s 이하인 샘플의 비율: %s'%(max_len, (cnt / len(nested_list))*100))"
   ]
  },
  {
   "cell_type": "code",
   "execution_count": 32,
   "id": "b944e5a4-0449-45a2-b6aa-b20a42b873a9",
   "metadata": {},
   "outputs": [
    {
     "name": "stdout",
     "output_type": "stream",
     "text": [
      "전체 샘플 중 길이가 40 이하인 샘플의 비율: 97.85291461824019\n"
     ]
    }
   ],
   "source": [
    "max_len = 40\n",
    "below_threshold_len(max_len, toknized_df['encoding'])"
   ]
  },
  {
   "cell_type": "markdown",
   "id": "fe2e93b1-99a8-4ce9-8ed2-db52c8ca80a3",
   "metadata": {},
   "source": [
    "전체 데이터 중 약 97%의 샘플이 40 이하의 길이를 가짐. 모든 시퀀스 길이를 40으로 맞추기로 결정."
   ]
  },
  {
   "cell_type": "code",
   "execution_count": 33,
   "id": "6207ac21-7524-4de1-8a87-65863b06ffa7",
   "metadata": {},
   "outputs": [],
   "source": [
    "from tensorflow.keras.preprocessing.sequence import pad_sequences\n",
    "\n",
    "encoded_text = pad_sequences(toknized_df['encoding'], maxlen = max_len)"
   ]
  },
  {
   "cell_type": "code",
   "execution_count": 34,
   "id": "258870f9-8e1b-4c4d-af9c-41d61ea58e16",
   "metadata": {},
   "outputs": [],
   "source": [
    "encoded_df = pd.DataFrame(data=encoded_text)"
   ]
  },
  {
   "cell_type": "code",
   "execution_count": 35,
   "id": "aba04ff4-83a7-440c-aaf4-bb1e0ee6b01c",
   "metadata": {},
   "outputs": [],
   "source": [
    "from sklearn.model_selection import train_test_split\n",
    "\n",
    "X_train, X_valid, y_train, y_valid = train_test_split(encoded_df, toknized_df['label'], random_state=42)"
   ]
  },
  {
   "cell_type": "markdown",
   "id": "17812429-0fa2-41c0-9f6c-84df08bc3f61",
   "metadata": {},
   "source": [
    "### **Deep learning**"
   ]
  },
  {
   "cell_type": "markdown",
   "id": "2536d42b-3249-4d52-b5ab-e8b2e27daf73",
   "metadata": {},
   "source": [
    "1. RNN (바닐라 RNN)"
   ]
  },
  {
   "cell_type": "code",
   "execution_count": 34,
   "id": "742fa30d-dc11-44d4-af1d-bd85ab265530",
   "metadata": {},
   "outputs": [],
   "source": [
    "from tensorflow.keras.layers import SimpleRNN, Embedding, Dense\n",
    "from tensorflow.keras.models import Sequential"
   ]
  },
  {
   "cell_type": "code",
   "execution_count": 35,
   "id": "4ec32866-6002-429f-96a1-a18f80b457c3",
   "metadata": {},
   "outputs": [
    {
     "name": "stdout",
     "output_type": "stream",
     "text": [
      "Epoch 1/3\n",
      "94/94 [==============================] - 4s 17ms/step - loss: 0.6684 - acc: 0.5848 - val_loss: 0.6679 - val_acc: 0.5793\n",
      "Epoch 2/3\n",
      "94/94 [==============================] - 1s 11ms/step - loss: 0.4767 - acc: 0.7987 - val_loss: 0.4693 - val_acc: 0.7799\n",
      "Epoch 3/3\n",
      "94/94 [==============================] - 1s 11ms/step - loss: 0.3188 - acc: 0.8793 - val_loss: 0.4552 - val_acc: 0.7853\n"
     ]
    }
   ],
   "source": [
    "rnn_model = Sequential()\n",
    "rnn_model.add(Embedding(vocab_size, 32)) # 임베딩 벡터의 차원은 32\n",
    "rnn_model.add(SimpleRNN(32)) # RNN 셀의 hidden_size는 32\n",
    "rnn_model.add(Dense(1, activation='sigmoid'))\n",
    "\n",
    "rnn_model.compile(optimizer='rmsprop', loss='binary_crossentropy', metrics=['acc'])\n",
    "rnn_history = rnn_model.fit(X_train, y_train, epochs=3, batch_size=64, validation_split=0.2)"
   ]
  },
  {
   "cell_type": "code",
   "execution_count": 36,
   "id": "3cd4eff6-a0d6-4a04-8fa9-11f36a9ca446",
   "metadata": {},
   "outputs": [
    {
     "name": "stdout",
     "output_type": "stream",
     "text": [
      "78/78 [==============================] - 0s 3ms/step - loss: 0.4244 - acc: 0.8026\n",
      "\n",
      " validation set 정확도: 0.8026\n"
     ]
    }
   ],
   "source": [
    "print(\"\\n validation set 정확도: %.4f\" % (rnn_model.evaluate(X_valid, y_valid)[1]))"
   ]
  },
  {
   "cell_type": "code",
   "execution_count": 37,
   "id": "da71c546-8f90-4c04-81a4-8d11901dc516",
   "metadata": {},
   "outputs": [
    {
     "data": {
      "image/png": "[encoded data removed]",
      "text/plain": [
       "<Figure size 432x288 with 1 Axes>"
      ]
     },
     "metadata": {
      "needs_background": "light"
     },
     "output_type": "display_data"
    }
   ],
   "source": [
    "epochs = range(1, len(rnn_history.history['acc']) + 1)\n",
    "plt.plot(epochs, rnn_history.history['loss'])\n",
    "plt.plot(epochs, rnn_history.history['val_loss'])\n",
    "plt.title('model loss')\n",
    "plt.ylabel('loss')\n",
    "plt.xlabel('epoch')\n",
    "plt.legend(['train', 'val'], loc='upper left')\n",
    "plt.show()"
   ]
  },
  {
   "cell_type": "markdown",
   "id": "8a80b77d-4dea-4061-8244-4b1a2c91cd58",
   "metadata": {},
   "source": [
    "이번 실습 데이터는 데이터의 양이 적어 과적합이 빠르게 시작되므로, 검증 데이터에 대한 오차가 증가하기 시작하는 시점의 바로 직전인 에포크 3 정도가 적당"
   ]
  },
  {
   "cell_type": "markdown",
   "id": "50e6fa48-c41d-41aa-a235-413853ffaf6a",
   "metadata": {
    "tags": []
   },
   "source": [
    "2. LSTM"
   ]
  },
  {
   "cell_type": "code",
   "execution_count": 38,
   "id": "40a212e9-8d8e-428f-8c64-0bbe27d1a758",
   "metadata": {},
   "outputs": [],
   "source": [
    "from tensorflow.keras.layers import Embedding, Dense, LSTM\n",
    "from tensorflow.keras.models import Sequential\n",
    "from tensorflow.keras.models import load_model\n",
    "from tensorflow.keras.callbacks import EarlyStopping, ModelCheckpoint"
   ]
  },
  {
   "cell_type": "code",
   "execution_count": 39,
   "id": "93e2216d-a649-484d-b790-663a1a0a7f44",
   "metadata": {},
   "outputs": [],
   "source": [
    "lstm_model = Sequential()\n",
    "lstm_model.add(Embedding(vocab_size, 100))\n",
    "lstm_model.add(LSTM(128))\n",
    "lstm_model.add(Dense(1, activation='sigmoid'))"
   ]
  },
  {
   "cell_type": "code",
   "execution_count": 40,
   "id": "3e2a5445-434c-40e3-9a2f-a89813da8e5d",
   "metadata": {},
   "outputs": [],
   "source": [
    "es = EarlyStopping(monitor='val_loss', mode='min', verbose=1, patience=4)\n",
    "mc_lstm = ModelCheckpoint('best_model.h5', monitor='val_acc', mode='max', verbose=1, save_best_only=True)"
   ]
  },
  {
   "cell_type": "code",
   "execution_count": 41,
   "id": "36a765c4-99da-456e-a1d8-035c3eb4a88c",
   "metadata": {},
   "outputs": [
    {
     "name": "stdout",
     "output_type": "stream",
     "text": [
      "Epoch 1/15\n",
      "100/100 [==============================] - 10s 68ms/step - loss: 0.5628 - acc: 0.6960 - val_loss: 0.4388 - val_acc: 0.7926\n",
      "\n",
      "Epoch 00001: val_acc improved from -inf to 0.79264, saving model to best_model.h5\n",
      "Epoch 2/15\n",
      "100/100 [==============================] - 6s 60ms/step - loss: 0.3438 - acc: 0.8508 - val_loss: 0.4084 - val_acc: 0.8161\n",
      "\n",
      "Epoch 00002: val_acc improved from 0.79264 to 0.81605, saving model to best_model.h5\n",
      "Epoch 3/15\n",
      "100/100 [==============================] - 7s 66ms/step - loss: 0.2573 - acc: 0.8978 - val_loss: 0.4133 - val_acc: 0.8308\n",
      "\n",
      "Epoch 00003: val_acc improved from 0.81605 to 0.83077, saving model to best_model.h5\n",
      "Epoch 4/15\n",
      "100/100 [==============================] - 6s 63ms/step - loss: 0.2050 - acc: 0.9192 - val_loss: 0.4259 - val_acc: 0.8281\n",
      "\n",
      "Epoch 00004: val_acc did not improve from 0.83077\n",
      "Epoch 5/15\n",
      "100/100 [==============================] - 7s 73ms/step - loss: 0.1739 - acc: 0.9318 - val_loss: 0.4467 - val_acc: 0.8054\n",
      "\n",
      "Epoch 00005: val_acc did not improve from 0.83077\n",
      "Epoch 6/15\n",
      "100/100 [==============================] - 7s 68ms/step - loss: 0.1499 - acc: 0.9430 - val_loss: 0.4988 - val_acc: 0.8201\n",
      "\n",
      "Epoch 00006: val_acc did not improve from 0.83077\n",
      "Epoch 00006: early stopping\n"
     ]
    }
   ],
   "source": [
    "lstm_model.compile(optimizer='rmsprop', loss='binary_crossentropy', metrics=['acc'])\n",
    "lstm_history = lstm_model.fit(X_train, y_train, epochs=15, callbacks=[es, mc_lstm], batch_size=60, validation_split=0.2)"
   ]
  },
  {
   "cell_type": "code",
   "execution_count": 42,
   "id": "45dbc264-ed04-4e16-bc37-fc3a296d4f2d",
   "metadata": {},
   "outputs": [
    {
     "name": "stdout",
     "output_type": "stream",
     "text": [
      "78/78 [==============================] - 2s 17ms/step - loss: 0.3892 - acc: 0.8419\n",
      "\n",
      " 테스트 정확도: 0.8419\n"
     ]
    }
   ],
   "source": [
    "lstm_loaded_model = load_model('best_model.h5')\n",
    "print(\"\\n 테스트 정확도: %.4f\" % (lstm_loaded_model.evaluate(X_valid, y_valid)[1]))"
   ]
  },
  {
   "cell_type": "code",
   "execution_count": 41,
   "id": "6f355835-1626-49d2-b2c8-9a8bd7d4e640",
   "metadata": {},
   "outputs": [],
   "source": [
    "def preprocess_text(new_sentence):\n",
    "    new_sentence = okt.morphs(new_sentence, stem=True) # 토큰화\n",
    "    new_sentence = [word for word in new_sentence if not word in stopwords] # 불용어 제거\n",
    "    encoded = tokenizer.texts_to_sequences([new_sentence]) # 정수 인코딩\n",
    "    pad_new = pad_sequences(encoded, maxlen = max_len) # 패딩\n",
    "    return pad_new"
   ]
  },
  {
   "cell_type": "code",
   "execution_count": 47,
   "id": "c1099dab-84ce-44ed-8413-16671d328024",
   "metadata": {},
   "outputs": [],
   "source": [
    "def lstm_predict(new_sentence):\n",
    "  processed_text = preprocess_text(new_sentence)\n",
    "  score = float(lstm_loaded_model.predict(processed_text)) # 예측\n",
    "  if(score > 0.5):\n",
    "    print(\"{:.2f}% 확률로 악의적인 글입니다.\\n\".format(score * 100))\n",
    "  else:\n",
    "    print(\"{:.2f}% 확률로 악의적인 글이 아닙니다.\\n\".format((1 - score) * 100))"
   ]
  },
  {
   "cell_type": "code",
   "execution_count": 48,
   "id": "cde8b35e-e15c-48de-8519-f66501c89c74",
   "metadata": {},
   "outputs": [
    {
     "name": "stdout",
     "output_type": "stream",
     "text": [
      "94.76% 확률로 악의적인 글이 아닙니다.\n",
      "\n"
     ]
    }
   ],
   "source": [
    "lstm_predict('못된 넘들...남의 고통을 즐겼던 넘들..이젠 마땅한 처벌을 받아야지')"
   ]
  },
  {
   "cell_type": "code",
   "execution_count": 49,
   "id": "66e29bf0-f1b2-4962-ae5a-c8a84bc0e33b",
   "metadata": {},
   "outputs": [
    {
     "name": "stdout",
     "output_type": "stream",
     "text": [
      "99.97% 확률로 악의적인 글입니다.\n",
      "\n"
     ]
    }
   ],
   "source": [
    "lstm_predict(\"개소리야 니가 빨갱이를 옹호하고 드루킹을 ㅇㅇ짓이라고 말못해서 삐진거야 빨갱아\")"
   ]
  },
  {
   "cell_type": "code",
   "execution_count": 50,
   "id": "fcbbf3b9-5200-473a-b82c-25291a23bcac",
   "metadata": {},
   "outputs": [
    {
     "name": "stdout",
     "output_type": "stream",
     "text": [
      "99.37% 확률로 악의적인 글이 아닙니다.\n",
      "\n"
     ]
    }
   ],
   "source": [
    "lstm_predict('이 영화 핵노잼 ㅠㅠ')"
   ]
  },
  {
   "cell_type": "code",
   "execution_count": 51,
   "id": "570ce89f-dce7-40de-99aa-9a60f45d8e3e",
   "metadata": {},
   "outputs": [
    {
     "name": "stdout",
     "output_type": "stream",
     "text": [
      "79.05% 확률로 악의적인 글입니다.\n",
      "\n"
     ]
    }
   ],
   "source": [
    "lstm_predict('이딴게 영화냐 ㅉㅉ')"
   ]
  },
  {
   "cell_type": "markdown",
   "id": "30005fba-f6c0-40ce-bb67-022601642d43",
   "metadata": {
    "tags": []
   },
   "source": [
    "3. BiLSTM"
   ]
  },
  {
   "cell_type": "code",
   "execution_count": 36,
   "id": "6903280c-514b-4b0d-a4ac-957f17c3c074",
   "metadata": {},
   "outputs": [],
   "source": [
    "from tensorflow.keras.layers import Embedding, Dense, LSTM, Bidirectional\n",
    "from tensorflow.keras.models import Sequential\n",
    "from tensorflow.keras.models import load_model\n",
    "from tensorflow.keras.callbacks import EarlyStopping, ModelCheckpoint"
   ]
  },
  {
   "cell_type": "code",
   "execution_count": 37,
   "id": "0170884f-f4c0-42e1-b89a-bb033fa8f9c3",
   "metadata": {},
   "outputs": [],
   "source": [
    "bilstm_model = Sequential()\n",
    "bilstm_model.add(Embedding(vocab_size, 100))\n",
    "bilstm_model.add(Bidirectional(LSTM(100)))\n",
    "bilstm_model.add(Dense(1, activation='sigmoid'))"
   ]
  },
  {
   "cell_type": "code",
   "execution_count": 38,
   "id": "9d05d898-da8e-4588-bdf6-549cb3d7af34",
   "metadata": {},
   "outputs": [],
   "source": [
    "es = EarlyStopping(monitor='val_loss', mode='min', verbose=1, patience=4)\n",
    "mc_bilstm = ModelCheckpoint('bilstm_model.h5', monitor='val_acc', mode='max', verbose=1, save_best_only=True)"
   ]
  },
  {
   "cell_type": "code",
   "execution_count": 39,
   "id": "ff631643-31e6-4c8e-a265-57e798c66437",
   "metadata": {},
   "outputs": [
    {
     "name": "stdout",
     "output_type": "stream",
     "text": [
      "Epoch 1/15\n",
      "100/100 [==============================] - 83s 452ms/step - loss: 0.5927 - acc: 0.7109 - val_loss: 0.4910 - val_acc: 0.7726\n",
      "\n",
      "Epoch 00001: val_acc improved from -inf to 0.77258, saving model to bilstm_model.h5\n",
      "Epoch 2/15\n",
      "100/100 [==============================] - 33s 329ms/step - loss: 0.3383 - acc: 0.8542 - val_loss: 0.4083 - val_acc: 0.8147\n",
      "\n",
      "Epoch 00002: val_acc improved from 0.77258 to 0.81472, saving model to bilstm_model.h5\n",
      "Epoch 3/15\n",
      "100/100 [==============================] - 36s 358ms/step - loss: 0.2554 - acc: 0.8977 - val_loss: 0.3998 - val_acc: 0.8167\n",
      "\n",
      "Epoch 00003: val_acc improved from 0.81472 to 0.81672, saving model to bilstm_model.h5\n",
      "Epoch 4/15\n",
      "100/100 [==============================] - 42s 420ms/step - loss: 0.2110 - acc: 0.9129 - val_loss: 0.4390 - val_acc: 0.8174\n",
      "\n",
      "Epoch 00004: val_acc improved from 0.81672 to 0.81739, saving model to bilstm_model.h5\n",
      "Epoch 5/15\n",
      "100/100 [==============================] - 43s 433ms/step - loss: 0.1741 - acc: 0.9319 - val_loss: 0.5363 - val_acc: 0.8174\n",
      "\n",
      "Epoch 00005: val_acc did not improve from 0.81739\n",
      "Epoch 6/15\n",
      "100/100 [==============================] - 39s 390ms/step - loss: 0.1554 - acc: 0.9435 - val_loss: 0.5310 - val_acc: 0.8127\n",
      "\n",
      "Epoch 00006: val_acc did not improve from 0.81739\n",
      "Epoch 7/15\n",
      "100/100 [==============================] - 32s 316ms/step - loss: 0.1385 - acc: 0.9488 - val_loss: 0.5747 - val_acc: 0.8140\n",
      "\n",
      "Epoch 00007: val_acc did not improve from 0.81739\n",
      "Epoch 00007: early stopping\n"
     ]
    }
   ],
   "source": [
    "bilstm_model.compile(optimizer='rmsprop', loss='binary_crossentropy', metrics=['acc'])\n",
    "lstm_history = bilstm_model.fit(X_train, y_train, epochs=15, callbacks=[es, mc_bilstm], batch_size=60, validation_split=0.2)"
   ]
  },
  {
   "cell_type": "code",
   "execution_count": 40,
   "id": "93e04b40-0b9e-4f51-9fcb-7c764242f917",
   "metadata": {},
   "outputs": [
    {
     "name": "stdout",
     "output_type": "stream",
     "text": [
      "78/78 [==============================] - 6s 30ms/step - loss: 0.3848 - acc: 0.8463\n",
      "\n",
      " 테스트 정확도: 0.8463\n"
     ]
    }
   ],
   "source": [
    "bilstm_loaded_model = load_model('bilstm_model.h5')\n",
    "print(\"\\n 테스트 정확도: %.4f\" % (bilstm_loaded_model.evaluate(X_valid, y_valid)[1]))"
   ]
  },
  {
   "cell_type": "code",
   "execution_count": 69,
   "id": "48be3d49-d59f-4164-86e8-9a5b18deca0a",
   "metadata": {},
   "outputs": [],
   "source": [
    " bilstm_loaded_model.save(\"./data/bilstm_model.h5\")"
   ]
  },
  {
   "cell_type": "markdown",
   "id": "8d026d8b-2532-4fc9-bfe2-43e95a03872b",
   "metadata": {},
   "source": [
    "4. GRU"
   ]
  },
  {
   "cell_type": "markdown",
   "id": "fa02c30f-1c95-41e2-a2d8-a59f939e39c9",
   "metadata": {},
   "source": [
    "*Embedding : Embedding()은 두 개의 인자를 받는데, 첫번째 인자는 단어 집합의 크기이며 두번째 인자는 임베딩 후의 벡터 크기입니다. 여기서는 100을 선택했습니다. 즉, 입력 데이터에서 모든 단어는 100차원의 임베딩 벡터로 표현됩니다."
   ]
  },
  {
   "cell_type": "code",
   "execution_count": 52,
   "id": "57f220f9-5a02-4882-b360-4810777d0d8c",
   "metadata": {},
   "outputs": [],
   "source": [
    "from tensorflow.keras.layers import Dense, GRU\n",
    "\n",
    "gru_model = Sequential()\n",
    "gru_model.add(Embedding(vocab_size, 100))\n",
    "gru_model.add(GRU(128))\n",
    "gru_model.add(Dense(1, activation='sigmoid'))"
   ]
  },
  {
   "cell_type": "code",
   "execution_count": 56,
   "id": "9ebd5bc5-4492-40d1-9c96-43d9c8553f9d",
   "metadata": {},
   "outputs": [],
   "source": [
    "es = EarlyStopping(monitor='val_loss', mode='min', verbose=1, patience=4)\n",
    "mc_gru = ModelCheckpoint('GRU_model.h5', monitor='val_acc', mode='max', verbose=1, save_best_only=True)"
   ]
  },
  {
   "cell_type": "code",
   "execution_count": 57,
   "id": "ef3ef447-2164-4fba-8588-f588594f9641",
   "metadata": {},
   "outputs": [
    {
     "name": "stdout",
     "output_type": "stream",
     "text": [
      "Epoch 1/15\n",
      "100/100 [==============================] - 9s 51ms/step - loss: 0.5306 - acc: 0.7289 - val_loss: 0.4370 - val_acc: 0.7960\n",
      "\n",
      "Epoch 00001: val_acc improved from -inf to 0.79599, saving model to GRU_model.h5\n",
      "Epoch 2/15\n",
      "100/100 [==============================] - 4s 42ms/step - loss: 0.3413 - acc: 0.8639 - val_loss: 0.4051 - val_acc: 0.8174\n",
      "\n",
      "Epoch 00002: val_acc improved from 0.79599 to 0.81739, saving model to GRU_model.h5\n",
      "Epoch 3/15\n",
      "100/100 [==============================] - 5s 46ms/step - loss: 0.2463 - acc: 0.8967 - val_loss: 0.4544 - val_acc: 0.8167\n",
      "\n",
      "Epoch 00003: val_acc did not improve from 0.81739\n",
      "Epoch 4/15\n",
      "100/100 [==============================] - 5s 46ms/step - loss: 0.2054 - acc: 0.9204 - val_loss: 0.4423 - val_acc: 0.8107\n",
      "\n",
      "Epoch 00004: val_acc did not improve from 0.81739\n",
      "Epoch 5/15\n",
      "100/100 [==============================] - 5s 46ms/step - loss: 0.1716 - acc: 0.9349 - val_loss: 0.4733 - val_acc: 0.8167\n",
      "\n",
      "Epoch 00005: val_acc did not improve from 0.81739\n",
      "Epoch 6/15\n",
      "100/100 [==============================] - 5s 48ms/step - loss: 0.1491 - acc: 0.9453 - val_loss: 0.4748 - val_acc: 0.8107\n",
      "\n",
      "Epoch 00006: val_acc did not improve from 0.81739\n",
      "Epoch 00006: early stopping\n"
     ]
    }
   ],
   "source": [
    "gru_model.compile(optimizer='rmsprop', loss='binary_crossentropy', metrics=['acc'])\n",
    "gru_history = gru_model.fit(X_train, y_train, epochs=15, callbacks=[es, mc_gru], batch_size=60, validation_split=0.2)"
   ]
  },
  {
   "cell_type": "code",
   "execution_count": 58,
   "id": "823aad31-40fb-4247-89e3-cfefc6488d81",
   "metadata": {},
   "outputs": [
    {
     "name": "stdout",
     "output_type": "stream",
     "text": [
      "78/78 [==============================] - 1s 9ms/step - loss: 0.3803 - acc: 0.8307\n",
      "\n",
      " 테스트 정확도: 0.8307\n"
     ]
    }
   ],
   "source": [
    "gru_loaded_model = load_model('GRU_model.h5')\n",
    "print(\"\\n 테스트 정확도: %.4f\" % (gru_loaded_model.evaluate(X_valid, y_valid)[1]))"
   ]
  },
  {
   "cell_type": "code",
   "execution_count": 55,
   "id": "c8e54144-45ab-4659-b8cf-be0a2f41299d",
   "metadata": {},
   "outputs": [],
   "source": [
    "# param_grid = dict(epochs=[10,20,30])\n",
    "# grid = GridSearchCV(estimator=gru_model, param_grid=param_grid, n_jobs=-1, cv=3)\n",
    "# grid_result = grid.fit(X, Y)"
   ]
  },
  {
   "cell_type": "markdown",
   "id": "aee34690-3e84-4c86-a158-f809bf7f8947",
   "metadata": {},
   "source": [
    "LSA"
   ]
  },
  {
   "cell_type": "code",
   "execution_count": 66,
   "id": "ff09ecf8-1c64-4223-a472-f0b7a020c3a4",
   "metadata": {},
   "outputs": [],
   "source": [
    "from sklearn.ensemble import RandomForestClassifier\n",
    "import numpy as np\n",
    "import scipy.stats as stats\n",
    "from sklearn.model_selection import RandomizedSearchCV\n",
    "from sklearn.feature_extraction.text import TfidfVectorizer\n",
    "\n",
    "# SVD를 사용한 차원 축소\n",
    "from sklearn.decomposition import TruncatedSVD\n",
    "\n",
    "vect = TfidfVectorizer(stop_words=stopwords\n",
    "                       , ngram_range=(1,2)\n",
    "                       , min_df=2\n",
    "                       , max_df=0.7\n",
    "                       , token_pattern='[^ㄱ-ㅎㅏ-ㅣ가-힣 0-9]' # 영문자만 사용\n",
    "                       , max_features=1000\n",
    "                      )\n",
    "\n",
    "svd = TruncatedSVD(algorithm='randomized'\n",
    "                   , n_iter=5\n",
    "                   , random_state=2)\n",
    "\n",
    "rfc = RandomForestClassifier(n_estimators=500, random_state=2)"
   ]
  },
  {
   "cell_type": "code",
   "execution_count": 67,
   "id": "9897e76a-a57c-4753-a482-8c2088c284d0",
   "metadata": {},
   "outputs": [],
   "source": [
    "from sklearn.pipeline import Pipeline\n",
    "params = {\n",
    "    # 100~500 사이의 정수 크기로 차원을 줄입니다\n",
    "#     'svd__n_components': stats.randint(100, 500)\n",
    "    'svd__n_components': stats.randint(2, 3) # 문서의 차원을 2로 고정\n",
    "    \n",
    "}\n",
    "\n",
    "pipe = Pipeline([\n",
    "    ('svd', svd)\n",
    "    , ('clf', rfc)\n",
    "])"
   ]
  },
  {
   "cell_type": "code",
   "execution_count": 68,
   "id": "a9c31d26-04c4-42b1-8a21-36ac6ba1e31f",
   "metadata": {},
   "outputs": [
    {
     "name": "stdout",
     "output_type": "stream",
     "text": [
      "Fitting 3 folds for each of 5 candidates, totalling 15 fits\n"
     ]
    },
    {
     "data": {
      "text/plain": [
       "RandomizedSearchCV(cv=3,\n",
       "                   estimator=Pipeline(steps=[('svd',\n",
       "                                              TruncatedSVD(random_state=2)),\n",
       "                                             ('clf',\n",
       "                                              RandomForestClassifier(n_estimators=500,\n",
       "                                                                     random_state=2))]),\n",
       "                   n_iter=5, n_jobs=-1,\n",
       "                   param_distributions={'svd__n_components': <scipy.stats._distn_infrastructure.rv_frozen object at 0x0000020085E95700>},\n",
       "                   verbose=1)"
      ]
     },
     "execution_count": 68,
     "metadata": {},
     "output_type": "execute_result"
    }
   ],
   "source": [
    "random_search = RandomizedSearchCV(pipe, params, cv=3, n_iter=5, n_jobs=-1, verbose=1)\n",
    "random_search.fit(X_train, y_train)"
   ]
  },
  {
   "cell_type": "code",
   "execution_count": 69,
   "id": "b41095a6-cc60-4eed-a62f-cf684fe5502f",
   "metadata": {},
   "outputs": [
    {
     "data": {
      "text/plain": [
       "0.5111692086159721"
      ]
     },
     "execution_count": 69,
     "metadata": {},
     "output_type": "execute_result"
    }
   ],
   "source": [
    "random_search.best_score_"
   ]
  },
  {
   "cell_type": "code",
   "execution_count": null,
   "id": "fb26f449-a337-47e4-b8d9-4c7f28ba8f12",
   "metadata": {},
   "outputs": [],
   "source": []
  },
  {
   "cell_type": "markdown",
   "id": "59d79822-d1bc-4b11-aeb3-80d201e5e8ef",
   "metadata": {},
   "source": [
    "BiLSTM + Attention"
   ]
  },
  {
   "cell_type": "code",
   "execution_count": 115,
   "id": "ba3d2784-c7db-4afb-8796-9f61733070c4",
   "metadata": {},
   "outputs": [],
   "source": [
    "class BahdanauAttention(tf.keras.Model):\n",
    "  def __init__(self, units):\n",
    "    super(BahdanauAttention, self).__init__()\n",
    "    self.W1 = Dense(units)\n",
    "    self.W2 = Dense(units)\n",
    "    self.V = Dense(1)\n",
    "\n",
    "  def call(self, values, query): # 단, key와 value는 같음\n",
    "    # query shape == (batch_size, hidden size)\n",
    "    # hidden_with_time_axis shape == (batch_size, 1, hidden size)\n",
    "    # score 계산을 위해 뒤에서 할 덧셈을 위해서 차원을 변경해줍니다.\n",
    "    hidden_with_time_axis = tf.expand_dims(query, 1)\n",
    "\n",
    "    # score shape == (batch_size, max_length, 1)\n",
    "    # we get 1 at the last axis because we are applying score to self.V\n",
    "    # the shape of the tensor before applying self.V is (batch_size, max_length, units)\n",
    "    score = self.V(tf.nn.tanh(\n",
    "        self.W1(values) + self.W2(hidden_with_time_axis)))\n",
    "\n",
    "    # attention_weights shape == (batch_size, max_length, 1)\n",
    "    attention_weights = tf.nn.softmax(score, axis=1)\n",
    "\n",
    "    # context_vector shape after sum == (batch_size, hidden_size)\n",
    "    context_vector = attention_weights * values\n",
    "    context_vector = tf.reduce_sum(context_vector, axis=1)\n",
    "\n",
    "    return context_vector, attention_weights"
   ]
  },
  {
   "cell_type": "code",
   "execution_count": 117,
   "id": "dde22ff3-08e7-4997-a192-f8bf92ec636b",
   "metadata": {},
   "outputs": [],
   "source": [
    "from tensorflow.keras import Input, Model\n",
    "\n",
    "sequence_input = Input(shape=(max_len,), dtype='int32')\n",
    "embedded_sequences = Embedding(vocab_size, 128, input_length=max_len, mask_zero = True)(sequence_input)"
   ]
  },
  {
   "cell_type": "code",
   "execution_count": 118,
   "id": "1bd11968-efcd-4462-beaa-6888570b9bb7",
   "metadata": {},
   "outputs": [],
   "source": [
    "sequence_input = Input(shape=(max_len,), dtype='int32')\n",
    "embedded_sequences = Embedding(vocab_size, 128, input_length=max_len, mask_zero = True)(sequence_input)"
   ]
  },
  {
   "cell_type": "code",
   "execution_count": 119,
   "id": "ceac67d6-e922-4b60-b7b6-1ca77ae592df",
   "metadata": {},
   "outputs": [],
   "source": [
    "lstm = Bidirectional(LSTM(64, dropout=0.5, return_sequences = True))(embedded_sequences)"
   ]
  },
  {
   "cell_type": "code",
   "execution_count": 120,
   "id": "0ba0b86a-0e4e-4f40-9a7c-2a372e5cbc2c",
   "metadata": {},
   "outputs": [],
   "source": [
    "lstm, forward_h, forward_c, backward_h, backward_c = Bidirectional \\\n",
    "  (LSTM(64, dropout=0.5, return_sequences=True, return_state=True))(lstm)"
   ]
  },
  {
   "cell_type": "code",
   "execution_count": 121,
   "id": "0a8bce53-348d-4d20-a11a-0b76ea119fc9",
   "metadata": {},
   "outputs": [
    {
     "name": "stdout",
     "output_type": "stream",
     "text": [
      "(None, 40, 128) (None, 64) (None, 64) (None, 64) (None, 64)\n"
     ]
    }
   ],
   "source": [
    "print(lstm.shape, forward_h.shape, forward_c.shape, backward_h.shape, backward_c.shape)"
   ]
  },
  {
   "cell_type": "markdown",
   "id": "e729c5cf-25ca-419f-98c9-4be2f88692d0",
   "metadata": {},
   "source": [
    "순방향 LSTM의 은닉 상태와 셀상태를 forward_h, forward_c에 저장하고, 역방향 LSTM의 은닉 상태와 셀 상태를 backward_h, backward_c에 저장합니다."
   ]
  },
  {
   "cell_type": "code",
   "execution_count": 124,
   "id": "e49e4d69-1ce7-46d2-829b-af2fbda1837a",
   "metadata": {},
   "outputs": [],
   "source": [
    "state_h = Concatenate()([forward_h, backward_h]) # 은닉 상태\n",
    "state_c = Concatenate()([forward_c, backward_c]) # 셀 상태"
   ]
  },
  {
   "cell_type": "code",
   "execution_count": 125,
   "id": "ea063c94-366f-4b4e-82ad-d0520d81a109",
   "metadata": {},
   "outputs": [],
   "source": [
    "attention = BahdanauAttention(64) # 가중치 크기 정의\n",
    "context_vector, attention_weights = attention(lstm, state_h)"
   ]
  },
  {
   "cell_type": "code",
   "execution_count": 126,
   "id": "9242dbdb-7ed3-4b33-84f5-de53f69eeb2b",
   "metadata": {},
   "outputs": [],
   "source": [
    "dense1 = Dense(20, activation=\"relu\")(context_vector)\n",
    "dropout = Dropout(0.5)(dense1)\n",
    "output = Dense(1, activation=\"sigmoid\")(dropout)\n",
    "model = Model(inputs=sequence_input, outputs=output)"
   ]
  },
  {
   "cell_type": "code",
   "execution_count": 128,
   "id": "9be28e56-bc90-4c1f-a67a-f6a2f84e395f",
   "metadata": {},
   "outputs": [
    {
     "name": "stdout",
     "output_type": "stream",
     "text": [
      "Epoch 1/3\n",
      "30/30 [==============================] - 49s 1s/step - loss: 0.6818 - accuracy: 0.5548 - val_loss: 0.6271 - val_accuracy: 0.7082\n",
      "Epoch 2/3\n",
      "30/30 [==============================] - 29s 983ms/step - loss: 0.5537 - accuracy: 0.8068 - val_loss: 0.5324 - val_accuracy: 0.7924\n",
      "Epoch 3/3\n",
      "30/30 [==============================] - 32s 1s/step - loss: 0.3905 - accuracy: 0.8731 - val_loss: 0.4643 - val_accuracy: 0.8173\n"
     ]
    }
   ],
   "source": [
    "model.compile(loss='binary_crossentropy', optimizer='adam', metrics=['accuracy'])\n",
    "history = model.fit(X_train, y_train, epochs = 3, batch_size = 256, validation_data=(X_valid, y_valid), verbose=1)"
   ]
  },
  {
   "cell_type": "code",
   "execution_count": 130,
   "id": "4ca2b4a2-c3ca-4556-ac77-c4b51796ab7f",
   "metadata": {},
   "outputs": [
    {
     "name": "stdout",
     "output_type": "stream",
     "text": [
      "78/78 [==============================] - 4s 47ms/step - loss: 0.4643 - accuracy: 0.8173 0s - loss: 0.4687 - accuracy: 0.\n",
      "\n",
      " 테스트 정확도: 0.8173\n"
     ]
    }
   ],
   "source": [
    "print(\"\\n 테스트 정확도: %.4f\" % (model.evaluate(X_valid, y_valid)[1]))"
   ]
  }
 ],
 "metadata": {
  "kernelspec": {
   "display_name": "Python 3",
   "language": "python",
   "name": "python3"
  },
  "language_info": {
   "codemirror_mode": {
    "name": "ipython",
    "version": 3
   },
   "file_extension": ".py",
   "mimetype": "text/x-python",
   "name": "python",
   "nbconvert_exporter": "python",
   "pygments_lexer": "ipython3",
   "version": "3.9.0"
  }
 },
 "nbformat": 4,
 "nbformat_minor": 5
}
