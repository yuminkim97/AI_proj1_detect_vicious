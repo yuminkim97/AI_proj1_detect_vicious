{
 "cells": [
  {
   "cell_type": "code",
   "execution_count": 1,
   "id": "c8989075-d6d5-423d-9825-76c035b9575a",
   "metadata": {},
   "outputs": [],
   "source": [
    "import pandas as pd\n",
    "import numpy as np\n",
    "\n",
    "civious_df = pd.read_csv('./data/Dataset.csv.txt', delimiter='\\t')"
   ]
  },
  {
   "cell_type": "markdown",
   "id": "ed1cd71f-07a0-4ac0-bc15-e4723be86c96",
   "metadata": {},
   "source": [
    "#### **데이터 전처리**"
   ]
  },
  {
   "cell_type": "markdown",
   "id": "6e8be997-cd32-44bb-bf22-99943c5e28ef",
   "metadata": {},
   "source": [
    "1. puntuation 제거 (숫자로 비속어를 표현하는 경우도 있기때문에 숫자는 남겨둠)"
   ]
  },
  {
   "cell_type": "code",
   "execution_count": 2,
   "id": "d5cf11f9-cf06-4d9f-9cdb-a54e9ac807cc",
   "metadata": {},
   "outputs": [],
   "source": [
    "# civious_df['content'] = civious_df['content'].str.replace(\"[^ㄱ-ㅎㅏ-ㅣ가-힣 0-9]\",\"\", regex=True)\n",
    "civious_df['content'] = civious_df['content'].str.replace(\"[:punct:]\",\"\", regex=True)"
   ]
  },
  {
   "cell_type": "markdown",
   "id": "3c2c1b9b-fd9d-4617-9fac-a8f5dcc946e7",
   "metadata": {},
   "source": [
    "null 값의 label을 직접 입력해줌\n",
    "\n",
    "하는 김에 label도 int로 바꿔줌"
   ]
  },
  {
   "cell_type": "code",
   "execution_count": 3,
   "id": "a38db4e1-edf0-41a0-9b7c-d6007b376850",
   "metadata": {},
   "outputs": [],
   "source": [
    "for i in civious_df[civious_df['lable'].isnull()].index :\n",
    "    textNlabel = civious_df.loc[i, 'content'].split('\\t')\n",
    "    civious_df.loc[i, 'lable'] = int(textNlabel[1])"
   ]
  },
  {
   "cell_type": "code",
   "execution_count": 4,
   "id": "6767ffdf-9d2b-40b0-a35b-dd0ae0dbdce4",
   "metadata": {},
   "outputs": [],
   "source": [
    "civious_df['lable'] = civious_df['lable'].apply(lambda x : int(x))"
   ]
  },
  {
   "cell_type": "code",
   "execution_count": 5,
   "id": "68d53b2e-a811-45af-ad81-1bb8bd2cd236",
   "metadata": {},
   "outputs": [],
   "source": [
    "civious_df['lable'] = civious_df['lable'].replace([1,0],[0,1])"
   ]
  },
  {
   "cell_type": "code",
   "execution_count": 6,
   "id": "e811b03b-5475-4afe-8754-ec35089c5af6",
   "metadata": {},
   "outputs": [
    {
     "data": {
      "text/html": [
       "<div>\n",
       "<style scoped>\n",
       "    .dataframe tbody tr th:only-of-type {\n",
       "        vertical-align: middle;\n",
       "    }\n",
       "\n",
       "    .dataframe tbody tr th {\n",
       "        vertical-align: top;\n",
       "    }\n",
       "\n",
       "    .dataframe thead th {\n",
       "        text-align: right;\n",
       "    }\n",
       "</style>\n",
       "<table border=\"1\" class=\"dataframe\">\n",
       "  <thead>\n",
       "    <tr style=\"text-align: right;\">\n",
       "      <th></th>\n",
       "      <th>content</th>\n",
       "      <th>lable</th>\n",
       "    </tr>\n",
       "  </thead>\n",
       "  <tbody>\n",
       "    <tr>\n",
       "      <th>0</th>\n",
       "      <td>이종석 한효주 나오는 드라마 이후로 드라마 안봤다. 2년전인가?? 좀 신선했었지. ...</td>\n",
       "      <td>1</td>\n",
       "    </tr>\n",
       "    <tr>\n",
       "      <th>1</th>\n",
       "      <td>씨바알..노무노무 술프노... 오늘 저녁은 꽂등심이다ㅠㅜ</td>\n",
       "      <td>1</td>\n",
       "    </tr>\n",
       "    <tr>\n",
       "      <th>2</th>\n",
       "      <td>짱깨 꺼라ㅡ패쓰</td>\n",
       "      <td>1</td>\n",
       "    </tr>\n",
       "    <tr>\n",
       "      <th>3</th>\n",
       "      <td>그들의 사생활 ~ 고인이된 설리를 위해서라도 모두 조용하길 지금 누굴 탓한다고 무슨...</td>\n",
       "      <td>0</td>\n",
       "    </tr>\n",
       "    <tr>\n",
       "      <th>4</th>\n",
       "      <td>아무리 법이 뭣같아도 무슨 자격으로 개인의 신상정보를 불특정 다수에게 공개하는지 도...</td>\n",
       "      <td>0</td>\n",
       "    </tr>\n",
       "  </tbody>\n",
       "</table>\n",
       "</div>"
      ],
      "text/plain": [
       "                                             content  lable\n",
       "0  이종석 한효주 나오는 드라마 이후로 드라마 안봤다. 2년전인가?? 좀 신선했었지. ...      1\n",
       "1                    씨바알..노무노무 술프노... 오늘 저녁은 꽂등심이다ㅠㅜ      1\n",
       "2                                           짱깨 꺼라ㅡ패쓰      1\n",
       "3  그들의 사생활 ~ 고인이된 설리를 위해서라도 모두 조용하길 지금 누굴 탓한다고 무슨...      0\n",
       "4  아무리 법이 뭣같아도 무슨 자격으로 개인의 신상정보를 불특정 다수에게 공개하는지 도...      0"
      ]
     },
     "execution_count": 6,
     "metadata": {},
     "output_type": "execute_result"
    }
   ],
   "source": [
    "civious_df.head(5)"
   ]
  },
  {
   "cell_type": "markdown",
   "id": "66b2317d-6fe5-4222-a851-cf72aae19261",
   "metadata": {},
   "source": [
    "2. 중복 제거"
   ]
  },
  {
   "cell_type": "code",
   "execution_count": 7,
   "id": "b2eef848-f2a6-4a56-93d8-ff8aaf63aed3",
   "metadata": {},
   "outputs": [
    {
     "data": {
      "text/plain": [
       "content    9987\n",
       "lable         2\n",
       "dtype: int64"
      ]
     },
     "execution_count": 7,
     "metadata": {},
     "output_type": "execute_result"
    }
   ],
   "source": [
    "civious_df.nunique()"
   ]
  },
  {
   "cell_type": "code",
   "execution_count": 8,
   "id": "3e244443-b692-4c3a-9c1f-d3d04af39dcc",
   "metadata": {},
   "outputs": [],
   "source": [
    "civious_df.drop_duplicates(subset=['content'], inplace=True, ignore_index=True)"
   ]
  },
  {
   "cell_type": "code",
   "execution_count": 9,
   "id": "4a65f7ad-daab-4891-89ca-4097bdf3bac4",
   "metadata": {},
   "outputs": [
    {
     "data": {
      "text/plain": [
       "(9987, 2)"
      ]
     },
     "execution_count": 9,
     "metadata": {},
     "output_type": "execute_result"
    }
   ],
   "source": [
    "civious_df.shape"
   ]
  },
  {
   "cell_type": "markdown",
   "id": "ede3638a-7e33-4b29-a8d1-cf27ad5d451a",
   "metadata": {},
   "source": [
    "3. puntuation 제거 후 빈 문자열이 된 데이터가 있는지 확인"
   ]
  },
  {
   "cell_type": "code",
   "execution_count": 10,
   "id": "873f4bc5-b31e-4f57-af8f-affdc8bab725",
   "metadata": {},
   "outputs": [],
   "source": [
    "civious_df['content'].replace('', np.nan, inplace=True)"
   ]
  },
  {
   "cell_type": "code",
   "execution_count": 11,
   "id": "9dfa817a-8da0-48ec-8976-319da9371a56",
   "metadata": {},
   "outputs": [
    {
     "data": {
      "text/plain": [
       "(9987, 2)"
      ]
     },
     "execution_count": 11,
     "metadata": {},
     "output_type": "execute_result"
    }
   ],
   "source": [
    "civious_df.shape"
   ]
  },
  {
   "cell_type": "code",
   "execution_count": 12,
   "id": "9d8a3e3c-bc87-4734-a194-ecd03771a3d7",
   "metadata": {},
   "outputs": [
    {
     "name": "stdout",
     "output_type": "stream",
     "text": [
      "content    0\n",
      "lable      0\n",
      "dtype: int64\n"
     ]
    }
   ],
   "source": [
    "print(civious_df.isnull().sum())"
   ]
  },
  {
   "cell_type": "markdown",
   "id": "4bb0b43e-c655-486c-8293-6ce4b4d801ca",
   "metadata": {},
   "source": [
    "content column에 빈 문자열은 없음!"
   ]
  },
  {
   "cell_type": "markdown",
   "id": "846dd4e2-0043-4004-9c2e-5129c63ebe61",
   "metadata": {},
   "source": [
    "#### **토큰화**"
   ]
  },
  {
   "cell_type": "code",
   "execution_count": 13,
   "id": "5a454877-07e7-4612-98c7-c9ec7e8cbcc8",
   "metadata": {},
   "outputs": [],
   "source": [
    "stopwords = ['의','가','이','은','들','는','좀','잘','걍','과','도','를','으로','자','에','와','한','하다']"
   ]
  },
  {
   "cell_type": "code",
   "execution_count": 14,
   "id": "09ed8376-b64e-4fff-b0df-5e4c57c0245c",
   "metadata": {},
   "outputs": [],
   "source": [
    "import jpype #이거 안쓰면 에러남!!!!\n",
    "from konlpy.tag import Okt\n",
    "\n",
    "okt = Okt()\n",
    "token_list = []"
   ]
  },
  {
   "cell_type": "code",
   "execution_count": 15,
   "id": "cdc68cf4-d5a2-4085-8492-72dc6adc7018",
   "metadata": {},
   "outputs": [],
   "source": [
    "toknized_df = pd.DataFrame(columns=['text', 'label'])"
   ]
  },
  {
   "cell_type": "code",
   "execution_count": 16,
   "id": "992bec0c-7cd3-4539-97e3-04ccfc83d2c9",
   "metadata": {},
   "outputs": [],
   "source": [
    "for i in civious_df.index :\n",
    "    sentence = civious_df.loc[i, 'content']\n",
    "    temp_X = okt.morphs(sentence, stem=True) # 토큰화\n",
    "    temp_X = [word for word in temp_X if not word in stopwords] # 불용어 제거\n",
    "    toknized_df.loc[i, 'text'] = temp_X"
   ]
  },
  {
   "cell_type": "code",
   "execution_count": 17,
   "id": "be0db059-0daa-4d44-a94c-05900dc59fc0",
   "metadata": {},
   "outputs": [],
   "source": [
    "toknized_df['label'] = civious_df['lable']"
   ]
  },
  {
   "cell_type": "code",
   "execution_count": 18,
   "id": "56adb2da-75d8-4d74-8220-8d58a89bb649",
   "metadata": {},
   "outputs": [
    {
     "data": {
      "text/html": [
       "<div>\n",
       "<style scoped>\n",
       "    .dataframe tbody tr th:only-of-type {\n",
       "        vertical-align: middle;\n",
       "    }\n",
       "\n",
       "    .dataframe tbody tr th {\n",
       "        vertical-align: top;\n",
       "    }\n",
       "\n",
       "    .dataframe thead th {\n",
       "        text-align: right;\n",
       "    }\n",
       "</style>\n",
       "<table border=\"1\" class=\"dataframe\">\n",
       "  <thead>\n",
       "    <tr style=\"text-align: right;\">\n",
       "      <th></th>\n",
       "      <th>text</th>\n",
       "      <th>label</th>\n",
       "    </tr>\n",
       "  </thead>\n",
       "  <tbody>\n",
       "    <tr>\n",
       "      <th>0</th>\n",
       "      <td>[이종석, 한효주, 나오다, 드라마, 이후, 로, 드라마, 안, 보다, ., 2년,...</td>\n",
       "      <td>1</td>\n",
       "    </tr>\n",
       "    <tr>\n",
       "      <th>1</th>\n",
       "      <td>[씨, 바알, .., 노무, 노무, 술프노, ..., 오늘, 저녁, 꽂다, 등심, ...</td>\n",
       "      <td>1</td>\n",
       "    </tr>\n",
       "    <tr>\n",
       "      <th>2</th>\n",
       "      <td>[짱깨, 끄다, ㅡ, 패쓰]</td>\n",
       "      <td>1</td>\n",
       "    </tr>\n",
       "    <tr>\n",
       "      <th>3</th>\n",
       "      <td>[그, 사생활, ~, 고인, 되다, 설리, 위, 모두, 조용하다, 지금, 누굴, 탓...</td>\n",
       "      <td>0</td>\n",
       "    </tr>\n",
       "    <tr>\n",
       "      <th>4</th>\n",
       "      <td>[아무리, 법, 뭣같아, 무슨, 자격, 개인, 신상, 정보, 불, 특정, 다수, 에...</td>\n",
       "      <td>0</td>\n",
       "    </tr>\n",
       "  </tbody>\n",
       "</table>\n",
       "</div>"
      ],
      "text/plain": [
       "                                                text  label\n",
       "0  [이종석, 한효주, 나오다, 드라마, 이후, 로, 드라마, 안, 보다, ., 2년,...      1\n",
       "1  [씨, 바알, .., 노무, 노무, 술프노, ..., 오늘, 저녁, 꽂다, 등심, ...      1\n",
       "2                                    [짱깨, 끄다, ㅡ, 패쓰]      1\n",
       "3  [그, 사생활, ~, 고인, 되다, 설리, 위, 모두, 조용하다, 지금, 누굴, 탓...      0\n",
       "4  [아무리, 법, 뭣같아, 무슨, 자격, 개인, 신상, 정보, 불, 특정, 다수, 에...      0"
      ]
     },
     "execution_count": 18,
     "metadata": {},
     "output_type": "execute_result"
    }
   ],
   "source": [
    "toknized_df.head(5)"
   ]
  },
  {
   "cell_type": "markdown",
   "id": "35a64277-ad22-490a-aad0-0cca1d1645b1",
   "metadata": {},
   "source": [
    "#### **인코딩**"
   ]
  },
  {
   "cell_type": "code",
   "execution_count": 19,
   "id": "2c8b800b-f2b1-40be-b754-bab3bf8b9fdd",
   "metadata": {},
   "outputs": [],
   "source": [
    "import tensorflow as tf\n",
    "from tensorflow import keras\n",
    "from tensorflow.keras.preprocessing.text import Tokenizer\n",
    "\n",
    "tokenizer = Tokenizer()\n",
    "tokenizer.fit_on_texts(toknized_df['text'])"
   ]
  },
  {
   "cell_type": "code",
   "execution_count": 20,
   "id": "09601e85-5166-446d-9a91-63a327843db2",
   "metadata": {},
   "outputs": [
    {
     "name": "stdout",
     "output_type": "stream",
     "text": [
      "단어 집합(vocabulary)의 크기 : 16173\n",
      "등장 빈도가 2번 이하인 희귀 단어의 수: 10335\n",
      "단어 집합에서 희귀 단어의 비율: 63.90280096457058\n",
      "전체 등장 빈도에서 희귀 단어 등장 빈도 비율: 8.93964224694027\n"
     ]
    }
   ],
   "source": [
    "threshold = 3\n",
    "total_cnt = len(tokenizer.word_index) # 단어의 수\n",
    "rare_cnt = 0 # 등장 빈도수가 threshold보다 작은 단어의 개수를 카운트\n",
    "total_freq = 0 # 훈련 데이터의 전체 단어 빈도수 총 합\n",
    "rare_freq = 0 # 등장 빈도수가 threshold보다 작은 단어의 등장 빈도수의 총 합\n",
    "\n",
    "# 단어와 빈도수의 쌍(pair)을 key와 value로 받는다.\n",
    "for key, value in tokenizer.word_counts.items():\n",
    "    total_freq = total_freq + value\n",
    "\n",
    "    # 단어의 등장 빈도수가 threshold보다 작으면\n",
    "    if (value < threshold):\n",
    "        rare_cnt = rare_cnt + 1\n",
    "        rare_freq = rare_freq + value\n",
    "\n",
    "print('단어 집합(vocabulary)의 크기 :',total_cnt)\n",
    "print('등장 빈도가 %s번 이하인 희귀 단어의 수: %s'%(threshold - 1, rare_cnt))\n",
    "print(\"단어 집합에서 희귀 단어의 비율:\", (rare_cnt / total_cnt)*100)\n",
    "print(\"전체 등장 빈도에서 희귀 단어 등장 빈도 비율:\", (rare_freq / total_freq)*100)"
   ]
  },
  {
   "cell_type": "markdown",
   "id": "f2f5713b-7dde-45b5-9c61-115351a286db",
   "metadata": {},
   "source": [
    "3회 미만으로 등장하는 단어가 8.9퍼센트를 차지한다."
   ]
  },
  {
   "cell_type": "code",
   "execution_count": 21,
   "id": "7ba3ed8f-f7bf-4437-b4c7-6075dadbe243",
   "metadata": {},
   "outputs": [
    {
     "name": "stdout",
     "output_type": "stream",
     "text": [
      "단어 집합의 크기 : 5839\n"
     ]
    }
   ],
   "source": [
    "vocab_size = total_cnt - rare_cnt + 1\n",
    "print('단어 집합의 크기 :',vocab_size)"
   ]
  },
  {
   "cell_type": "code",
   "execution_count": 22,
   "id": "bb023838-90fc-4e90-a5db-d70e8b512146",
   "metadata": {},
   "outputs": [],
   "source": [
    "tokenizer = Tokenizer(vocab_size) \n",
    "tokenizer.fit_on_texts(toknized_df['text'])\n",
    "toknized_df['encoding'] = tokenizer.texts_to_sequences(toknized_df['text'])"
   ]
  },
  {
   "cell_type": "code",
   "execution_count": 23,
   "id": "d755c734-b049-46ae-b521-821281915b8c",
   "metadata": {},
   "outputs": [
    {
     "data": {
      "text/html": [
       "<div>\n",
       "<style scoped>\n",
       "    .dataframe tbody tr th:only-of-type {\n",
       "        vertical-align: middle;\n",
       "    }\n",
       "\n",
       "    .dataframe tbody tr th {\n",
       "        vertical-align: top;\n",
       "    }\n",
       "\n",
       "    .dataframe thead th {\n",
       "        text-align: right;\n",
       "    }\n",
       "</style>\n",
       "<table border=\"1\" class=\"dataframe\">\n",
       "  <thead>\n",
       "    <tr style=\"text-align: right;\">\n",
       "      <th></th>\n",
       "      <th>text</th>\n",
       "      <th>label</th>\n",
       "      <th>encoding</th>\n",
       "    </tr>\n",
       "  </thead>\n",
       "  <tbody>\n",
       "    <tr>\n",
       "      <th>0</th>\n",
       "      <td>[이종석, 한효주, 나오다, 드라마, 이후, 로, 드라마, 안, 보다, ., 2년,...</td>\n",
       "      <td>1</td>\n",
       "      <td>[2491, 1884, 34, 131, 926, 14, 131, 15, 3, 1, ...</td>\n",
       "    </tr>\n",
       "    <tr>\n",
       "      <th>1</th>\n",
       "      <td>[씨, 바알, .., 노무, 노무, 술프노, ..., 오늘, 저녁, 꽂다, 등심, ...</td>\n",
       "      <td>1</td>\n",
       "      <td>[92, 5, 1438, 1438, 7, 305, 3185, 2223, 17, 2492]</td>\n",
       "    </tr>\n",
       "    <tr>\n",
       "      <th>2</th>\n",
       "      <td>[짱깨, 끄다, ㅡ, 패쓰]</td>\n",
       "      <td>1</td>\n",
       "      <td>[449, 158, 405]</td>\n",
       "    </tr>\n",
       "    <tr>\n",
       "      <th>3</th>\n",
       "      <td>[그, 사생활, ~, 고인, 되다, 설리, 위, 모두, 조용하다, 지금, 누굴, 탓...</td>\n",
       "      <td>0</td>\n",
       "      <td>[31, 1620, 30, 678, 10, 262, 231, 649, 726, 14...</td>\n",
       "    </tr>\n",
       "    <tr>\n",
       "      <th>4</th>\n",
       "      <td>[아무리, 법, 뭣같아, 무슨, 자격, 개인, 신상, 정보, 불, 특정, 다수, 에...</td>\n",
       "      <td>0</td>\n",
       "      <td>[532, 540, 124, 1886, 571, 1524, 1220, 988, 37...</td>\n",
       "    </tr>\n",
       "  </tbody>\n",
       "</table>\n",
       "</div>"
      ],
      "text/plain": [
       "                                                text  label  \\\n",
       "0  [이종석, 한효주, 나오다, 드라마, 이후, 로, 드라마, 안, 보다, ., 2년,...      1   \n",
       "1  [씨, 바알, .., 노무, 노무, 술프노, ..., 오늘, 저녁, 꽂다, 등심, ...      1   \n",
       "2                                    [짱깨, 끄다, ㅡ, 패쓰]      1   \n",
       "3  [그, 사생활, ~, 고인, 되다, 설리, 위, 모두, 조용하다, 지금, 누굴, 탓...      0   \n",
       "4  [아무리, 법, 뭣같아, 무슨, 자격, 개인, 신상, 정보, 불, 특정, 다수, 에...      0   \n",
       "\n",
       "                                            encoding  \n",
       "0  [2491, 1884, 34, 131, 926, 14, 131, 15, 3, 1, ...  \n",
       "1  [92, 5, 1438, 1438, 7, 305, 3185, 2223, 17, 2492]  \n",
       "2                                    [449, 158, 405]  \n",
       "3  [31, 1620, 30, 678, 10, 262, 231, 649, 726, 14...  \n",
       "4  [532, 540, 124, 1886, 571, 1524, 1220, 988, 37...  "
      ]
     },
     "execution_count": 23,
     "metadata": {},
     "output_type": "execute_result"
    }
   ],
   "source": [
    "toknized_df.head(5)"
   ]
  },
  {
   "cell_type": "markdown",
   "id": "971e10bc-a4bd-48e7-8604-6ede858c8c96",
   "metadata": {},
   "source": [
    "문장을 구성하는 모든 단어가 희귀 단어여서 빈 encoding sequence를 생성하는 경우를 제거"
   ]
  },
  {
   "cell_type": "code",
   "execution_count": 24,
   "id": "35b5131b-d658-4d1c-a39e-ef9ea63ac6a6",
   "metadata": {},
   "outputs": [],
   "source": [
    "drop_index = [index for index, sentence in enumerate(toknized_df['encoding']) if len(sentence) < 1]"
   ]
  },
  {
   "cell_type": "code",
   "execution_count": 25,
   "id": "4f87b1ac-87c4-4029-8a1a-fad2534df3d2",
   "metadata": {},
   "outputs": [
    {
     "data": {
      "text/plain": [
       "12"
      ]
     },
     "execution_count": 25,
     "metadata": {},
     "output_type": "execute_result"
    }
   ],
   "source": [
    "len(drop_index)"
   ]
  },
  {
   "cell_type": "code",
   "execution_count": 26,
   "id": "88bd1968-ddfb-496b-8b49-a6c06b657602",
   "metadata": {},
   "outputs": [],
   "source": [
    "toknized_df.drop(index=drop_index, axis=0, inplace=True)\n",
    "# toknized_df = np.delete(toknized_df, drop_index, axis=0)\n",
    "toknized_df.reset_index(inplace=True, drop=True)"
   ]
  },
  {
   "cell_type": "code",
   "execution_count": 27,
   "id": "2436460e-08e4-408a-8ac3-b4a0cfc56a09",
   "metadata": {},
   "outputs": [
    {
     "data": {
      "text/html": [
       "<div>\n",
       "<style scoped>\n",
       "    .dataframe tbody tr th:only-of-type {\n",
       "        vertical-align: middle;\n",
       "    }\n",
       "\n",
       "    .dataframe tbody tr th {\n",
       "        vertical-align: top;\n",
       "    }\n",
       "\n",
       "    .dataframe thead th {\n",
       "        text-align: right;\n",
       "    }\n",
       "</style>\n",
       "<table border=\"1\" class=\"dataframe\">\n",
       "  <thead>\n",
       "    <tr style=\"text-align: right;\">\n",
       "      <th></th>\n",
       "      <th>text</th>\n",
       "      <th>label</th>\n",
       "      <th>encoding</th>\n",
       "    </tr>\n",
       "  </thead>\n",
       "  <tbody>\n",
       "    <tr>\n",
       "      <th>0</th>\n",
       "      <td>[이종석, 한효주, 나오다, 드라마, 이후, 로, 드라마, 안, 보다, ., 2년,...</td>\n",
       "      <td>1</td>\n",
       "      <td>[2491, 1884, 34, 131, 926, 14, 131, 15, 3, 1, ...</td>\n",
       "    </tr>\n",
       "    <tr>\n",
       "      <th>1</th>\n",
       "      <td>[씨, 바알, .., 노무, 노무, 술프노, ..., 오늘, 저녁, 꽂다, 등심, ...</td>\n",
       "      <td>1</td>\n",
       "      <td>[92, 5, 1438, 1438, 7, 305, 3185, 2223, 17, 2492]</td>\n",
       "    </tr>\n",
       "    <tr>\n",
       "      <th>2</th>\n",
       "      <td>[짱깨, 끄다, ㅡ, 패쓰]</td>\n",
       "      <td>1</td>\n",
       "      <td>[449, 158, 405]</td>\n",
       "    </tr>\n",
       "    <tr>\n",
       "      <th>3</th>\n",
       "      <td>[그, 사생활, ~, 고인, 되다, 설리, 위, 모두, 조용하다, 지금, 누굴, 탓...</td>\n",
       "      <td>0</td>\n",
       "      <td>[31, 1620, 30, 678, 10, 262, 231, 649, 726, 14...</td>\n",
       "    </tr>\n",
       "    <tr>\n",
       "      <th>4</th>\n",
       "      <td>[아무리, 법, 뭣같아, 무슨, 자격, 개인, 신상, 정보, 불, 특정, 다수, 에...</td>\n",
       "      <td>0</td>\n",
       "      <td>[532, 540, 124, 1886, 571, 1524, 1220, 988, 37...</td>\n",
       "    </tr>\n",
       "    <tr>\n",
       "      <th>...</th>\n",
       "      <td>...</td>\n",
       "      <td>...</td>\n",
       "      <td>...</td>\n",
       "    </tr>\n",
       "    <tr>\n",
       "      <th>9970</th>\n",
       "      <td>[거, 보다, 더하다, 막장, 드라마, 넋, 놓다, 보다, 무슨, ?]</td>\n",
       "      <td>0</td>\n",
       "      <td>[46, 3, 1294, 1689, 131, 314, 3, 124, 2]</td>\n",
       "    </tr>\n",
       "    <tr>\n",
       "      <th>9971</th>\n",
       "      <td>[머, ..., 제네시스, .., 올라프, 에디, 션, ?]</td>\n",
       "      <td>0</td>\n",
       "      <td>[379, 7, 2431, 5, 3044, 2]</td>\n",
       "    </tr>\n",
       "    <tr>\n",
       "      <th>9972</th>\n",
       "      <td>[항상, 여자, 로, ㅡ, ㅡ, 저, 지랄, 들이다, 남자, 벗기다, 보다]</td>\n",
       "      <td>1</td>\n",
       "      <td>[434, 32, 14, 405, 405, 37, 137, 111, 67, 3]</td>\n",
       "    </tr>\n",
       "    <tr>\n",
       "      <th>9973</th>\n",
       "      <td>[첫, 번째, 이유, ㄹㅇ, 맞다, 특히, 나, 뉴스, 나, 기사, 몇, 줄, 읽다...</td>\n",
       "      <td>1</td>\n",
       "      <td>[1331, 3312, 338, 597, 75, 841, 25, 779, 25, 9...</td>\n",
       "    </tr>\n",
       "    <tr>\n",
       "      <th>9974</th>\n",
       "      <td>[Lg, 폰, 누가, 쓰다, gs, 못자다, 폰, 쓰래, 기, 통, 에나, 버리다]</td>\n",
       "      <td>1</td>\n",
       "      <td>[5511, 904, 208, 115, 2999, 904, 1723, 112, 83...</td>\n",
       "    </tr>\n",
       "  </tbody>\n",
       "</table>\n",
       "<p>9975 rows × 3 columns</p>\n",
       "</div>"
      ],
      "text/plain": [
       "                                                   text  label  \\\n",
       "0     [이종석, 한효주, 나오다, 드라마, 이후, 로, 드라마, 안, 보다, ., 2년,...      1   \n",
       "1     [씨, 바알, .., 노무, 노무, 술프노, ..., 오늘, 저녁, 꽂다, 등심, ...      1   \n",
       "2                                       [짱깨, 끄다, ㅡ, 패쓰]      1   \n",
       "3     [그, 사생활, ~, 고인, 되다, 설리, 위, 모두, 조용하다, 지금, 누굴, 탓...      0   \n",
       "4     [아무리, 법, 뭣같아, 무슨, 자격, 개인, 신상, 정보, 불, 특정, 다수, 에...      0   \n",
       "...                                                 ...    ...   \n",
       "9970            [거, 보다, 더하다, 막장, 드라마, 넋, 놓다, 보다, 무슨, ?]      0   \n",
       "9971                  [머, ..., 제네시스, .., 올라프, 에디, 션, ?]      0   \n",
       "9972         [항상, 여자, 로, ㅡ, ㅡ, 저, 지랄, 들이다, 남자, 벗기다, 보다]      1   \n",
       "9973  [첫, 번째, 이유, ㄹㅇ, 맞다, 특히, 나, 뉴스, 나, 기사, 몇, 줄, 읽다...      1   \n",
       "9974     [Lg, 폰, 누가, 쓰다, gs, 못자다, 폰, 쓰래, 기, 통, 에나, 버리다]      1   \n",
       "\n",
       "                                               encoding  \n",
       "0     [2491, 1884, 34, 131, 926, 14, 131, 15, 3, 1, ...  \n",
       "1     [92, 5, 1438, 1438, 7, 305, 3185, 2223, 17, 2492]  \n",
       "2                                       [449, 158, 405]  \n",
       "3     [31, 1620, 30, 678, 10, 262, 231, 649, 726, 14...  \n",
       "4     [532, 540, 124, 1886, 571, 1524, 1220, 988, 37...  \n",
       "...                                                 ...  \n",
       "9970           [46, 3, 1294, 1689, 131, 314, 3, 124, 2]  \n",
       "9971                         [379, 7, 2431, 5, 3044, 2]  \n",
       "9972       [434, 32, 14, 405, 405, 37, 137, 111, 67, 3]  \n",
       "9973  [1331, 3312, 338, 597, 75, 841, 25, 779, 25, 9...  \n",
       "9974  [5511, 904, 208, 115, 2999, 904, 1723, 112, 83...  \n",
       "\n",
       "[9975 rows x 3 columns]"
      ]
     },
     "execution_count": 27,
     "metadata": {},
     "output_type": "execute_result"
    }
   ],
   "source": [
    "toknized_df"
   ]
  },
  {
   "cell_type": "markdown",
   "id": "d23b2337-de6b-475f-b4ca-0c8fed27d75c",
   "metadata": {},
   "source": [
    "#### **패딩**\n",
    "샘플 길이 맞춰주는 과정"
   ]
  },
  {
   "cell_type": "code",
   "execution_count": 28,
   "id": "d588ae8f-442d-4734-9a7b-ea5e24996e20",
   "metadata": {},
   "outputs": [
    {
     "name": "stdout",
     "output_type": "stream",
     "text": [
      "시퀀스 최대 길이 : 246\n",
      "시퀀스 평균 길이 : 13.09032581453634\n"
     ]
    },
    {
     "data": {
      "image/png": "[encoded data removed]",
      "text/plain": [
       "<Figure size 432x288 with 1 Axes>"
      ]
     },
     "metadata": {
      "needs_background": "light"
     },
     "output_type": "display_data"
    }
   ],
   "source": [
    "import matplotlib.pyplot as plt\n",
    "\n",
    "print('시퀀스 최대 길이 :',max(len(l) for l in toknized_df['encoding']))\n",
    "print('시퀀스 평균 길이 :',sum(map(len, toknized_df['encoding']))/len(toknized_df['encoding']))\n",
    "plt.hist([len(s) for s in toknized_df['encoding']], bins=50)\n",
    "plt.xlabel('length of samples')\n",
    "plt.ylabel('number of samples')\n",
    "plt.show()"
   ]
  },
  {
   "cell_type": "markdown",
   "id": "110a074a-8f78-4d28-af1e-a73603b1ea60",
   "metadata": {},
   "source": [
    "최적의 시퀀스 길이(대부분의 텍스트가 내용이 잘리지 않도록 할 수 있는 최적의 max_len의 값)는?"
   ]
  },
  {
   "cell_type": "code",
   "execution_count": 29,
   "id": "3329ee7b-8a24-4ffd-899b-6e042e42a465",
   "metadata": {},
   "outputs": [],
   "source": [
    "def below_threshold_len(max_len, nested_list):\n",
    "  cnt = 0\n",
    "  for s in nested_list:\n",
    "    if(len(s) <= max_len):\n",
    "        cnt = cnt + 1\n",
    "  print('전체 샘플 중 길이가 %s 이하인 샘플의 비율: %s'%(max_len, (cnt / len(nested_list))*100))"
   ]
  },
  {
   "cell_type": "code",
   "execution_count": 30,
   "id": "b944e5a4-0449-45a2-b6aa-b20a42b873a9",
   "metadata": {},
   "outputs": [
    {
     "name": "stdout",
     "output_type": "stream",
     "text": [
      "전체 샘플 중 길이가 40 이하인 샘플의 비율: 97.50375939849624\n"
     ]
    }
   ],
   "source": [
    "max_len = 40\n",
    "below_threshold_len(max_len, toknized_df['encoding'])"
   ]
  },
  {
   "cell_type": "markdown",
   "id": "fe2e93b1-99a8-4ce9-8ed2-db52c8ca80a3",
   "metadata": {},
   "source": [
    "전체 데이터 중 약 97%의 샘플이 40 이하의 길이를 가짐. 모든 시퀀스 길이를 40으로 맞추기로 결정."
   ]
  },
  {
   "cell_type": "code",
   "execution_count": 31,
   "id": "6207ac21-7524-4de1-8a87-65863b06ffa7",
   "metadata": {},
   "outputs": [],
   "source": [
    "from tensorflow.keras.preprocessing.sequence import pad_sequences\n",
    "\n",
    "encoded_text = pad_sequences(toknized_df['encoding'], maxlen = max_len)"
   ]
  },
  {
   "cell_type": "code",
   "execution_count": 32,
   "id": "258870f9-8e1b-4c4d-af9c-41d61ea58e16",
   "metadata": {},
   "outputs": [],
   "source": [
    "encoded_df = pd.DataFrame(data=encoded_text)"
   ]
  },
  {
   "cell_type": "code",
   "execution_count": 33,
   "id": "aba04ff4-83a7-440c-aaf4-bb1e0ee6b01c",
   "metadata": {},
   "outputs": [],
   "source": [
    "from sklearn.model_selection import train_test_split\n",
    "\n",
    "X_train, X_valid, y_train, y_valid = train_test_split(encoded_df, toknized_df['label'], random_state=42)"
   ]
  },
  {
   "cell_type": "markdown",
   "id": "921ad65d-f171-417c-a4a3-abff0ed54bce",
   "metadata": {},
   "source": [
    "#### **Machine learning**"
   ]
  },
  {
   "cell_type": "markdown",
   "id": "38c7fcc8-84b1-4887-901a-82ed9c90b52e",
   "metadata": {},
   "source": [
    "1. Logistic regression\n",
    "\n",
    "로지스틱 회귀는 실행할 때 regularation을 사용하기 때문에 그 전에 반드시 우리가 가진 데이터를 스케일링하는 작업이 필요하다."
   ]
  },
  {
   "cell_type": "code",
   "execution_count": 34,
   "id": "573ae9ca-6d1c-4401-8054-2b62fb771f69",
   "metadata": {},
   "outputs": [],
   "source": [
    "from sklearn.preprocessing import StandardScaler\n",
    "stand_scaler = StandardScaler()\n",
    "X_train_lr = stand_scaler.fit_transform(X_train)\n",
    "X_valid_lr = stand_scaler.transform(X_valid)"
   ]
  },
  {
   "cell_type": "code",
   "execution_count": 35,
   "id": "a639ba3e-ead9-45eb-89d3-aea049d5e8f9",
   "metadata": {},
   "outputs": [
    {
     "name": "stdout",
     "output_type": "stream",
     "text": [
      "0.5399010827429488\n"
     ]
    }
   ],
   "source": [
    "from sklearn.linear_model import LogisticRegression\n",
    "\n",
    "lr_model = LogisticRegression()\n",
    "lr_model.fit(X_train_lr, y_train)\n",
    "print(lr_model.score(X_train_lr, y_train))"
   ]
  },
  {
   "cell_type": "code",
   "execution_count": 36,
   "id": "c8644b17-6b99-4052-87f7-bcaf6f2ce40e",
   "metadata": {},
   "outputs": [
    {
     "name": "stdout",
     "output_type": "stream",
     "text": [
      "0.5352846832397755\n"
     ]
    }
   ],
   "source": [
    "print(lr_model.score(X_valid_lr, y_valid))"
   ]
  },
  {
   "cell_type": "code",
   "execution_count": 37,
   "id": "74e5d23d-7e7c-4e9e-84e9-a33000e2b44b",
   "metadata": {},
   "outputs": [],
   "source": [
    "def preprocess_text(new_sentence):\n",
    "    new_sentence = okt.morphs(new_sentence, stem=True) # 토큰화\n",
    "    new_sentence = [word for word in new_sentence if not word in stopwords] # 불용어 제거\n",
    "    encoded = tokenizer.texts_to_sequences([new_sentence]) # 정수 인코딩\n",
    "    pad_new = pad_sequences(encoded, maxlen = max_len) # 패딩\n",
    "    return pad_new"
   ]
  },
  {
   "cell_type": "code",
   "execution_count": 38,
   "id": "fb12704b-d259-4f99-b890-8bf4146b3ee6",
   "metadata": {},
   "outputs": [],
   "source": [
    "def lr_predict(new_sentence):\n",
    "    processed_text = preprocess_text(new_sentence)\n",
    "    processed_text = stand_scaler.transform(processed_text)\n",
    "    score = float(lr_model.predict(processed_text)) # 예측\n",
    "    if(score > 0.5):\n",
    "        print(\"{:.2f}% 확률로 악의적인 글입니다.\\n\".format(score * 100))\n",
    "    else:\n",
    "        print(\"{:.2f}% 확률로 악의적인 글이 아닙니다.\\n\".format((1 - score) * 100))"
   ]
  },
  {
   "cell_type": "code",
   "execution_count": 39,
   "id": "78165674-dc32-4629-8072-11324ed88a10",
   "metadata": {},
   "outputs": [
    {
     "name": "stdout",
     "output_type": "stream",
     "text": [
      "100.00% 확률로 악의적인 글이 아닙니다.\n",
      "\n"
     ]
    }
   ],
   "source": [
    "lr_predict('이 영화 핵노잼 ㅠㅠ')"
   ]
  },
  {
   "cell_type": "code",
   "execution_count": 40,
   "id": "caa28d09-f27d-4b7f-8db2-417df02345d9",
   "metadata": {},
   "outputs": [
    {
     "name": "stdout",
     "output_type": "stream",
     "text": [
      "100.00% 확률로 악의적인 글입니다.\n",
      "\n"
     ]
    }
   ],
   "source": [
    "lr_predict('개소리야 니가 빨갱이를 옹호하고 드루킹을 ㅇㅇ짓이라고 말못해서 삐진거야')"
   ]
  },
  {
   "cell_type": "markdown",
   "id": "c7d450d8-23d7-41d9-b6aa-9e272d4a3ee9",
   "metadata": {},
   "source": [
    "2. Decision Tree Classifier"
   ]
  },
  {
   "cell_type": "code",
   "execution_count": 41,
   "id": "ccfeb965-be9a-49fd-8e84-fa50639831aa",
   "metadata": {},
   "outputs": [],
   "source": [
    "# from sklearn.model_selection import cross_val_score\n",
    "# from sklearn.tree import DecisionTreeClassifier\n",
    "# clf = DecisionTreeClassifier(random_state=0)\n",
    "# cross_val_score(clf, iris.data, iris.target, cv=10)"
   ]
  },
  {
   "cell_type": "code",
   "execution_count": 42,
   "id": "5c03b74f-d3b5-4eda-92e3-73a1e5035d7b",
   "metadata": {},
   "outputs": [
    {
     "data": {
      "text/plain": [
       "DecisionTreeClassifier(random_state=0)"
      ]
     },
     "execution_count": 42,
     "metadata": {},
     "output_type": "execute_result"
    }
   ],
   "source": [
    "from sklearn.tree import DecisionTreeClassifier\n",
    "\n",
    "dt_model = DecisionTreeClassifier(random_state=0)\n",
    "dt_model.fit(X_train, y_train)"
   ]
  },
  {
   "cell_type": "code",
   "execution_count": 43,
   "id": "78668255-4fac-4ba2-9409-72c8fa6f336c",
   "metadata": {},
   "outputs": [
    {
     "name": "stdout",
     "output_type": "stream",
     "text": [
      "0.5133003609143163\n"
     ]
    }
   ],
   "source": [
    "print(lr_model.score(X_train, y_train))"
   ]
  },
  {
   "cell_type": "code",
   "execution_count": 44,
   "id": "a1dcd78c-b3f3-4936-8414-8b41984c8bf6",
   "metadata": {},
   "outputs": [
    {
     "name": "stdout",
     "output_type": "stream",
     "text": [
      "0.5164394546912591\n"
     ]
    }
   ],
   "source": [
    "print(lr_model.score(X_valid, y_valid))"
   ]
  },
  {
   "cell_type": "markdown",
   "id": "4aae0ed5-4602-41cb-8bed-f0b05e3c79c1",
   "metadata": {},
   "source": [
    "3. Random Forest Model"
   ]
  },
  {
   "cell_type": "code",
   "execution_count": 45,
   "id": "323c972c-c87a-43b0-8c0d-80ee8343e6bf",
   "metadata": {},
   "outputs": [
    {
     "data": {
      "text/plain": [
       "RandomForestClassifier()"
      ]
     },
     "execution_count": 45,
     "metadata": {},
     "output_type": "execute_result"
    }
   ],
   "source": [
    "from sklearn.ensemble import RandomForestClassifier\n",
    "\n",
    "rf_model = RandomForestClassifier()\n",
    "rf_model.fit(X_train, y_train)"
   ]
  },
  {
   "cell_type": "code",
   "execution_count": 46,
   "id": "f99bf21c-29fa-493b-ba2e-8ba6c6e46cb0",
   "metadata": {},
   "outputs": [
    {
     "name": "stdout",
     "output_type": "stream",
     "text": [
      "1.0\n"
     ]
    }
   ],
   "source": [
    "print(rf_model.score(X_train, y_train))"
   ]
  },
  {
   "cell_type": "code",
   "execution_count": 47,
   "id": "28879ed9-abb0-430d-b1a4-06aae2d78d87",
   "metadata": {},
   "outputs": [
    {
     "name": "stdout",
     "output_type": "stream",
     "text": [
      "0.5717722534081796\n"
     ]
    }
   ],
   "source": [
    "print(rf_model.score(X_valid, y_valid))"
   ]
  },
  {
   "cell_type": "markdown",
   "id": "c3a8aba9-9be8-43fe-82c8-e425cd2ec27d",
   "metadata": {},
   "source": [
    "아마.. 과적합?"
   ]
  },
  {
   "cell_type": "markdown",
   "id": "4bdf680a-6876-4e5c-b08f-74d5435566eb",
   "metadata": {},
   "source": [
    "나이브 베이즈 분류기"
   ]
  },
  {
   "cell_type": "code",
   "execution_count": 48,
   "id": "200e441b-03ba-4337-98c0-4e029f8ddb43",
   "metadata": {},
   "outputs": [
    {
     "data": {
      "text/plain": [
       "MultinomialNB()"
      ]
     },
     "execution_count": 48,
     "metadata": {},
     "output_type": "execute_result"
    }
   ],
   "source": [
    "from sklearn.naive_bayes import MultinomialNB\n",
    "\n",
    "nb_model = MultinomialNB()\n",
    "nb_model.fit(X_train, y_train)"
   ]
  },
  {
   "cell_type": "code",
   "execution_count": 49,
   "id": "7d013e59-7321-4d84-b270-acf088f95404",
   "metadata": {},
   "outputs": [
    {
     "name": "stdout",
     "output_type": "stream",
     "text": [
      "0.537494987301163\n"
     ]
    }
   ],
   "source": [
    "print(nb_model.score(X_train, y_train))"
   ]
  },
  {
   "cell_type": "code",
   "execution_count": 50,
   "id": "9601c9cb-d5b2-4952-8f57-1f64253ef0cb",
   "metadata": {},
   "outputs": [
    {
     "name": "stdout",
     "output_type": "stream",
     "text": [
      "0.5437048917401764\n"
     ]
    }
   ],
   "source": [
    "print(nb_model.score(X_valid, y_valid))"
   ]
  },
  {
   "cell_type": "markdown",
   "id": "17812429-0fa2-41c0-9f6c-84df08bc3f61",
   "metadata": {},
   "source": [
    "### **Deep learning**"
   ]
  },
  {
   "cell_type": "markdown",
   "id": "2536d42b-3249-4d52-b5ab-e8b2e27daf73",
   "metadata": {},
   "source": [
    "1. RNN (바닐라 RNN)"
   ]
  },
  {
   "cell_type": "code",
   "execution_count": 51,
   "id": "742fa30d-dc11-44d4-af1d-bd85ab265530",
   "metadata": {},
   "outputs": [],
   "source": [
    "from tensorflow.keras.layers import SimpleRNN, Embedding, Dense\n",
    "from tensorflow.keras.models import Sequential"
   ]
  },
  {
   "cell_type": "code",
   "execution_count": 52,
   "id": "4ec32866-6002-429f-96a1-a18f80b457c3",
   "metadata": {},
   "outputs": [
    {
     "name": "stdout",
     "output_type": "stream",
     "text": [
      "Epoch 1/3\n",
      "94/94 [==============================] - 4s 18ms/step - loss: 0.6318 - acc: 0.6317 - val_loss: 0.5362 - val_acc: 0.7047\n",
      "Epoch 2/3\n",
      "94/94 [==============================] - 2s 17ms/step - loss: 0.4110 - acc: 0.8172 - val_loss: 0.8577 - val_acc: 0.5912\n",
      "Epoch 3/3\n",
      "94/94 [==============================] - 1s 12ms/step - loss: 0.2856 - acc: 0.8892 - val_loss: 0.4082 - val_acc: 0.8056\n"
     ]
    }
   ],
   "source": [
    "rnn_model = Sequential()\n",
    "rnn_model.add(Embedding(vocab_size, 32)) # 임베딩 벡터의 차원은 32\n",
    "rnn_model.add(SimpleRNN(32)) # RNN 셀의 hidden_size는 32\n",
    "rnn_model.add(Dense(1, activation='sigmoid'))\n",
    "\n",
    "rnn_model.compile(optimizer='rmsprop', loss='binary_crossentropy', metrics=['acc'])\n",
    "rnn_history = rnn_model.fit(X_train, y_train, epochs=3, batch_size=64, validation_split=0.2)"
   ]
  },
  {
   "cell_type": "code",
   "execution_count": 53,
   "id": "3cd4eff6-a0d6-4a04-8fa9-11f36a9ca446",
   "metadata": {},
   "outputs": [
    {
     "name": "stdout",
     "output_type": "stream",
     "text": [
      "78/78 [==============================] - 0s 4ms/step - loss: 0.4203 - acc: 0.8071\n",
      "\n",
      " validation set 정확도: 0.8071\n"
     ]
    }
   ],
   "source": [
    "print(\"\\n validation set 정확도: %.4f\" % (rnn_model.evaluate(X_valid, y_valid)[1]))"
   ]
  },
  {
   "cell_type": "code",
   "execution_count": 54,
   "id": "da71c546-8f90-4c04-81a4-8d11901dc516",
   "metadata": {},
   "outputs": [
    {
     "data": {
      "image/png": "[encoded data removed]",
      "text/plain": [
       "<Figure size 432x288 with 1 Axes>"
      ]
     },
     "metadata": {
      "needs_background": "light"
     },
     "output_type": "display_data"
    }
   ],
   "source": [
    "epochs = range(1, len(rnn_history.history['acc']) + 1)\n",
    "plt.plot(epochs, rnn_history.history['loss'])\n",
    "plt.plot(epochs, rnn_history.history['val_loss'])\n",
    "plt.title('model loss')\n",
    "plt.ylabel('loss')\n",
    "plt.xlabel('epoch')\n",
    "plt.legend(['train', 'val'], loc='upper left')\n",
    "plt.show()"
   ]
  },
  {
   "cell_type": "markdown",
   "id": "8a80b77d-4dea-4061-8244-4b1a2c91cd58",
   "metadata": {},
   "source": [
    "이번 실습 데이터는 데이터의 양이 적어 과적합이 빠르게 시작되므로, 검증 데이터에 대한 오차가 증가하기 시작하는 시점의 바로 직전인 에포크 3 정도가 적당"
   ]
  },
  {
   "cell_type": "markdown",
   "id": "50e6fa48-c41d-41aa-a235-413853ffaf6a",
   "metadata": {},
   "source": [
    "2. LSTM"
   ]
  },
  {
   "cell_type": "code",
   "execution_count": 55,
   "id": "40a212e9-8d8e-428f-8c64-0bbe27d1a758",
   "metadata": {},
   "outputs": [],
   "source": [
    "from tensorflow.keras.layers import Embedding, Dense, LSTM\n",
    "from tensorflow.keras.models import Sequential\n",
    "from tensorflow.keras.models import load_model\n",
    "from tensorflow.keras.callbacks import EarlyStopping, ModelCheckpoint"
   ]
  },
  {
   "cell_type": "code",
   "execution_count": 56,
   "id": "93e2216d-a649-484d-b790-663a1a0a7f44",
   "metadata": {},
   "outputs": [],
   "source": [
    "lstm_model = Sequential()\n",
    "lstm_model.add(Embedding(vocab_size, 100))\n",
    "lstm_model.add(LSTM(128))\n",
    "lstm_model.add(Dense(1, activation='sigmoid'))"
   ]
  },
  {
   "cell_type": "code",
   "execution_count": 57,
   "id": "3e2a5445-434c-40e3-9a2f-a89813da8e5d",
   "metadata": {},
   "outputs": [],
   "source": [
    "es = EarlyStopping(monitor='val_loss', mode='min', verbose=1, patience=4)\n",
    "mc_lstm = ModelCheckpoint('best_model.h5', monitor='val_acc', mode='max', verbose=1, save_best_only=True)"
   ]
  },
  {
   "cell_type": "code",
   "execution_count": 58,
   "id": "36a765c4-99da-456e-a1d8-035c3eb4a88c",
   "metadata": {},
   "outputs": [
    {
     "name": "stdout",
     "output_type": "stream",
     "text": [
      "Epoch 1/15\n",
      "100/100 [==============================] - 11s 76ms/step - loss: 0.5657 - acc: 0.7127 - val_loss: 0.4224 - val_acc: 0.7996\n",
      "\n",
      "Epoch 00001: val_acc improved from -inf to 0.79960, saving model to best_model.h5\n",
      "Epoch 2/15\n",
      "100/100 [==============================] - 6s 59ms/step - loss: 0.3211 - acc: 0.8707 - val_loss: 0.3685 - val_acc: 0.8403\n",
      "\n",
      "Epoch 00002: val_acc improved from 0.79960 to 0.84035, saving model to best_model.h5\n",
      "Epoch 3/15\n",
      "100/100 [==============================] - 6s 58ms/step - loss: 0.2339 - acc: 0.9086 - val_loss: 0.3631 - val_acc: 0.8457\n",
      "\n",
      "Epoch 00003: val_acc improved from 0.84035 to 0.84569, saving model to best_model.h5\n",
      "Epoch 4/15\n",
      "100/100 [==============================] - 6s 64ms/step - loss: 0.1827 - acc: 0.9233 - val_loss: 0.3740 - val_acc: 0.8437\n",
      "\n",
      "Epoch 00004: val_acc did not improve from 0.84569\n",
      "Epoch 5/15\n",
      "100/100 [==============================] - 6s 61ms/step - loss: 0.1528 - acc: 0.9395 - val_loss: 0.4343 - val_acc: 0.8524\n",
      "\n",
      "Epoch 00005: val_acc improved from 0.84569 to 0.85237, saving model to best_model.h5\n",
      "Epoch 6/15\n",
      "100/100 [==============================] - 6s 64ms/step - loss: 0.1246 - acc: 0.9532 - val_loss: 0.5011 - val_acc: 0.8457\n",
      "\n",
      "Epoch 00006: val_acc did not improve from 0.85237\n",
      "Epoch 7/15\n",
      "100/100 [==============================] - 6s 60ms/step - loss: 0.1056 - acc: 0.9591 - val_loss: 0.5290 - val_acc: 0.8390\n",
      "\n",
      "Epoch 00007: val_acc did not improve from 0.85237\n",
      "Epoch 00007: early stopping\n"
     ]
    }
   ],
   "source": [
    "lstm_model.compile(optimizer='rmsprop', loss='binary_crossentropy', metrics=['acc'])\n",
    "lstm_history = lstm_model.fit(X_train, y_train, epochs=15, callbacks=[es, mc_lstm], batch_size=60, validation_split=0.2)"
   ]
  },
  {
   "cell_type": "code",
   "execution_count": 59,
   "id": "45dbc264-ed04-4e16-bc37-fc3a296d4f2d",
   "metadata": {},
   "outputs": [
    {
     "name": "stdout",
     "output_type": "stream",
     "text": [
      "78/78 [==============================] - 2s 16ms/step - loss: 0.4659 - acc: 0.8396\n",
      "\n",
      " 테스트 정확도: 0.8396\n"
     ]
    }
   ],
   "source": [
    "lstm_loaded_model = load_model('best_model.h5')\n",
    "print(\"\\n 테스트 정확도: %.4f\" % (lstm_loaded_model.evaluate(X_valid, y_valid)[1]))"
   ]
  },
  {
   "cell_type": "code",
   "execution_count": 60,
   "id": "6f355835-1626-49d2-b2c8-9a8bd7d4e640",
   "metadata": {},
   "outputs": [],
   "source": [
    "# def preprocess_text(new_sentence):\n",
    "#     new_sentence = okt.morphs(new_sentence, stem=True) # 토큰화\n",
    "#     new_sentence = [word for word in new_sentence if not word in stopwords] # 불용어 제거\n",
    "#     encoded = tokenizer.texts_to_sequences([new_sentence]) # 정수 인코딩\n",
    "#     pad_new = pad_sequences(encoded, maxlen = max_len) # 패딩\n",
    "#     return pad_new"
   ]
  },
  {
   "cell_type": "code",
   "execution_count": 61,
   "id": "c1099dab-84ce-44ed-8413-16671d328024",
   "metadata": {},
   "outputs": [],
   "source": [
    "def lstm_predict(new_sentence):\n",
    "  processed_text = preprocess_text(new_sentence)\n",
    "  score = float(lstm_loaded_model.predict(processed_text)) # 예측\n",
    "  if(score > 0.5):\n",
    "    print(\"{:.2f}% 확률로 악의적인 글입니다.\\n\".format(score * 100))\n",
    "  else:\n",
    "    print(\"{:.2f}% 확률로 악의적인 글이 아닙니다.\\n\".format((1 - score) * 100))"
   ]
  },
  {
   "cell_type": "code",
   "execution_count": 62,
   "id": "cde8b35e-e15c-48de-8519-f66501c89c74",
   "metadata": {},
   "outputs": [
    {
     "name": "stdout",
     "output_type": "stream",
     "text": [
      "97.10% 확률로 악의적인 글이 아닙니다.\n",
      "\n"
     ]
    }
   ],
   "source": [
    "lstm_predict('못된 넘들...남의 고통을 즐겼던 넘들..이젠 마땅한 처벌을 받아야지')"
   ]
  },
  {
   "cell_type": "code",
   "execution_count": 63,
   "id": "66e29bf0-f1b2-4962-ae5a-c8a84bc0e33b",
   "metadata": {},
   "outputs": [
    {
     "name": "stdout",
     "output_type": "stream",
     "text": [
      "99.99% 확률로 악의적인 글입니다.\n",
      "\n"
     ]
    }
   ],
   "source": [
    "lstm_predict(\"개소리야 니가 빨갱이를 옹호하고 드루킹을 ㅇㅇ짓이라고 말못해서 삐진거야 빨갱아\")"
   ]
  },
  {
   "cell_type": "code",
   "execution_count": 64,
   "id": "fcbbf3b9-5200-473a-b82c-25291a23bcac",
   "metadata": {},
   "outputs": [
    {
     "name": "stdout",
     "output_type": "stream",
     "text": [
      "99.95% 확률로 악의적인 글이 아닙니다.\n",
      "\n"
     ]
    }
   ],
   "source": [
    "lstm_predict('이 영화 핵노잼 ㅠㅠ')"
   ]
  },
  {
   "cell_type": "code",
   "execution_count": 65,
   "id": "570ce89f-dce7-40de-99aa-9a60f45d8e3e",
   "metadata": {},
   "outputs": [
    {
     "name": "stdout",
     "output_type": "stream",
     "text": [
      "91.06% 확률로 악의적인 글입니다.\n",
      "\n"
     ]
    }
   ],
   "source": [
    "lstm_predict('이딴게 영화냐 ㅉㅉ')"
   ]
  },
  {
   "cell_type": "markdown",
   "id": "8d026d8b-2532-4fc9-bfe2-43e95a03872b",
   "metadata": {},
   "source": [
    "3. GRU"
   ]
  },
  {
   "cell_type": "markdown",
   "id": "fa02c30f-1c95-41e2-a2d8-a59f939e39c9",
   "metadata": {},
   "source": [
    "*Embedding : Embedding()은 두 개의 인자를 받는데, 첫번째 인자는 단어 집합의 크기이며 두번째 인자는 임베딩 후의 벡터 크기입니다. 여기서는 100을 선택했습니다. 즉, 입력 데이터에서 모든 단어는 100차원의 임베딩 벡터로 표현됩니다."
   ]
  },
  {
   "cell_type": "code",
   "execution_count": 66,
   "id": "57f220f9-5a02-4882-b360-4810777d0d8c",
   "metadata": {},
   "outputs": [],
   "source": [
    "from tensorflow.keras.layers import Dense, GRU\n",
    "\n",
    "gru_model = Sequential()\n",
    "gru_model.add(Embedding(vocab_size, 100))\n",
    "gru_model.add(GRU(128))\n",
    "gru_model.add(Dense(1, activation='sigmoid'))"
   ]
  },
  {
   "cell_type": "code",
   "execution_count": 67,
   "id": "9ebd5bc5-4492-40d1-9c96-43d9c8553f9d",
   "metadata": {},
   "outputs": [],
   "source": [
    "es = EarlyStopping(monitor='val_loss', mode='min', verbose=1, patience=4)\n",
    "mc_gru = ModelCheckpoint('GRU_model.h5', monitor='val_acc', mode='max', verbose=1, save_best_only=True)"
   ]
  },
  {
   "cell_type": "code",
   "execution_count": 68,
   "id": "ef3ef447-2164-4fba-8588-f588594f9641",
   "metadata": {},
   "outputs": [
    {
     "ename": "NameError",
     "evalue": "name 'model' is not defined",
     "output_type": "error",
     "traceback": [
      "\u001b[1;31m---------------------------------------------------------------------------\u001b[0m",
      "\u001b[1;31mNameError\u001b[0m                                 Traceback (most recent call last)",
      "\u001b[1;32m<ipython-input-68-076952700140>\u001b[0m in \u001b[0;36m<module>\u001b[1;34m\u001b[0m\n\u001b[0;32m      1\u001b[0m \u001b[0mgru_model\u001b[0m\u001b[1;33m.\u001b[0m\u001b[0mcompile\u001b[0m\u001b[1;33m(\u001b[0m\u001b[0moptimizer\u001b[0m\u001b[1;33m=\u001b[0m\u001b[1;34m'rmsprop'\u001b[0m\u001b[1;33m,\u001b[0m \u001b[0mloss\u001b[0m\u001b[1;33m=\u001b[0m\u001b[1;34m'binary_crossentropy'\u001b[0m\u001b[1;33m,\u001b[0m \u001b[0mmetrics\u001b[0m\u001b[1;33m=\u001b[0m\u001b[1;33m[\u001b[0m\u001b[1;34m'acc'\u001b[0m\u001b[1;33m]\u001b[0m\u001b[1;33m)\u001b[0m\u001b[1;33m\u001b[0m\u001b[1;33m\u001b[0m\u001b[0m\n\u001b[1;32m----> 2\u001b[1;33m \u001b[0mgru_history\u001b[0m \u001b[1;33m=\u001b[0m \u001b[0mmodel\u001b[0m\u001b[1;33m.\u001b[0m\u001b[0mfit\u001b[0m\u001b[1;33m(\u001b[0m\u001b[0mX_train\u001b[0m\u001b[1;33m,\u001b[0m \u001b[0my_train\u001b[0m\u001b[1;33m,\u001b[0m \u001b[0mepochs\u001b[0m\u001b[1;33m=\u001b[0m\u001b[1;36m15\u001b[0m\u001b[1;33m,\u001b[0m \u001b[0mcallbacks\u001b[0m\u001b[1;33m=\u001b[0m\u001b[1;33m[\u001b[0m\u001b[0mes\u001b[0m\u001b[1;33m,\u001b[0m \u001b[0mmc_gru\u001b[0m\u001b[1;33m]\u001b[0m\u001b[1;33m,\u001b[0m \u001b[0mbatch_size\u001b[0m\u001b[1;33m=\u001b[0m\u001b[1;36m60\u001b[0m\u001b[1;33m,\u001b[0m \u001b[0mvalidation_split\u001b[0m\u001b[1;33m=\u001b[0m\u001b[1;36m0.2\u001b[0m\u001b[1;33m)\u001b[0m\u001b[1;33m\u001b[0m\u001b[1;33m\u001b[0m\u001b[0m\n\u001b[0m",
      "\u001b[1;31mNameError\u001b[0m: name 'model' is not defined"
     ]
    }
   ],
   "source": [
    "gru_model.compile(optimizer='rmsprop', loss='binary_crossentropy', metrics=['acc'])\n",
    "gru_history = gru_model.fit(X_train, y_train, epochs=15, callbacks=[es, mc_gru], batch_size=60, validation_split=0.2)"
   ]
  },
  {
   "cell_type": "code",
   "execution_count": null,
   "id": "823aad31-40fb-4247-89e3-cfefc6488d81",
   "metadata": {},
   "outputs": [],
   "source": [
    "gru_loaded_model = load_model('GRU_model.h5')\n",
    "print(\"\\n 테스트 정확도: %.4f\" % (gru_loaded_model.evaluate(X_valid, y_valid)[1]))"
   ]
  },
  {
   "cell_type": "code",
   "execution_count": null,
   "id": "383c2d7e-a480-402a-8c7d-53b2ebdd4e76",
   "metadata": {},
   "outputs": [],
   "source": []
  }
 ],
 "metadata": {
  "kernelspec": {
   "display_name": "Python 3",
   "language": "python",
   "name": "python3"
  },
  "language_info": {
   "codemirror_mode": {
    "name": "ipython",
    "version": 3
   },
   "file_extension": ".py",
   "mimetype": "text/x-python",
   "name": "python",
   "nbconvert_exporter": "python",
   "pygments_lexer": "ipython3",
   "version": "3.9.0"
  }
 },
 "nbformat": 4,
 "nbformat_minor": 5
}
